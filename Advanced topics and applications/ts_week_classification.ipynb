{
 "cells": [
  {
   "cell_type": "code",
   "execution_count": 1,
   "metadata": {},
   "outputs": [],
   "source": [
    "%matplotlib inline\n",
    "%matplotlib inline\n",
    "\n",
    "import numpy as np\n",
    "import pandas as pd\n",
    "import matplotlib.pyplot as plt\n",
    "import time\n",
    "from collections import defaultdict\n",
    "import random\n",
    "import matplotlib.pyplot as plt\n",
    "import matplotlib.dates as mdates\n",
    "from matplotlib.dates import DateFormatter\n",
    "#plt.rcParams['figure.dpi']= 300  #resolution\n",
    "\n",
    "from collections import defaultdict"
   ]
  },
  {
   "cell_type": "code",
   "execution_count": 2,
   "metadata": {},
   "outputs": [],
   "source": [
    "def draw_list(ts_list, attribute, ts_number=1000, time = None , formatter = None):\n",
    "    if ts_number >= len(ts_list): ts_number = len(ts_list)-1\n",
    "    fig = plt.figure()\n",
    "    ax = fig.subplots()\n",
    "    for ts in ts_list[:ts_number]:\n",
    "        if time == None: index = list(ts.index.values)\n",
    "        else: index= ts[time]\n",
    "        ax.plot(index, ts[attribute])\n",
    "    ax.set_ylabel(attribute)\n",
    "    if formatter !=None:\n",
    "        date_form = DateFormatter(formatter)\n",
    "        ax.xaxis.set_major_formatter(date_form)\n",
    "    plt.show()"
   ]
  },
  {
   "cell_type": "markdown",
   "metadata": {},
   "source": [
    "# Data Preparation"
   ]
  },
  {
   "cell_type": "code",
   "execution_count": 3,
   "metadata": {},
   "outputs": [],
   "source": [
    "time_col = 'date'\n",
    "\n",
    "attributes = ['date', 'Temperature', 'Humidity', 'Light', 'CO2', 'HumidityRatio', 'Occupancy']\n",
    "\n",
    "\n",
    "df=pd.read_csv(r'/Users/Cava/Desktop/University/Data Science & Business Informatics/Data Mining/Advanced Topics and Applications/Project/data/datatraining.txt')\n",
    "df[time_col] =  pd.to_datetime(df[time_col], format = '%Y-%m-%d %H:%M:%S')\n",
    "df['Weekday']=df[time_col].apply(lambda x:x.weekday())\n",
    "\n",
    "mon1=df[df['Weekday']==0][attributes].copy()\n",
    "tue1=df[df['Weekday']==1][attributes].copy()  #missing part of the day\n",
    "wed1=df[df['Weekday']==2][attributes].copy() #incompleted too\n",
    "thu1=df[df['Weekday']==3][attributes].copy()\n",
    "fri1=df[df['Weekday']==4][attributes].copy()\n",
    "sat1=df[df['Weekday']==5][attributes].copy()\n",
    "sun1=df[df['Weekday']==6][attributes].copy()\n",
    "    \n",
    "weekdays1 = [thu1,fri1,sat1,sun1,mon1] #I dont want incompleted days, so wednesday and tuesday are excluded\n",
    "\n",
    "\n",
    "\n",
    "df=pd.read_csv(r'/Users/Cava/Desktop/University/Data Science & Business Informatics/Data Mining/Advanced Topics and Applications/Project/data/datatest2.txt')\n",
    "df[time_col] =  pd.to_datetime(df[time_col], format = '%Y-%m-%d %H:%M:%S')\n",
    "df['Weekday']=df[time_col].apply(lambda x:x.weekday())\n",
    "                                 \n",
    "mon2=df[df['Weekday']==0][attributes].copy()\n",
    "tue2=df[df['Weekday']==1][attributes].copy()  #missing part of the day\n",
    "wed2=df[df['Weekday']==2][attributes].copy() #incompleted too\n",
    "thu2=df[df['Weekday']==3][attributes].copy()\n",
    "fri2=df[df['Weekday']==4][attributes].copy()\n",
    "sat2=df[df['Weekday']==5][attributes].copy()\n",
    "sun2=df[df['Weekday']==6][attributes].copy()\n",
    "    \n",
    "weekdays2 = [thu2,fri2,sat2,sun2,mon2] #I dont want incompleted days, so wednesday and tuesday are excluded\n"
   ]
  },
  {
   "cell_type": "markdown",
   "metadata": {},
   "source": [
    "## week list"
   ]
  },
  {
   "cell_type": "code",
   "execution_count": 4,
   "metadata": {},
   "outputs": [
    {
     "data": {
      "image/png": "[encoded data removed]",
      "text/plain": [
       "<Figure size 432x288 with 1 Axes>"
      ]
     },
     "metadata": {
      "needs_background": "light"
     },
     "output_type": "display_data"
    }
   ],
   "source": [
    "week_size = 144\n",
    "week_list = []\n",
    "labels = []\n",
    "\n",
    "week1 = pd.DataFrame()\n",
    "for day in weekdays1:\n",
    "    day.sort_values(time_col, inplace=True)#first of all: order\n",
    "    week1 = week1.append(day, ignore_index=True )    ##a week\n",
    "    \n",
    "    \n",
    "week1_list = []\n",
    "tmp = week1.copy() \n",
    "while(len(tmp)>=week_size):\n",
    "    ts = tmp.sample(week_size)\n",
    "    ts.sort_values(time_col, inplace=True)\n",
    "    week1_list.append(ts)\n",
    "    week_list.append(ts)\n",
    "    tmp.drop(ts.index, axis=0, inplace=True) #remove the sample just extract\n",
    "\n",
    "    \n",
    "week2 = pd.DataFrame()\n",
    "for day in weekdays2:    \n",
    "    day.sort_values(time_col, inplace=True)#first of all: order\n",
    "    week2 = week2.append(day, ignore_index=True)    ##a week\n",
    "    \n",
    "week2_list = []\n",
    "tmp = week2.copy() \n",
    "while(len(tmp)>=week_size):\n",
    "    ts = tmp.sample(week_size)\n",
    "    ts.sort_values(time_col, inplace=True)\n",
    "    week2_list.append(ts)\n",
    "    week_list.append(ts)\n",
    "    tmp.drop(ts.index, axis=0, inplace=True) #remove the sample just extract\n",
    "\n",
    "    \n",
    "random.shuffle(week_list)\n",
    "draw_list(week_list, 'CO2', 15, time = time_col ,formatter = '%d')"
   ]
  },
  {
   "cell_type": "code",
   "execution_count": 5,
   "metadata": {},
   "outputs": [
    {
     "data": {
      "text/plain": [
       "(100, 144)"
      ]
     },
     "execution_count": 5,
     "metadata": {},
     "output_type": "execute_result"
    }
   ],
   "source": [
    "ts_list = []\n",
    "for temp in week_list:\n",
    "    ts = temp['Temperature'].copy()\n",
    "    ts_list.append((ts-ts.mean())/ts.std())\n",
    "\n",
    "ts_array = []\n",
    "ts_size = len(week_list[1])\n",
    "for ts in ts_list:\n",
    "    ts_array.append(np.array(ts).reshape(ts_size,))\n",
    "    \n",
    "X = np.array(ts_array)\n",
    "week1o2 = lambda ts : 0 if ts['date'][ts.index[0]].day == 12 else 1\n",
    "labels = [week1o2(ts) for ts in week_list]\n",
    "y = labels.copy()\n",
    "X.shape"
   ]
  },
  {
   "cell_type": "markdown",
   "metadata": {},
   "source": [
    "# Data Normalization"
   ]
  },
  {
   "cell_type": "code",
   "execution_count": 6,
   "metadata": {},
   "outputs": [
    {
     "name": "stderr",
     "output_type": "stream",
     "text": [
      "Using Theano backend.\n",
      "/opt/anaconda3/lib/python3.7/site-packages/sklearn/utils/deprecation.py:143: FutureWarning: The sklearn.cluster.k_means_ module is  deprecated in version 0.22 and will be removed in version 0.24. The corresponding classes / functions should instead be imported from sklearn.cluster. Anything that cannot be imported from sklearn.cluster is now part of the private API.\n",
      "  warnings.warn(message, FutureWarning)\n"
     ]
    }
   ],
   "source": [
    "from keras.optimizers import Adagrad\n",
    "from tslearn.shapelets import ShapeletModel\n",
    "from tslearn.shapelets import grabocka_params_to_shapelet_size_dict\n",
    "\n",
    "from tslearn.preprocessing import TimeSeriesScalerMinMax\n",
    "\n",
    "from sklearn.metrics import accuracy_score, f1_score, classification_report\n",
    "from sklearn.metrics import roc_curve, auc, roc_auc_score\n",
    "from sklearn.model_selection import train_test_split, cross_val_score "
   ]
  },
  {
   "cell_type": "code",
   "execution_count": 7,
   "metadata": {},
   "outputs": [],
   "source": [
    "scaler = TimeSeriesScalerMinMax()\n",
    "X = scaler.fit_transform(X).reshape(X.shape[0], X.shape[1])"
   ]
  },
  {
   "cell_type": "markdown",
   "metadata": {},
   "source": [
    "# Data Partitioning"
   ]
  },
  {
   "cell_type": "code",
   "execution_count": 8,
   "metadata": {},
   "outputs": [],
   "source": [
    "from sklearn.model_selection import train_test_split, cross_val_score \n",
    "\n",
    "from sklearn.metrics import accuracy_score, f1_score, classification_report\n",
    "from sklearn.metrics import roc_curve, auc, roc_auc_score"
   ]
  },
  {
   "cell_type": "code",
   "execution_count": 9,
   "metadata": {},
   "outputs": [],
   "source": [
    "X_train, X_test, y_train, y_test = train_test_split(X, y, test_size=0.3, random_state=100, stratify=y)"
   ]
  },
  {
   "cell_type": "markdown",
   "metadata": {},
   "source": [
    "# Shaplet Classifier"
   ]
  },
  {
   "cell_type": "code",
   "execution_count": 10,
   "metadata": {},
   "outputs": [
    {
     "name": "stdout",
     "output_type": "stream",
     "text": [
      "n_ts 70\n",
      "ts_sz 144\n",
      "n_classes 2\n",
      "shapelet_sizes {14: 3}\n"
     ]
    }
   ],
   "source": [
    "n_ts, ts_sz = X_train.shape\n",
    "n_classes = len(set(y))\n",
    "\n",
    "# Set the number of shapelets per size as done in the original paper\n",
    "shapelet_sizes = grabocka_params_to_shapelet_size_dict(n_ts=n_ts,\n",
    "                                                       ts_sz=ts_sz,\n",
    "                                                       n_classes=n_classes,\n",
    "                                                       l=0.1,\n",
    "                                                       r=1)\n",
    "\n",
    "print('n_ts', n_ts)\n",
    "print('ts_sz', ts_sz)\n",
    "print('n_classes', n_classes)\n",
    "print('shapelet_sizes', shapelet_sizes)"
   ]
  },
  {
   "cell_type": "code",
   "execution_count": 11,
   "metadata": {},
   "outputs": [],
   "source": [
    "# Define the model using parameters provided by the authors (except that we use\n",
    "# fewer iterations here)\n",
    "shp_clf = ShapeletModel(n_shapelets_per_size=shapelet_sizes,\n",
    "                        optimizer=\"sgd\",\n",
    "                        weight_regularizer=.01,\n",
    "                        max_iter=200,\n",
    "                        verbose=1)"
   ]
  },
  {
   "cell_type": "code",
   "execution_count": 12,
   "metadata": {},
   "outputs": [
    {
     "name": "stdout",
     "output_type": "stream",
     "text": [
      "Epoch 1/200\n",
      "70/70 [==============================] - 0s 86us/step - loss: 0.7181 - binary_accuracy: 0.5000 - binary_crossentropy: 0.6933\n",
      "Epoch 2/200\n",
      "70/70 [==============================] - 0s 48us/step - loss: 0.7181 - binary_accuracy: 0.5000 - binary_crossentropy: 0.6933\n",
      "Epoch 3/200\n",
      "70/70 [==============================] - 0s 48us/step - loss: 0.7181 - binary_accuracy: 0.5000 - binary_crossentropy: 0.6933\n",
      "Epoch 4/200\n",
      "70/70 [==============================] - 0s 49us/step - loss: 0.7181 - binary_accuracy: 0.5000 - binary_crossentropy: 0.6933\n",
      "Epoch 5/200\n",
      "70/70 [==============================] - 0s 41us/step - loss: 0.7180 - binary_accuracy: 0.5000 - binary_crossentropy: 0.6933\n",
      "Epoch 6/200\n",
      "70/70 [==============================] - 0s 42us/step - loss: 0.7180 - binary_accuracy: 0.5000 - binary_crossentropy: 0.6933\n",
      "Epoch 7/200\n",
      "70/70 [==============================] - 0s 47us/step - loss: 0.7180 - binary_accuracy: 0.5000 - binary_crossentropy: 0.6933\n",
      "Epoch 8/200\n",
      "70/70 [==============================] - 0s 38us/step - loss: 0.7180 - binary_accuracy: 0.5000 - binary_crossentropy: 0.6933\n",
      "Epoch 9/200\n",
      "70/70 [==============================] - 0s 44us/step - loss: 0.7180 - binary_accuracy: 0.5000 - binary_crossentropy: 0.6933\n",
      "Epoch 10/200\n",
      "70/70 [==============================] - 0s 39us/step - loss: 0.7180 - binary_accuracy: 0.5000 - binary_crossentropy: 0.6933\n",
      "Epoch 11/200\n",
      "70/70 [==============================] - 0s 42us/step - loss: 0.7180 - binary_accuracy: 0.5000 - binary_crossentropy: 0.6933\n",
      "Epoch 12/200\n",
      "70/70 [==============================] - 0s 42us/step - loss: 0.7180 - binary_accuracy: 0.5000 - binary_crossentropy: 0.6933\n",
      "Epoch 13/200\n",
      "70/70 [==============================] - 0s 48us/step - loss: 0.7180 - binary_accuracy: 0.5000 - binary_crossentropy: 0.6933\n",
      "Epoch 14/200\n",
      "70/70 [==============================] - 0s 47us/step - loss: 0.7180 - binary_accuracy: 0.5000 - binary_crossentropy: 0.6933\n",
      "Epoch 15/200\n",
      "70/70 [==============================] - 0s 55us/step - loss: 0.7179 - binary_accuracy: 0.5000 - binary_crossentropy: 0.6933\n",
      "Epoch 16/200\n",
      "70/70 [==============================] - 0s 46us/step - loss: 0.7179 - binary_accuracy: 0.5000 - binary_crossentropy: 0.6933\n",
      "Epoch 17/200\n",
      "70/70 [==============================] - 0s 55us/step - loss: 0.7179 - binary_accuracy: 0.5000 - binary_crossentropy: 0.6933\n",
      "Epoch 18/200\n",
      "70/70 [==============================] - 0s 46us/step - loss: 0.7179 - binary_accuracy: 0.5000 - binary_crossentropy: 0.6933\n",
      "Epoch 19/200\n",
      "70/70 [==============================] - 0s 43us/step - loss: 0.7179 - binary_accuracy: 0.5000 - binary_crossentropy: 0.6933\n",
      "Epoch 20/200\n",
      "70/70 [==============================] - 0s 45us/step - loss: 0.7179 - binary_accuracy: 0.5000 - binary_crossentropy: 0.6933\n",
      "Epoch 21/200\n",
      "70/70 [==============================] - 0s 47us/step - loss: 0.7179 - binary_accuracy: 0.5000 - binary_crossentropy: 0.6933\n",
      "Epoch 22/200\n",
      "70/70 [==============================] - 0s 41us/step - loss: 0.7179 - binary_accuracy: 0.5000 - binary_crossentropy: 0.6933\n",
      "Epoch 23/200\n",
      "70/70 [==============================] - 0s 49us/step - loss: 0.7179 - binary_accuracy: 0.5000 - binary_crossentropy: 0.6933\n",
      "Epoch 24/200\n",
      "70/70 [==============================] - 0s 53us/step - loss: 0.7179 - binary_accuracy: 0.5000 - binary_crossentropy: 0.6933\n",
      "Epoch 25/200\n",
      "70/70 [==============================] - 0s 56us/step - loss: 0.7178 - binary_accuracy: 0.5000 - binary_crossentropy: 0.6933\n",
      "Epoch 26/200\n",
      "70/70 [==============================] - 0s 51us/step - loss: 0.7178 - binary_accuracy: 0.5000 - binary_crossentropy: 0.6933\n",
      "Epoch 27/200\n",
      "70/70 [==============================] - 0s 47us/step - loss: 0.7178 - binary_accuracy: 0.5000 - binary_crossentropy: 0.6933\n",
      "Epoch 28/200\n",
      "70/70 [==============================] - 0s 46us/step - loss: 0.7178 - binary_accuracy: 0.5000 - binary_crossentropy: 0.6933\n",
      "Epoch 29/200\n",
      "70/70 [==============================] - 0s 47us/step - loss: 0.7178 - binary_accuracy: 0.5000 - binary_crossentropy: 0.6933\n",
      "Epoch 30/200\n",
      "70/70 [==============================] - 0s 41us/step - loss: 0.7178 - binary_accuracy: 0.5000 - binary_crossentropy: 0.6933\n",
      "Epoch 31/200\n",
      "70/70 [==============================] - 0s 47us/step - loss: 0.7178 - binary_accuracy: 0.5000 - binary_crossentropy: 0.6933\n",
      "Epoch 32/200\n",
      "70/70 [==============================] - 0s 38us/step - loss: 0.7178 - binary_accuracy: 0.5000 - binary_crossentropy: 0.6933\n",
      "Epoch 33/200\n",
      "70/70 [==============================] - 0s 44us/step - loss: 0.7178 - binary_accuracy: 0.5000 - binary_crossentropy: 0.6933\n",
      "Epoch 34/200\n",
      "70/70 [==============================] - 0s 42us/step - loss: 0.7178 - binary_accuracy: 0.5000 - binary_crossentropy: 0.6933\n",
      "Epoch 35/200\n",
      "70/70 [==============================] - 0s 44us/step - loss: 0.7177 - binary_accuracy: 0.5000 - binary_crossentropy: 0.6933\n",
      "Epoch 36/200\n",
      "70/70 [==============================] - 0s 48us/step - loss: 0.7177 - binary_accuracy: 0.5000 - binary_crossentropy: 0.6933\n",
      "Epoch 37/200\n",
      "70/70 [==============================] - 0s 47us/step - loss: 0.7177 - binary_accuracy: 0.5000 - binary_crossentropy: 0.6933\n",
      "Epoch 38/200\n",
      "70/70 [==============================] - 0s 52us/step - loss: 0.7177 - binary_accuracy: 0.5000 - binary_crossentropy: 0.6933\n",
      "Epoch 39/200\n",
      "70/70 [==============================] - 0s 46us/step - loss: 0.7177 - binary_accuracy: 0.5000 - binary_crossentropy: 0.6933\n",
      "Epoch 40/200\n",
      "70/70 [==============================] - 0s 40us/step - loss: 0.7177 - binary_accuracy: 0.5000 - binary_crossentropy: 0.6933\n",
      "Epoch 41/200\n",
      "70/70 [==============================] - 0s 39us/step - loss: 0.7177 - binary_accuracy: 0.5000 - binary_crossentropy: 0.6933\n",
      "Epoch 42/200\n",
      "70/70 [==============================] - 0s 39us/step - loss: 0.7177 - binary_accuracy: 0.5000 - binary_crossentropy: 0.6933\n",
      "Epoch 43/200\n",
      "70/70 [==============================] - 0s 43us/step - loss: 0.7177 - binary_accuracy: 0.5000 - binary_crossentropy: 0.6933\n",
      "Epoch 44/200\n",
      "70/70 [==============================] - 0s 47us/step - loss: 0.7177 - binary_accuracy: 0.5000 - binary_crossentropy: 0.6933\n",
      "Epoch 45/200\n",
      "70/70 [==============================] - 0s 45us/step - loss: 0.7176 - binary_accuracy: 0.5000 - binary_crossentropy: 0.6933\n",
      "Epoch 46/200\n",
      "70/70 [==============================] - 0s 41us/step - loss: 0.7176 - binary_accuracy: 0.5000 - binary_crossentropy: 0.6933\n",
      "Epoch 47/200\n",
      "70/70 [==============================] - 0s 45us/step - loss: 0.7176 - binary_accuracy: 0.5000 - binary_crossentropy: 0.6933\n",
      "Epoch 48/200\n",
      "70/70 [==============================] - 0s 48us/step - loss: 0.7176 - binary_accuracy: 0.5000 - binary_crossentropy: 0.6933\n",
      "Epoch 49/200\n",
      "70/70 [==============================] - 0s 48us/step - loss: 0.7176 - binary_accuracy: 0.5000 - binary_crossentropy: 0.6933\n",
      "Epoch 50/200\n",
      "70/70 [==============================] - 0s 66us/step - loss: 0.7176 - binary_accuracy: 0.5000 - binary_crossentropy: 0.6933\n",
      "Epoch 51/200\n",
      "70/70 [==============================] - 0s 52us/step - loss: 0.7176 - binary_accuracy: 0.5000 - binary_crossentropy: 0.6933\n",
      "Epoch 52/200\n",
      "70/70 [==============================] - 0s 58us/step - loss: 0.7176 - binary_accuracy: 0.5000 - binary_crossentropy: 0.6933\n",
      "Epoch 53/200\n",
      "70/70 [==============================] - 0s 59us/step - loss: 0.7176 - binary_accuracy: 0.5000 - binary_crossentropy: 0.6933\n",
      "Epoch 54/200\n",
      "70/70 [==============================] - 0s 54us/step - loss: 0.7176 - binary_accuracy: 0.5000 - binary_crossentropy: 0.6933\n",
      "Epoch 55/200\n",
      "70/70 [==============================] - 0s 55us/step - loss: 0.7175 - binary_accuracy: 0.5000 - binary_crossentropy: 0.6933\n",
      "Epoch 56/200\n",
      "70/70 [==============================] - 0s 68us/step - loss: 0.7175 - binary_accuracy: 0.5000 - binary_crossentropy: 0.6933\n",
      "Epoch 57/200\n",
      "70/70 [==============================] - 0s 79us/step - loss: 0.7175 - binary_accuracy: 0.5000 - binary_crossentropy: 0.6933\n",
      "Epoch 58/200\n",
      "70/70 [==============================] - 0s 72us/step - loss: 0.7175 - binary_accuracy: 0.5000 - binary_crossentropy: 0.6933\n",
      "Epoch 59/200\n",
      "70/70 [==============================] - 0s 65us/step - loss: 0.7175 - binary_accuracy: 0.5000 - binary_crossentropy: 0.6933\n",
      "Epoch 60/200\n",
      "70/70 [==============================] - 0s 67us/step - loss: 0.7175 - binary_accuracy: 0.5000 - binary_crossentropy: 0.6933\n"
     ]
    },
    {
     "name": "stdout",
     "output_type": "stream",
     "text": [
      "Epoch 61/200\n",
      "70/70 [==============================] - 0s 61us/step - loss: 0.7175 - binary_accuracy: 0.5000 - binary_crossentropy: 0.6933\n",
      "Epoch 62/200\n",
      "70/70 [==============================] - 0s 67us/step - loss: 0.7175 - binary_accuracy: 0.5000 - binary_crossentropy: 0.6933\n",
      "Epoch 63/200\n",
      "70/70 [==============================] - 0s 49us/step - loss: 0.7175 - binary_accuracy: 0.5000 - binary_crossentropy: 0.6932\n",
      "Epoch 64/200\n",
      "70/70 [==============================] - 0s 46us/step - loss: 0.7175 - binary_accuracy: 0.5000 - binary_crossentropy: 0.6932\n",
      "Epoch 65/200\n",
      "70/70 [==============================] - 0s 49us/step - loss: 0.7174 - binary_accuracy: 0.5000 - binary_crossentropy: 0.6932\n",
      "Epoch 66/200\n",
      "70/70 [==============================] - 0s 59us/step - loss: 0.7174 - binary_accuracy: 0.5000 - binary_crossentropy: 0.6932\n",
      "Epoch 67/200\n",
      "70/70 [==============================] - 0s 64us/step - loss: 0.7174 - binary_accuracy: 0.5000 - binary_crossentropy: 0.6932\n",
      "Epoch 68/200\n",
      "70/70 [==============================] - 0s 47us/step - loss: 0.7174 - binary_accuracy: 0.5000 - binary_crossentropy: 0.6932\n",
      "Epoch 69/200\n",
      "70/70 [==============================] - 0s 48us/step - loss: 0.7174 - binary_accuracy: 0.5000 - binary_crossentropy: 0.6932\n",
      "Epoch 70/200\n",
      "70/70 [==============================] - 0s 66us/step - loss: 0.7174 - binary_accuracy: 0.5000 - binary_crossentropy: 0.6932\n",
      "Epoch 71/200\n",
      "70/70 [==============================] - 0s 49us/step - loss: 0.7174 - binary_accuracy: 0.5000 - binary_crossentropy: 0.6932\n",
      "Epoch 72/200\n",
      "70/70 [==============================] - 0s 47us/step - loss: 0.7174 - binary_accuracy: 0.5000 - binary_crossentropy: 0.6932\n",
      "Epoch 73/200\n",
      "70/70 [==============================] - 0s 45us/step - loss: 0.7174 - binary_accuracy: 0.5000 - binary_crossentropy: 0.6932\n",
      "Epoch 74/200\n",
      "70/70 [==============================] - 0s 41us/step - loss: 0.7174 - binary_accuracy: 0.5000 - binary_crossentropy: 0.6932\n",
      "Epoch 75/200\n",
      "70/70 [==============================] - 0s 45us/step - loss: 0.7173 - binary_accuracy: 0.5000 - binary_crossentropy: 0.6932\n",
      "Epoch 76/200\n",
      "70/70 [==============================] - 0s 58us/step - loss: 0.7173 - binary_accuracy: 0.5000 - binary_crossentropy: 0.6932\n",
      "Epoch 77/200\n",
      "70/70 [==============================] - 0s 44us/step - loss: 0.7173 - binary_accuracy: 0.5000 - binary_crossentropy: 0.6932\n",
      "Epoch 78/200\n",
      "70/70 [==============================] - 0s 57us/step - loss: 0.7173 - binary_accuracy: 0.5000 - binary_crossentropy: 0.6932\n",
      "Epoch 79/200\n",
      "70/70 [==============================] - 0s 76us/step - loss: 0.7173 - binary_accuracy: 0.5000 - binary_crossentropy: 0.6932\n",
      "Epoch 80/200\n",
      "70/70 [==============================] - 0s 45us/step - loss: 0.7173 - binary_accuracy: 0.5000 - binary_crossentropy: 0.6932\n",
      "Epoch 81/200\n",
      "70/70 [==============================] - 0s 43us/step - loss: 0.7173 - binary_accuracy: 0.5000 - binary_crossentropy: 0.6932\n",
      "Epoch 82/200\n",
      "70/70 [==============================] - 0s 51us/step - loss: 0.7173 - binary_accuracy: 0.5000 - binary_crossentropy: 0.6932\n",
      "Epoch 83/200\n",
      "70/70 [==============================] - 0s 45us/step - loss: 0.7173 - binary_accuracy: 0.5000 - binary_crossentropy: 0.6932\n",
      "Epoch 84/200\n",
      "70/70 [==============================] - 0s 54us/step - loss: 0.7173 - binary_accuracy: 0.5000 - binary_crossentropy: 0.6932\n",
      "Epoch 85/200\n",
      "70/70 [==============================] - 0s 59us/step - loss: 0.7172 - binary_accuracy: 0.5000 - binary_crossentropy: 0.6932\n",
      "Epoch 86/200\n",
      "70/70 [==============================] - 0s 56us/step - loss: 0.7172 - binary_accuracy: 0.5000 - binary_crossentropy: 0.6932\n",
      "Epoch 87/200\n",
      "70/70 [==============================] - 0s 56us/step - loss: 0.7172 - binary_accuracy: 0.5000 - binary_crossentropy: 0.6932\n",
      "Epoch 88/200\n",
      "70/70 [==============================] - 0s 54us/step - loss: 0.7172 - binary_accuracy: 0.5000 - binary_crossentropy: 0.6932\n",
      "Epoch 89/200\n",
      "70/70 [==============================] - 0s 65us/step - loss: 0.7172 - binary_accuracy: 0.5000 - binary_crossentropy: 0.6932\n",
      "Epoch 90/200\n",
      "70/70 [==============================] - 0s 59us/step - loss: 0.7172 - binary_accuracy: 0.5000 - binary_crossentropy: 0.6932\n",
      "Epoch 91/200\n",
      "70/70 [==============================] - 0s 49us/step - loss: 0.7172 - binary_accuracy: 0.5000 - binary_crossentropy: 0.6932\n",
      "Epoch 92/200\n",
      "70/70 [==============================] - 0s 55us/step - loss: 0.7172 - binary_accuracy: 0.5000 - binary_crossentropy: 0.6932\n",
      "Epoch 93/200\n",
      "70/70 [==============================] - 0s 57us/step - loss: 0.7172 - binary_accuracy: 0.5000 - binary_crossentropy: 0.6932\n",
      "Epoch 94/200\n",
      "70/70 [==============================] - 0s 58us/step - loss: 0.7172 - binary_accuracy: 0.5000 - binary_crossentropy: 0.6932\n",
      "Epoch 95/200\n",
      "70/70 [==============================] - 0s 44us/step - loss: 0.7172 - binary_accuracy: 0.5000 - binary_crossentropy: 0.6932\n",
      "Epoch 96/200\n",
      "70/70 [==============================] - 0s 66us/step - loss: 0.7171 - binary_accuracy: 0.5000 - binary_crossentropy: 0.6932\n",
      "Epoch 97/200\n",
      "70/70 [==============================] - 0s 74us/step - loss: 0.7171 - binary_accuracy: 0.5000 - binary_crossentropy: 0.6932\n",
      "Epoch 98/200\n",
      "70/70 [==============================] - 0s 40us/step - loss: 0.7171 - binary_accuracy: 0.5000 - binary_crossentropy: 0.6932\n",
      "Epoch 99/200\n",
      "70/70 [==============================] - 0s 49us/step - loss: 0.7171 - binary_accuracy: 0.5000 - binary_crossentropy: 0.6932\n",
      "Epoch 100/200\n",
      "70/70 [==============================] - 0s 56us/step - loss: 0.7171 - binary_accuracy: 0.5000 - binary_crossentropy: 0.6932\n",
      "Epoch 101/200\n",
      "70/70 [==============================] - 0s 56us/step - loss: 0.7171 - binary_accuracy: 0.5000 - binary_crossentropy: 0.6932\n",
      "Epoch 102/200\n",
      "70/70 [==============================] - 0s 39us/step - loss: 0.7171 - binary_accuracy: 0.5000 - binary_crossentropy: 0.6932\n",
      "Epoch 103/200\n",
      "70/70 [==============================] - 0s 66us/step - loss: 0.7171 - binary_accuracy: 0.5000 - binary_crossentropy: 0.6932\n",
      "Epoch 104/200\n",
      "70/70 [==============================] - 0s 62us/step - loss: 0.7171 - binary_accuracy: 0.5000 - binary_crossentropy: 0.6932\n",
      "Epoch 105/200\n",
      "70/70 [==============================] - 0s 57us/step - loss: 0.7171 - binary_accuracy: 0.5000 - binary_crossentropy: 0.6932\n",
      "Epoch 106/200\n",
      "70/70 [==============================] - 0s 41us/step - loss: 0.7170 - binary_accuracy: 0.5000 - binary_crossentropy: 0.6932\n",
      "Epoch 107/200\n",
      "70/70 [==============================] - 0s 55us/step - loss: 0.7170 - binary_accuracy: 0.5000 - binary_crossentropy: 0.6932\n",
      "Epoch 108/200\n",
      "70/70 [==============================] - 0s 55us/step - loss: 0.7170 - binary_accuracy: 0.5000 - binary_crossentropy: 0.6932\n",
      "Epoch 109/200\n",
      "70/70 [==============================] - 0s 49us/step - loss: 0.7170 - binary_accuracy: 0.5000 - binary_crossentropy: 0.6932\n",
      "Epoch 110/200\n",
      "70/70 [==============================] - 0s 51us/step - loss: 0.7170 - binary_accuracy: 0.5000 - binary_crossentropy: 0.6932\n",
      "Epoch 111/200\n",
      "70/70 [==============================] - 0s 65us/step - loss: 0.7170 - binary_accuracy: 0.5000 - binary_crossentropy: 0.6932\n",
      "Epoch 112/200\n",
      "70/70 [==============================] - 0s 54us/step - loss: 0.7170 - binary_accuracy: 0.5000 - binary_crossentropy: 0.6932\n",
      "Epoch 113/200\n",
      "70/70 [==============================] - 0s 50us/step - loss: 0.7170 - binary_accuracy: 0.5000 - binary_crossentropy: 0.6932\n",
      "Epoch 114/200\n",
      "70/70 [==============================] - 0s 65us/step - loss: 0.7170 - binary_accuracy: 0.5000 - binary_crossentropy: 0.6932\n",
      "Epoch 115/200\n",
      "70/70 [==============================] - 0s 73us/step - loss: 0.7170 - binary_accuracy: 0.5000 - binary_crossentropy: 0.6932\n",
      "Epoch 116/200\n",
      "70/70 [==============================] - 0s 37us/step - loss: 0.7169 - binary_accuracy: 0.5000 - binary_crossentropy: 0.6932\n",
      "Epoch 117/200\n",
      "70/70 [==============================] - 0s 56us/step - loss: 0.7169 - binary_accuracy: 0.5000 - binary_crossentropy: 0.6932\n",
      "Epoch 118/200\n",
      "70/70 [==============================] - 0s 54us/step - loss: 0.7169 - binary_accuracy: 0.5000 - binary_crossentropy: 0.6932\n",
      "Epoch 119/200\n",
      "70/70 [==============================] - 0s 51us/step - loss: 0.7169 - binary_accuracy: 0.5000 - binary_crossentropy: 0.6932\n",
      "Epoch 120/200\n",
      "70/70 [==============================] - 0s 50us/step - loss: 0.7169 - binary_accuracy: 0.5000 - binary_crossentropy: 0.6932\n"
     ]
    },
    {
     "name": "stdout",
     "output_type": "stream",
     "text": [
      "Epoch 121/200\n",
      "70/70 [==============================] - 0s 50us/step - loss: 0.7169 - binary_accuracy: 0.5000 - binary_crossentropy: 0.6932\n",
      "Epoch 122/200\n",
      "70/70 [==============================] - 0s 65us/step - loss: 0.7169 - binary_accuracy: 0.5000 - binary_crossentropy: 0.6932\n",
      "Epoch 123/200\n",
      "70/70 [==============================] - 0s 57us/step - loss: 0.7169 - binary_accuracy: 0.5000 - binary_crossentropy: 0.6932\n",
      "Epoch 124/200\n",
      "70/70 [==============================] - 0s 74us/step - loss: 0.7169 - binary_accuracy: 0.5000 - binary_crossentropy: 0.6932\n",
      "Epoch 125/200\n",
      "70/70 [==============================] - 0s 52us/step - loss: 0.7169 - binary_accuracy: 0.5000 - binary_crossentropy: 0.6932\n",
      "Epoch 126/200\n",
      "70/70 [==============================] - 0s 43us/step - loss: 0.7169 - binary_accuracy: 0.5000 - binary_crossentropy: 0.6932\n",
      "Epoch 127/200\n",
      "70/70 [==============================] - 0s 52us/step - loss: 0.7168 - binary_accuracy: 0.5000 - binary_crossentropy: 0.6932\n",
      "Epoch 128/200\n",
      "70/70 [==============================] - 0s 50us/step - loss: 0.7168 - binary_accuracy: 0.5000 - binary_crossentropy: 0.6932\n",
      "Epoch 129/200\n",
      "70/70 [==============================] - 0s 56us/step - loss: 0.7168 - binary_accuracy: 0.5000 - binary_crossentropy: 0.6932\n",
      "Epoch 130/200\n",
      "70/70 [==============================] - 0s 55us/step - loss: 0.7168 - binary_accuracy: 0.5000 - binary_crossentropy: 0.6932\n",
      "Epoch 131/200\n",
      "70/70 [==============================] - 0s 52us/step - loss: 0.7168 - binary_accuracy: 0.5000 - binary_crossentropy: 0.6932\n",
      "Epoch 132/200\n",
      "70/70 [==============================] - 0s 51us/step - loss: 0.7168 - binary_accuracy: 0.5000 - binary_crossentropy: 0.6932\n",
      "Epoch 133/200\n",
      "70/70 [==============================] - 0s 52us/step - loss: 0.7168 - binary_accuracy: 0.5000 - binary_crossentropy: 0.6932\n",
      "Epoch 134/200\n",
      "70/70 [==============================] - 0s 60us/step - loss: 0.7168 - binary_accuracy: 0.5000 - binary_crossentropy: 0.6932\n",
      "Epoch 135/200\n",
      "70/70 [==============================] - 0s 58us/step - loss: 0.7168 - binary_accuracy: 0.5000 - binary_crossentropy: 0.6932\n",
      "Epoch 136/200\n",
      "70/70 [==============================] - 0s 51us/step - loss: 0.7168 - binary_accuracy: 0.5000 - binary_crossentropy: 0.6932\n",
      "Epoch 137/200\n",
      "70/70 [==============================] - 0s 54us/step - loss: 0.7167 - binary_accuracy: 0.5000 - binary_crossentropy: 0.6932\n",
      "Epoch 138/200\n",
      "70/70 [==============================] - 0s 52us/step - loss: 0.7167 - binary_accuracy: 0.5000 - binary_crossentropy: 0.6932\n",
      "Epoch 139/200\n",
      "70/70 [==============================] - 0s 51us/step - loss: 0.7167 - binary_accuracy: 0.5000 - binary_crossentropy: 0.6932\n",
      "Epoch 140/200\n",
      "70/70 [==============================] - 0s 69us/step - loss: 0.7167 - binary_accuracy: 0.5000 - binary_crossentropy: 0.6932\n",
      "Epoch 141/200\n",
      "70/70 [==============================] - 0s 48us/step - loss: 0.7167 - binary_accuracy: 0.5000 - binary_crossentropy: 0.6932\n",
      "Epoch 142/200\n",
      "70/70 [==============================] - 0s 58us/step - loss: 0.7167 - binary_accuracy: 0.5000 - binary_crossentropy: 0.6932\n",
      "Epoch 143/200\n",
      "70/70 [==============================] - 0s 62us/step - loss: 0.7167 - binary_accuracy: 0.5000 - binary_crossentropy: 0.6932\n",
      "Epoch 144/200\n",
      "70/70 [==============================] - 0s 42us/step - loss: 0.7167 - binary_accuracy: 0.5000 - binary_crossentropy: 0.6932\n",
      "Epoch 145/200\n",
      "70/70 [==============================] - 0s 45us/step - loss: 0.7167 - binary_accuracy: 0.5000 - binary_crossentropy: 0.6932\n",
      "Epoch 146/200\n",
      "70/70 [==============================] - 0s 50us/step - loss: 0.7167 - binary_accuracy: 0.5000 - binary_crossentropy: 0.6932\n",
      "Epoch 147/200\n",
      "70/70 [==============================] - 0s 67us/step - loss: 0.7166 - binary_accuracy: 0.5000 - binary_crossentropy: 0.6932\n",
      "Epoch 148/200\n",
      "70/70 [==============================] - 0s 47us/step - loss: 0.7166 - binary_accuracy: 0.5000 - binary_crossentropy: 0.6932\n",
      "Epoch 149/200\n",
      "70/70 [==============================] - 0s 44us/step - loss: 0.7166 - binary_accuracy: 0.5000 - binary_crossentropy: 0.6932\n",
      "Epoch 150/200\n",
      "70/70 [==============================] - 0s 53us/step - loss: 0.7166 - binary_accuracy: 0.5000 - binary_crossentropy: 0.6932\n",
      "Epoch 151/200\n",
      "70/70 [==============================] - 0s 65us/step - loss: 0.7166 - binary_accuracy: 0.5000 - binary_crossentropy: 0.6932\n",
      "Epoch 152/200\n",
      "70/70 [==============================] - 0s 60us/step - loss: 0.7166 - binary_accuracy: 0.5000 - binary_crossentropy: 0.6932\n",
      "Epoch 153/200\n",
      "70/70 [==============================] - 0s 57us/step - loss: 0.7166 - binary_accuracy: 0.5000 - binary_crossentropy: 0.6932\n",
      "Epoch 154/200\n",
      "70/70 [==============================] - 0s 46us/step - loss: 0.7166 - binary_accuracy: 0.5000 - binary_crossentropy: 0.6932\n",
      "Epoch 155/200\n",
      "70/70 [==============================] - 0s 40us/step - loss: 0.7166 - binary_accuracy: 0.5000 - binary_crossentropy: 0.6932\n",
      "Epoch 156/200\n",
      "70/70 [==============================] - 0s 41us/step - loss: 0.7166 - binary_accuracy: 0.5000 - binary_crossentropy: 0.6932\n",
      "Epoch 157/200\n",
      "70/70 [==============================] - 0s 48us/step - loss: 0.7166 - binary_accuracy: 0.5000 - binary_crossentropy: 0.6932\n",
      "Epoch 158/200\n",
      "70/70 [==============================] - 0s 58us/step - loss: 0.7165 - binary_accuracy: 0.5000 - binary_crossentropy: 0.6932\n",
      "Epoch 159/200\n",
      "70/70 [==============================] - 0s 46us/step - loss: 0.7165 - binary_accuracy: 0.5000 - binary_crossentropy: 0.6932\n",
      "Epoch 160/200\n",
      "70/70 [==============================] - 0s 76us/step - loss: 0.7165 - binary_accuracy: 0.5000 - binary_crossentropy: 0.6932\n",
      "Epoch 161/200\n",
      "70/70 [==============================] - 0s 52us/step - loss: 0.7165 - binary_accuracy: 0.5000 - binary_crossentropy: 0.6932\n",
      "Epoch 162/200\n",
      "70/70 [==============================] - 0s 60us/step - loss: 0.7165 - binary_accuracy: 0.5000 - binary_crossentropy: 0.6932\n",
      "Epoch 163/200\n",
      "70/70 [==============================] - 0s 65us/step - loss: 0.7165 - binary_accuracy: 0.5000 - binary_crossentropy: 0.6932\n",
      "Epoch 164/200\n",
      "70/70 [==============================] - 0s 45us/step - loss: 0.7165 - binary_accuracy: 0.4857 - binary_crossentropy: 0.6932\n",
      "Epoch 165/200\n",
      "70/70 [==============================] - 0s 54us/step - loss: 0.7165 - binary_accuracy: 0.4857 - binary_crossentropy: 0.6932\n",
      "Epoch 166/200\n",
      "70/70 [==============================] - 0s 50us/step - loss: 0.7165 - binary_accuracy: 0.4857 - binary_crossentropy: 0.6932\n",
      "Epoch 167/200\n",
      "70/70 [==============================] - 0s 56us/step - loss: 0.7165 - binary_accuracy: 0.4857 - binary_crossentropy: 0.6932\n",
      "Epoch 168/200\n",
      "70/70 [==============================] - 0s 58us/step - loss: 0.7165 - binary_accuracy: 0.4857 - binary_crossentropy: 0.6932\n",
      "Epoch 169/200\n",
      "70/70 [==============================] - 0s 50us/step - loss: 0.7164 - binary_accuracy: 0.4857 - binary_crossentropy: 0.6932\n",
      "Epoch 170/200\n",
      "70/70 [==============================] - 0s 49us/step - loss: 0.7164 - binary_accuracy: 0.4857 - binary_crossentropy: 0.6932\n",
      "Epoch 171/200\n",
      "70/70 [==============================] - 0s 45us/step - loss: 0.7164 - binary_accuracy: 0.4714 - binary_crossentropy: 0.6932\n",
      "Epoch 172/200\n",
      "70/70 [==============================] - 0s 55us/step - loss: 0.7164 - binary_accuracy: 0.4714 - binary_crossentropy: 0.6932\n",
      "Epoch 173/200\n",
      "70/70 [==============================] - 0s 51us/step - loss: 0.7164 - binary_accuracy: 0.4714 - binary_crossentropy: 0.6932\n",
      "Epoch 174/200\n",
      "70/70 [==============================] - 0s 58us/step - loss: 0.7164 - binary_accuracy: 0.4714 - binary_crossentropy: 0.6932\n",
      "Epoch 175/200\n",
      "70/70 [==============================] - 0s 44us/step - loss: 0.7164 - binary_accuracy: 0.4714 - binary_crossentropy: 0.6932\n",
      "Epoch 176/200\n",
      "70/70 [==============================] - 0s 56us/step - loss: 0.7164 - binary_accuracy: 0.4714 - binary_crossentropy: 0.6932\n",
      "Epoch 177/200\n",
      "70/70 [==============================] - 0s 75us/step - loss: 0.7164 - binary_accuracy: 0.4714 - binary_crossentropy: 0.6932\n",
      "Epoch 178/200\n",
      "70/70 [==============================] - 0s 68us/step - loss: 0.7164 - binary_accuracy: 0.4714 - binary_crossentropy: 0.6932\n",
      "Epoch 179/200\n",
      "70/70 [==============================] - 0s 73us/step - loss: 0.7163 - binary_accuracy: 0.4714 - binary_crossentropy: 0.6932\n"
     ]
    },
    {
     "name": "stdout",
     "output_type": "stream",
     "text": [
      "Epoch 180/200\n",
      "70/70 [==============================] - 0s 82us/step - loss: 0.7163 - binary_accuracy: 0.4714 - binary_crossentropy: 0.6932\n",
      "Epoch 181/200\n",
      "70/70 [==============================] - 0s 77us/step - loss: 0.7163 - binary_accuracy: 0.4714 - binary_crossentropy: 0.6932\n",
      "Epoch 182/200\n",
      "70/70 [==============================] - 0s 72us/step - loss: 0.7163 - binary_accuracy: 0.4714 - binary_crossentropy: 0.6932\n",
      "Epoch 183/200\n",
      "70/70 [==============================] - 0s 49us/step - loss: 0.7163 - binary_accuracy: 0.4714 - binary_crossentropy: 0.6932\n",
      "Epoch 184/200\n",
      "70/70 [==============================] - 0s 48us/step - loss: 0.7163 - binary_accuracy: 0.4714 - binary_crossentropy: 0.6932\n",
      "Epoch 185/200\n",
      "70/70 [==============================] - 0s 53us/step - loss: 0.7163 - binary_accuracy: 0.4714 - binary_crossentropy: 0.6932\n",
      "Epoch 186/200\n",
      "70/70 [==============================] - 0s 65us/step - loss: 0.7163 - binary_accuracy: 0.4714 - binary_crossentropy: 0.6932\n",
      "Epoch 187/200\n",
      "70/70 [==============================] - 0s 49us/step - loss: 0.7163 - binary_accuracy: 0.4429 - binary_crossentropy: 0.6932\n",
      "Epoch 188/200\n",
      "70/70 [==============================] - 0s 47us/step - loss: 0.7163 - binary_accuracy: 0.4429 - binary_crossentropy: 0.6932\n",
      "Epoch 189/200\n",
      "70/70 [==============================] - 0s 52us/step - loss: 0.7163 - binary_accuracy: 0.4429 - binary_crossentropy: 0.6932\n",
      "Epoch 190/200\n",
      "70/70 [==============================] - 0s 60us/step - loss: 0.7162 - binary_accuracy: 0.4429 - binary_crossentropy: 0.6932\n",
      "Epoch 191/200\n",
      "70/70 [==============================] - 0s 55us/step - loss: 0.7162 - binary_accuracy: 0.4429 - binary_crossentropy: 0.6932\n",
      "Epoch 192/200\n",
      "70/70 [==============================] - 0s 64us/step - loss: 0.7162 - binary_accuracy: 0.4429 - binary_crossentropy: 0.6932\n",
      "Epoch 193/200\n",
      "70/70 [==============================] - 0s 78us/step - loss: 0.7162 - binary_accuracy: 0.4429 - binary_crossentropy: 0.6932\n",
      "Epoch 194/200\n",
      "70/70 [==============================] - 0s 76us/step - loss: 0.7162 - binary_accuracy: 0.4429 - binary_crossentropy: 0.6932\n",
      "Epoch 195/200\n",
      "70/70 [==============================] - 0s 75us/step - loss: 0.7162 - binary_accuracy: 0.4571 - binary_crossentropy: 0.6932\n",
      "Epoch 196/200\n",
      "70/70 [==============================] - 0s 40us/step - loss: 0.7162 - binary_accuracy: 0.4714 - binary_crossentropy: 0.6932\n",
      "Epoch 197/200\n",
      "70/70 [==============================] - 0s 47us/step - loss: 0.7162 - binary_accuracy: 0.4714 - binary_crossentropy: 0.6932\n",
      "Epoch 198/200\n",
      "70/70 [==============================] - 0s 65us/step - loss: 0.7162 - binary_accuracy: 0.4714 - binary_crossentropy: 0.6932\n",
      "Epoch 199/200\n",
      "70/70 [==============================] - 0s 47us/step - loss: 0.7162 - binary_accuracy: 0.4714 - binary_crossentropy: 0.6932\n",
      "Epoch 200/200\n",
      "70/70 [==============================] - 0s 53us/step - loss: 0.7161 - binary_accuracy: 0.4714 - binary_crossentropy: 0.6932\n"
     ]
    },
    {
     "data": {
      "text/plain": [
       "ShapeletModel(max_iter=200, n_shapelets_per_size={14: 3}, verbose=1,\n",
       "              weight_regularizer=0.01)"
      ]
     },
     "execution_count": 12,
     "metadata": {},
     "output_type": "execute_result"
    }
   ],
   "source": [
    "shp_clf.fit(X_train, y_train)"
   ]
  },
  {
   "cell_type": "code",
   "execution_count": 13,
   "metadata": {},
   "outputs": [
    {
     "name": "stdout",
     "output_type": "stream",
     "text": [
      "\r",
      "30/30 [==============================] - 0s 29us/step\n"
     ]
    }
   ],
   "source": [
    "y_pred = shp_clf.predict(X_test)"
   ]
  },
  {
   "cell_type": "code",
   "execution_count": 14,
   "metadata": {},
   "outputs": [
    {
     "name": "stdout",
     "output_type": "stream",
     "text": [
      "Accuracy 0.5666666666666667\n",
      "F1-score [0.23529412 0.69767442]\n",
      "              precision    recall  f1-score   support\n",
      "\n",
      "           0       1.00      0.13      0.24        15\n",
      "           1       0.54      1.00      0.70        15\n",
      "\n",
      "    accuracy                           0.57        30\n",
      "   macro avg       0.77      0.57      0.47        30\n",
      "weighted avg       0.77      0.57      0.47        30\n",
      "\n"
     ]
    }
   ],
   "source": [
    "print('Accuracy %s' % accuracy_score(y_test, y_pred))\n",
    "print('F1-score %s' % f1_score(y_test, y_pred, average=None))\n",
    "print(classification_report(y_test, y_pred))"
   ]
  },
  {
   "cell_type": "markdown",
   "metadata": {},
   "source": [
    "# Shaplet-distances-based Classifier"
   ]
  },
  {
   "cell_type": "code",
   "execution_count": 15,
   "metadata": {},
   "outputs": [
    {
     "name": "stdout",
     "output_type": "stream",
     "text": [
      "\r",
      "70/70 [==============================] - 0s 18us/step\n"
     ]
    }
   ],
   "source": [
    "X_train2 = shp_clf.transform(X_train)"
   ]
  },
  {
   "cell_type": "code",
   "execution_count": 16,
   "metadata": {},
   "outputs": [
    {
     "data": {
      "text/plain": [
       "(70, 3)"
      ]
     },
     "execution_count": 16,
     "metadata": {},
     "output_type": "execute_result"
    }
   ],
   "source": [
    "X_train2.shape"
   ]
  },
  {
   "cell_type": "code",
   "execution_count": 17,
   "metadata": {},
   "outputs": [
    {
     "data": {
      "text/plain": [
       "array([[0.00961492, 0.00904149, 0.010555  ],\n",
       "       [0.0074772 , 0.00729009, 0.00863088],\n",
       "       [0.00542986, 0.00502806, 0.00601648],\n",
       "       [0.00373622, 0.00282966, 0.00368353],\n",
       "       [0.00295409, 0.00242596, 0.00334106],\n",
       "       [0.00517565, 0.00418332, 0.00541746],\n",
       "       [0.00945592, 0.00922877, 0.00997508],\n",
       "       [0.00295299, 0.0028081 , 0.00296651],\n",
       "       [0.00817058, 0.00736873, 0.00860783],\n",
       "       [0.00711666, 0.00610721, 0.00778168],\n",
       "       [0.00434842, 0.00424016, 0.00500733],\n",
       "       [0.00541822, 0.00542023, 0.00528584],\n",
       "       [0.00596032, 0.00628975, 0.0074315 ],\n",
       "       [0.00169024, 0.00145656, 0.00216301],\n",
       "       [0.0058855 , 0.00583454, 0.00662166],\n",
       "       [0.00444156, 0.00397027, 0.00532927],\n",
       "       [0.00588287, 0.00530139, 0.00595906],\n",
       "       [0.00539718, 0.00518115, 0.00605365],\n",
       "       [0.00529195, 0.004936  , 0.00535252],\n",
       "       [0.00455882, 0.00464422, 0.005337  ],\n",
       "       [0.00526366, 0.00511295, 0.00583952],\n",
       "       [0.00269345, 0.00244951, 0.00314537],\n",
       "       [0.00279501, 0.00259441, 0.00333633],\n",
       "       [0.00417321, 0.00388816, 0.00486045],\n",
       "       [0.00262273, 0.0029119 , 0.00287528],\n",
       "       [0.00341066, 0.00310986, 0.00411968],\n",
       "       [0.00881738, 0.00876829, 0.00971992],\n",
       "       [0.00690376, 0.00652364, 0.00723898],\n",
       "       [0.00559128, 0.00565756, 0.0062769 ],\n",
       "       [0.00574137, 0.00604095, 0.00649538],\n",
       "       [0.00681878, 0.00678583, 0.00705083],\n",
       "       [0.00849944, 0.00848692, 0.00926169],\n",
       "       [0.01132243, 0.00893512, 0.01025637],\n",
       "       [0.00591637, 0.00577664, 0.00672626],\n",
       "       [0.00890799, 0.00838015, 0.00918373],\n",
       "       [0.00097849, 0.0013709 , 0.00130826],\n",
       "       [0.01008793, 0.00991889, 0.01049375],\n",
       "       [0.00640723, 0.00526028, 0.00704603],\n",
       "       [0.00410342, 0.00373085, 0.00464673],\n",
       "       [0.00423535, 0.00309299, 0.00486726],\n",
       "       [0.00874699, 0.00724541, 0.00947407],\n",
       "       [0.00908665, 0.00838874, 0.0096695 ],\n",
       "       [0.00462504, 0.00486396, 0.00491644],\n",
       "       [0.00489147, 0.00547311, 0.00552156],\n",
       "       [0.00256887, 0.00280099, 0.00387871],\n",
       "       [0.00641702, 0.00556045, 0.00656304],\n",
       "       [0.00681172, 0.00631756, 0.00716005],\n",
       "       [0.00149766, 0.00141189, 0.00200431],\n",
       "       [0.0025858 , 0.00227181, 0.00324908],\n",
       "       [0.01682652, 0.01524261, 0.0178266 ],\n",
       "       [0.00592161, 0.00523183, 0.00601495],\n",
       "       [0.00958817, 0.0090796 , 0.00989466],\n",
       "       [0.00424663, 0.00424069, 0.00465738],\n",
       "       [0.00207255, 0.00176161, 0.00279499],\n",
       "       [0.00785489, 0.00748363, 0.00809377],\n",
       "       [0.00925519, 0.00889579, 0.0101932 ],\n",
       "       [0.01132504, 0.01113635, 0.01197168],\n",
       "       [0.00509424, 0.00426971, 0.00571169],\n",
       "       [0.00366672, 0.00267683, 0.00378184],\n",
       "       [0.00282827, 0.00351137, 0.00382556],\n",
       "       [0.00501091, 0.00415802, 0.00564297],\n",
       "       [0.00627101, 0.00660901, 0.00718569],\n",
       "       [0.0063758 , 0.0052282 , 0.00594371],\n",
       "       [0.00281812, 0.00206395, 0.00322549],\n",
       "       [0.00671724, 0.00673268, 0.00799858],\n",
       "       [0.00374266, 0.00356568, 0.00409827],\n",
       "       [0.0084406 , 0.00841648, 0.00880869],\n",
       "       [0.00144827, 0.00146876, 0.00185142],\n",
       "       [0.00383673, 0.00282966, 0.0040946 ],\n",
       "       [0.0063613 , 0.00528869, 0.00695197]], dtype=float32)"
      ]
     },
     "execution_count": 17,
     "metadata": {},
     "output_type": "execute_result"
    }
   ],
   "source": [
    "X_train2"
   ]
  },
  {
   "cell_type": "code",
   "execution_count": 18,
   "metadata": {},
   "outputs": [
    {
     "name": "stdout",
     "output_type": "stream",
     "text": [
      "\r",
      "30/30 [==============================] - 0s 24us/step\n"
     ]
    }
   ],
   "source": [
    "X_test2 = shp_clf.transform(X_test)"
   ]
  },
  {
   "cell_type": "code",
   "execution_count": 19,
   "metadata": {},
   "outputs": [],
   "source": [
    "from sklearn.neighbors import KNeighborsClassifier"
   ]
  },
  {
   "cell_type": "code",
   "execution_count": 20,
   "metadata": {},
   "outputs": [
    {
     "data": {
      "text/plain": [
       "KNeighborsClassifier()"
      ]
     },
     "execution_count": 20,
     "metadata": {},
     "output_type": "execute_result"
    }
   ],
   "source": [
    "clf = KNeighborsClassifier(n_neighbors=5, weights='uniform')\n",
    "clf.fit(X_train2, y_train)"
   ]
  },
  {
   "cell_type": "code",
   "execution_count": 21,
   "metadata": {},
   "outputs": [
    {
     "name": "stdout",
     "output_type": "stream",
     "text": [
      "Accuracy 0.5666666666666667\n",
      "F1-score [0.48       0.62857143]\n",
      "              precision    recall  f1-score   support\n",
      "\n",
      "           0       0.60      0.40      0.48        15\n",
      "           1       0.55      0.73      0.63        15\n",
      "\n",
      "    accuracy                           0.57        30\n",
      "   macro avg       0.57      0.57      0.55        30\n",
      "weighted avg       0.57      0.57      0.55        30\n",
      "\n"
     ]
    }
   ],
   "source": [
    "y_pred = clf.predict(X_test2)\n",
    "\n",
    "print('Accuracy %s' % accuracy_score(y_test, y_pred))\n",
    "print('F1-score %s' % f1_score(y_test, y_pred, average=None))\n",
    "print(classification_report(y_test, y_pred))"
   ]
  },
  {
   "cell_type": "code",
   "execution_count": 22,
   "metadata": {},
   "outputs": [],
   "source": [
    "from sklearn.tree import DecisionTreeClassifier"
   ]
  },
  {
   "cell_type": "code",
   "execution_count": 23,
   "metadata": {},
   "outputs": [
    {
     "name": "stdout",
     "output_type": "stream",
     "text": [
      "Accuracy 0.5666666666666667\n",
      "F1-score [0.55172414 0.58064516]\n",
      "              precision    recall  f1-score   support\n",
      "\n",
      "           0       0.57      0.53      0.55        15\n",
      "           1       0.56      0.60      0.58        15\n",
      "\n",
      "    accuracy                           0.57        30\n",
      "   macro avg       0.57      0.57      0.57        30\n",
      "weighted avg       0.57      0.57      0.57        30\n",
      "\n"
     ]
    }
   ],
   "source": [
    "clf = DecisionTreeClassifier(max_depth=8, random_state=42)\n",
    "clf.fit(X_train2, y_train)\n",
    "\n",
    "y_pred = clf.predict(X_test2)\n",
    "\n",
    "print('Accuracy %s' % accuracy_score(y_test, y_pred))\n",
    "print('F1-score %s' % f1_score(y_test, y_pred, average=None))\n",
    "print(classification_report(y_test, y_pred))"
   ]
  },
  {
   "cell_type": "markdown",
   "metadata": {},
   "source": [
    "# Feature-based Classifier"
   ]
  },
  {
   "cell_type": "code",
   "execution_count": 24,
   "metadata": {},
   "outputs": [],
   "source": [
    "import scipy.stats as stats"
   ]
  },
  {
   "cell_type": "code",
   "execution_count": 25,
   "metadata": {},
   "outputs": [],
   "source": [
    "def calculate_features(values):\n",
    "    features = {\n",
    "        'avg': np.mean(values),\n",
    "        'std': np.std(values),\n",
    "        'var': np.var(values),\n",
    "        'med': np.median(values),\n",
    "        '10p': np.percentile(values, 10),\n",
    "        '25p': np.percentile(values, 25),\n",
    "        '50p': np.percentile(values, 50),\n",
    "        '75p': np.percentile(values, 75),\n",
    "        '90p': np.percentile(values, 90),\n",
    "        'iqr': np.percentile(values, 75) - np.percentile(values, 25),\n",
    "        'cov': 1.0 * np.mean(values) / np.std(values),\n",
    "        'skw': stats.skew(values),\n",
    "        'kur': stats.kurtosis(values)\n",
    "    }\n",
    "\n",
    "    return features"
   ]
  },
  {
   "cell_type": "code",
   "execution_count": 26,
   "metadata": {},
   "outputs": [],
   "source": [
    "X_train3 = np.array([list(calculate_features(x).values()) for x in X_train])"
   ]
  },
  {
   "cell_type": "code",
   "execution_count": 27,
   "metadata": {},
   "outputs": [
    {
     "data": {
      "text/plain": [
       "(70, 13)"
      ]
     },
     "execution_count": 27,
     "metadata": {},
     "output_type": "execute_result"
    }
   ],
   "source": [
    "X_train3.shape"
   ]
  },
  {
   "cell_type": "code",
   "execution_count": 28,
   "metadata": {},
   "outputs": [
    {
     "data": {
      "text/plain": [
       "array([[ 0.43927152,  0.27209024,  0.0740331 ,  0.40488432,  0.10025707,\n",
       "         0.19730077,  0.40488432,  0.65070694,  0.81748072,  0.45340617,\n",
       "         1.61443319,  0.22065247, -1.10200899],\n",
       "       [ 0.31167953,  0.22444126,  0.05037388,  0.24444444,  0.10255556,\n",
       "         0.13333333,  0.24444444,  0.44444444,  0.63555556,  0.31111111,\n",
       "         1.38869084,  1.14018974,  0.74900105],\n",
       "       [ 0.29156586,  0.23564912,  0.05553051,  0.20986359,  0.06086044,\n",
       "         0.13641133,  0.20986359,  0.40490556,  0.6239944 ,  0.26849423,\n",
       "         1.23728816,  1.36724864,  1.20918862],\n",
       "       [ 0.36421441,  0.2583849 ,  0.06676276,  0.3225    ,  0.05708333,\n",
       "         0.13125   ,  0.3225    ,  0.56828125,  0.75      ,  0.43703125,\n",
       "         1.40958084,  0.4385618 , -0.94833788],\n",
       "       [ 0.38993345,  0.27252317,  0.07426888,  0.35      ,  0.061875  ,\n",
       "         0.146875  ,  0.35      ,  0.579375  ,  0.7975    ,  0.4325    ,\n",
       "         1.43082679,  0.45976979, -0.8712124 ],\n",
       "       [ 0.37629406,  0.26671497,  0.07113687,  0.32521008,  0.07310924,\n",
       "         0.1512605 ,  0.32521008,  0.55210084,  0.77773109,  0.40084034,\n",
       "         1.41084717,  0.5616004 , -0.73219957],\n",
       "       [ 0.28869474,  0.21303569,  0.04538421,  0.22580645,  0.09677419,\n",
       "         0.12903226,  0.22580645,  0.38252688,  0.5483871 ,  0.25349462,\n",
       "         1.3551473 ,  1.33309795,  1.36714823],\n",
       "       [ 0.27760931,  0.24003327,  0.05761597,  0.2       ,  0.05666667,\n",
       "         0.10833333,  0.2       ,  0.38263889,  0.63044444,  0.27430556,\n",
       "         1.15654515,  1.32473907,  1.15563952],\n",
       "       [ 0.31761803,  0.24655587,  0.0607898 ,  0.2467033 ,  0.08791209,\n",
       "         0.13186813,  0.2467033 ,  0.42857143,  0.715     ,  0.2967033 ,\n",
       "         1.28821929,  1.09366283,  0.32112453],\n",
       "       [ 0.41277343,  0.26157857,  0.06842335,  0.38560411,  0.07455013,\n",
       "         0.17352185,  0.38560411,  0.64267352,  0.79691517,  0.46915167,\n",
       "         1.57800939,  0.26236401, -1.1517362 ],\n",
       "       [ 0.35618673,  0.25415278,  0.06459364,  0.31949153,  0.06525424,\n",
       "         0.13347458,  0.31949153,  0.52971398,  0.7440678 ,  0.39623941,\n",
       "         1.40146699,  0.6291366 , -0.41613793],\n",
       "       [ 0.29467049,  0.22075802,  0.0487341 ,  0.23834968,  0.06096706,\n",
       "         0.14269446,  0.23834968,  0.42571829,  0.54660126,  0.28302383,\n",
       "         1.33481216,  1.15113167,  1.10387329],\n",
       "       [ 0.38436921,  0.25918548,  0.06717711,  0.35      ,  0.0725    ,\n",
       "         0.140625  ,  0.35      ,  0.5759375 ,  0.75      ,  0.4353125 ,\n",
       "         1.482989  ,  0.45019124, -0.77724919],\n",
       "       [ 0.28684439,  0.24016427,  0.05767887,  0.20697168,  0.06318083,\n",
       "         0.11982571,  0.20697168,  0.4248366 ,  0.68409586,  0.30501089,\n",
       "         1.19436747,  1.24622503,  0.80983113],\n",
       "       [ 0.37584877,  0.26003985,  0.06762072,  0.3245283 ,  0.07295597,\n",
       "         0.15801887,  0.3245283 ,  0.5572327 ,  0.77232704,  0.39921384,\n",
       "         1.44535065,  0.59000969, -0.69800275],\n",
       "       [ 0.29562916,  0.23854071,  0.05690167,  0.21348315,  0.07640449,\n",
       "         0.1011236 ,  0.21348315,  0.41966292,  0.63314607,  0.31853933,\n",
       "         1.23932372,  1.21188962,  0.87019131],\n",
       "       [ 0.40772216,  0.29462042,  0.08680119,  0.38129496,  0.0618705 ,\n",
       "         0.14748201,  0.38129496,  0.63992806,  0.84172662,  0.49244604,\n",
       "         1.38388966,  0.37525328, -1.14776264],\n",
       "       [ 0.39002014,  0.25884872,  0.06700266,  0.36797934,  0.07488702,\n",
       "         0.15493867,  0.36797934,  0.5784377 ,  0.77469335,  0.42349903,\n",
       "         1.50674938,  0.35334636, -0.93766268],\n",
       "       [ 0.32829528,  0.27625496,  0.0763168 ,  0.21677328,  0.06183369,\n",
       "         0.10660981,  0.21677328,  0.46335288,  0.85021322,  0.35674307,\n",
       "         1.18837787,  1.03279175, -0.06948806],\n",
       "       [ 0.37396267,  0.27275872,  0.07439732,  0.33625   ,  0.0725    ,\n",
       "         0.1       ,  0.33625   ,  0.563125  ,  0.754375  ,  0.463125  ,\n",
       "         1.37103839,  0.46752531, -0.99308144],\n",
       "       [ 0.37459263,  0.28155597,  0.07927376,  0.32229124,  0.07361399,\n",
       "         0.11042098,  0.32229124,  0.57971014,  0.82539683,  0.46928916,\n",
       "         1.33043753,  0.60216272, -0.84625191],\n",
       "       [ 0.36240419,  0.2589095 ,  0.06703413,  0.33791749,  0.04977079,\n",
       "         0.10478062,  0.33791749,  0.5758568 ,  0.73084479,  0.47107618,\n",
       "         1.39973306,  0.43154981, -0.89751933],\n",
       "       [ 0.30115083,  0.24975038,  0.06237525,  0.22302158,  0.05755396,\n",
       "         0.11510791,  0.22302158,  0.42670863,  0.69451799,  0.31160072,\n",
       "         1.20580727,  1.16030416,  0.4918289 ],\n",
       "       [ 0.39427083,  0.26485783,  0.07014967,  0.36666667,  0.0725    ,\n",
       "         0.15      ,  0.36666667,  0.57479167,  0.77      ,  0.42479167,\n",
       "         1.48861312,  0.34496842, -0.97530808],\n",
       "       [ 0.36340218,  0.27936516,  0.07804489,  0.31923077,  0.03974359,\n",
       "         0.11858974,  0.31923077,  0.58974359,  0.75940171,  0.47115385,\n",
       "         1.30081428,  0.49737587, -0.94034515],\n",
       "       [ 0.33326702,  0.25103651,  0.06301933,  0.30989583,  0.04947917,\n",
       "         0.1171875 ,  0.30989583,  0.49479167,  0.72200521,  0.37760417,\n",
       "         1.32756395,  0.68258661, -0.41395307],\n",
       "       [ 0.3166959 ,  0.24228486,  0.05870195,  0.22964509,  0.08141962,\n",
       "         0.13308977,  0.22964509,  0.43841336,  0.74551148,  0.30532359,\n",
       "         1.30712215,  1.20920085,  0.70129487],\n",
       "       [ 0.38132957,  0.27588021,  0.07610989,  0.35      ,  0.06      ,\n",
       "         0.1       ,  0.35      ,  0.579375  ,  0.775     ,  0.479375  ,\n",
       "         1.38222881,  0.48483246, -0.91329868],\n",
       "       [ 0.27232902,  0.21640993,  0.04683326,  0.20876827,  0.08141962,\n",
       "         0.12265136,  0.20876827,  0.3375087 ,  0.50967293,  0.21485734,\n",
       "         1.25839429,  1.6273862 ,  2.41556113],\n",
       "       [ 0.30823918,  0.25227217,  0.06364125,  0.22884882,  0.07073509,\n",
       "         0.11442441,  0.22884882,  0.44209431,  0.7068828 ,  0.3276699 ,\n",
       "         1.2218517 ,  1.17716999,  0.56018741],\n",
       "       [ 0.32478935,  0.25029028,  0.06264522,  0.22494888,  0.0797546 ,\n",
       "         0.12269939,  0.22494888,  0.44989775,  0.71574642,  0.32719836,\n",
       "         1.29765067,  1.04111914,  0.17543067],\n",
       "       [ 0.31094117,  0.23467284,  0.05507134,  0.22845275,  0.08099688,\n",
       "         0.14719626,  0.22845275,  0.42056075,  0.64382139,  0.27336449,\n",
       "         1.32499852,  1.28406419,  1.11330327],\n",
       "       [ 0.34003245,  0.20951013,  0.04389449,  0.30550622,  0.10625617,\n",
       "         0.18709295,  0.30550622,  0.4928952 ,  0.60864417,  0.30580225,\n",
       "         1.62298816,  0.7793069 ,  0.24932886],\n",
       "       [ 0.30175511,  0.2480712 ,  0.06153932,  0.21321962,  0.06183369,\n",
       "         0.10660981,  0.21321962,  0.40511727,  0.71791045,  0.29850746,\n",
       "         1.21640527,  1.21197841,  0.58869267],\n",
       "       [ 0.32725635,  0.23991378,  0.05755862,  0.26561428,  0.0881606 ,\n",
       "         0.14885038,  0.26561428,  0.4646534 ,  0.68805765,  0.31580302,\n",
       "         1.36405817,  0.99269575,  0.29366892],\n",
       "       [ 0.32544219,  0.25390556,  0.06446803,  0.30512821,  0.02884615,\n",
       "         0.0849359 ,  0.30512821,  0.48717949,  0.75555556,  0.40224359,\n",
       "         1.28174502,  0.70241479, -0.35211673],\n",
       "       [ 0.33499434,  0.25049609,  0.06274829,  0.23404255,  0.08297872,\n",
       "         0.1668883 ,  0.23404255,  0.42553191,  0.76595745,  0.25864362,\n",
       "         1.33732364,  1.1571869 ,  0.42960989],\n",
       "       [ 0.33171173,  0.25440524,  0.06472203,  0.2393617 ,  0.08297872,\n",
       "         0.15611702,  0.2393617 ,  0.45079787,  0.8156383 ,  0.29468085,\n",
       "         1.30387144,  1.16976393,  0.5299118 ],\n",
       "       [ 0.35774482,  0.2516749 ,  0.06334026,  0.31101695,  0.04788136,\n",
       "         0.15847458,  0.31101695,  0.53983051,  0.73813559,  0.38135593,\n",
       "         1.42145609,  0.54271588, -0.55490116],\n",
       "       [ 0.3395218 ,  0.26878032,  0.07224286,  0.28860759,  0.06075949,\n",
       "         0.08860759,  0.28860759,  0.50949367,  0.76012658,  0.42088608,\n",
       "         1.26319444,  0.67108067, -0.68749108],\n",
       "       [ 0.42506493,  0.25600425,  0.06553817,  0.3902439 ,  0.09512195,\n",
       "         0.19268293,  0.3902439 ,  0.62195122,  0.76036585,  0.42926829,\n",
       "         1.66038233,  0.28180219, -0.89148402],\n",
       "       [ 0.32783151,  0.25810117,  0.06661622,  0.22494888,  0.08200409,\n",
       "         0.16155419,  0.22494888,  0.45104806,  0.82515337,  0.28949387,\n",
       "         1.27016666,  1.18298674,  0.39865194],\n",
       "       [ 0.27424473,  0.2228822 ,  0.04967647,  0.20620438,  0.05620438,\n",
       "         0.10629562,  0.20620438,  0.38467153,  0.55036496,  0.27837591,\n",
       "         1.23044699,  1.36311511,  1.40737058],\n",
       "       [ 0.29432376,  0.25105811,  0.06303017,  0.21023125,  0.06096706,\n",
       "         0.10511563,  0.21023125,  0.39943938,  0.68955851,  0.29432376,\n",
       "         1.1723332 ,  1.30998305,  0.90487971],\n",
       "       [ 0.37625723,  0.257655  ,  0.0663861 ,  0.35      ,  0.0725    ,\n",
       "         0.140625  ,  0.35      ,  0.5575    ,  0.75      ,  0.416875  ,\n",
       "         1.4603141 ,  0.40315516, -0.87704381],\n",
       "       [ 0.25860775,  0.1990687 ,  0.03962835,  0.20788913,  0.06183369,\n",
       "         0.12793177,  0.20788913,  0.32515991,  0.48827292,  0.19722814,\n",
       "         1.299088  ,  1.61342949,  2.79182068],\n",
       "       [ 0.38447455,  0.27875253,  0.07770297,  0.36083916,  0.07132867,\n",
       "         0.11188811,  0.36083916,  0.58741259,  0.81608392,  0.47552448,\n",
       "         1.37926838,  0.48121265, -1.00414982],\n",
       "       [ 0.34448599,  0.26499124,  0.07022036,  0.30512821,  0.04871795,\n",
       "         0.07692308,  0.30512821,  0.53589744,  0.74358974,  0.45897436,\n",
       "         1.2999901 ,  0.51380039, -0.83262553],\n",
       "       [ 0.35714017,  0.26928301,  0.07251334,  0.33152665,  0.05149051,\n",
       "         0.10840108,  0.33152665,  0.54652213,  0.8001355 ,  0.43812105,\n",
       "         1.3262633 ,  0.55394712, -0.85533278],\n",
       "       [ 0.42984691,  0.25392094,  0.06447584,  0.39877301,  0.12269939,\n",
       "         0.19386503,  0.39877301,  0.60337423,  0.8007362 ,  0.4095092 ,\n",
       "         1.69283758,  0.3757822 , -0.91513254],\n",
       "       [ 0.33301648,  0.25879839,  0.06697661,  0.22727273,  0.08057851,\n",
       "         0.16322314,  0.22727273,  0.42742769,  0.76291322,  0.26420455,\n",
       "         1.28677956,  1.09101853,  0.16328041],\n",
       "       [ 0.33436156,  0.25576547,  0.06541598,  0.2487906 ,  0.10366275,\n",
       "         0.14979267,  0.2487906 ,  0.47127678,  0.76088459,  0.32148411,\n",
       "         1.30729749,  1.05406875,  0.10797649],\n",
       "       [ 0.30385258,  0.25446154,  0.06475067,  0.2198364 ,  0.0797546 ,\n",
       "         0.12269939,  0.2198364 ,  0.40439673,  0.69406953,  0.28169734,\n",
       "         1.19410023,  1.36659389,  0.97958456],\n",
       "       [ 0.36416726,  0.27006898,  0.07293725,  0.32602151,  0.04903226,\n",
       "         0.11129032,  0.32602151,  0.63870968,  0.7483871 ,  0.52741935,\n",
       "         1.34842317,  0.43780331, -1.06102254],\n",
       "       [ 0.43200893,  0.28305323,  0.08011913,  0.4       ,  0.08285714,\n",
       "         0.18107143,  0.4       ,  0.6275    ,  0.85714286,  0.44642857,\n",
       "         1.52624623,  0.33212029, -1.06715944],\n",
       "       [ 0.30739069,  0.2250106 ,  0.05062977,  0.24444444,  0.08666667,\n",
       "         0.13888889,  0.24444444,  0.40333333,  0.55188889,  0.26444444,\n",
       "         1.36611646,  1.47729786,  1.98932794],\n",
       "       [ 0.31877808,  0.2181653 ,  0.0475961 ,  0.24594746,  0.1117943 ,\n",
       "         0.17160425,  0.24594746,  0.44717719,  0.55651202,  0.27557295,\n",
       "         1.4611768 ,  1.15637943,  1.01206315],\n",
       "       [ 0.37928303,  0.27450172,  0.0753512 ,  0.3299458 ,  0.05149051,\n",
       "         0.13550136,  0.3299458 ,  0.59349593,  0.78590786,  0.45799458,\n",
       "         1.38171459,  0.34140828, -1.07372936],\n",
       "       [ 0.3435515 ,  0.25512952,  0.06509107,  0.33625   ,  0.06      ,\n",
       "         0.1       ,  0.33625   ,  0.5475    ,  0.71883333,  0.4475    ,\n",
       "         1.34657684,  0.48637184, -0.89632965],\n",
       "       [ 0.38965011,  0.28959486,  0.08386518,  0.36111111,  0.04871795,\n",
       "         0.12820513,  0.36111111,  0.65112179,  0.76923077,  0.52291667,\n",
       "         1.34550076,  0.33226023, -1.15708793],\n",
       "       [ 0.32336076,  0.24275412,  0.05892956,  0.23913043,  0.08478261,\n",
       "         0.13043478,  0.23913043,  0.47418478,  0.67391304,  0.34375   ,\n",
       "         1.33205053,  1.10967004,  0.69015014],\n",
       "       [ 0.40090856,  0.2689667 ,  0.07234308,  0.35      ,  0.0725    ,\n",
       "         0.15      ,  0.35      ,  0.60208333,  0.773125  ,  0.45208333,\n",
       "         1.49055094,  0.33804219, -0.96777983],\n",
       "       [ 0.28928807,  0.21001952,  0.0441082 ,  0.24271845,  0.06924615,\n",
       "         0.11422045,  0.24271845,  0.38638635,  0.51759709,  0.27216591,\n",
       "         1.3774342 ,  1.19429698,  1.35758936],\n",
       "       [ 0.29711784,  0.22773835,  0.05186476,  0.22964509,  0.06367432,\n",
       "         0.12526096,  0.22964509,  0.41753653,  0.64091858,  0.29227557,\n",
       "         1.30464559,  1.26326116,  1.19883397],\n",
       "       [ 0.44527124,  0.28104684,  0.07898732,  0.4       ,  0.07247059,\n",
       "         0.18382353,  0.4       ,  0.68235294,  0.83764706,  0.49852941,\n",
       "         1.5843311 ,  0.16126361, -1.1827466 ],\n",
       "       [ 0.28534496,  0.24640585,  0.06071584,  0.2173913 ,  0.06304348,\n",
       "         0.10869565,  0.2173913 ,  0.35027174,  0.69152174,  0.24157609,\n",
       "         1.15802834,  1.40780774,  1.17140177],\n",
       "       [ 0.28801203,  0.23509695,  0.05527058,  0.21195652,  0.08695652,\n",
       "         0.14755435,  0.21195652,  0.34782609,  0.58706522,  0.20027174,\n",
       "         1.22507767,  1.60622847,  2.11677589],\n",
       "       [ 0.33995669,  0.26267126,  0.06899619,  0.30709677,  0.04      ,\n",
       "         0.07741935,  0.30709677,  0.51612903,  0.70744086,  0.43870968,\n",
       "         1.29422873,  0.55538772, -0.66235996],\n",
       "       [ 0.37149508,  0.27087474,  0.07337313,  0.31      ,  0.0725    ,\n",
       "         0.14791667,  0.31      ,  0.5475    ,  0.773125  ,  0.39958333,\n",
       "         1.37146446,  0.56078702, -0.83854464],\n",
       "       [ 0.33177587,  0.24324353,  0.05916741,  0.275     ,  0.06304348,\n",
       "         0.17173913,  0.275     ,  0.44021739,  0.68434783,  0.26847826,\n",
       "         1.36396585,  1.09707429,  0.65602673]])"
      ]
     },
     "execution_count": 28,
     "metadata": {},
     "output_type": "execute_result"
    }
   ],
   "source": [
    "X_train3"
   ]
  },
  {
   "cell_type": "code",
   "execution_count": 29,
   "metadata": {},
   "outputs": [],
   "source": [
    "X_test3 = np.array([list(calculate_features(x).values()) for x in X_test])"
   ]
  },
  {
   "cell_type": "code",
   "execution_count": 30,
   "metadata": {},
   "outputs": [
    {
     "name": "stdout",
     "output_type": "stream",
     "text": [
      "Accuracy 1.0\n",
      "F1-score [1. 1.]\n",
      "              precision    recall  f1-score   support\n",
      "\n",
      "           0       1.00      1.00      1.00        15\n",
      "           1       1.00      1.00      1.00        15\n",
      "\n",
      "    accuracy                           1.00        30\n",
      "   macro avg       1.00      1.00      1.00        30\n",
      "weighted avg       1.00      1.00      1.00        30\n",
      "\n"
     ]
    }
   ],
   "source": [
    "clf = DecisionTreeClassifier(max_depth=8, random_state=42)\n",
    "clf.fit(X_train3, y_train)\n",
    "\n",
    "y_pred = clf.predict(X_test3)\n",
    "\n",
    "print('Accuracy %s' % accuracy_score(y_test, y_pred))\n",
    "print('F1-score %s' % f1_score(y_test, y_pred, average=None))\n",
    "print(classification_report(y_test, y_pred))"
   ]
  },
  {
   "cell_type": "markdown",
   "metadata": {},
   "source": [
    "# Time Series Classifier"
   ]
  },
  {
   "cell_type": "code",
   "execution_count": 31,
   "metadata": {},
   "outputs": [
    {
     "name": "stdout",
     "output_type": "stream",
     "text": [
      "Accuracy 0.9666666666666667\n",
      "F1-score [0.96551724 0.96774194]\n",
      "              precision    recall  f1-score   support\n",
      "\n",
      "           0       1.00      0.93      0.97        15\n",
      "           1       0.94      1.00      0.97        15\n",
      "\n",
      "    accuracy                           0.97        30\n",
      "   macro avg       0.97      0.97      0.97        30\n",
      "weighted avg       0.97      0.97      0.97        30\n",
      "\n"
     ]
    }
   ],
   "source": [
    "clf = KNeighborsClassifier(n_neighbors=5, weights='uniform')\n",
    "clf.fit(X_train, y_train)\n",
    "\n",
    "y_pred = clf.predict(X_test)\n",
    "\n",
    "print('Accuracy %s' % accuracy_score(y_test, y_pred))\n",
    "print('F1-score %s' % f1_score(y_test, y_pred, average=None))\n",
    "print(classification_report(y_test, y_pred))"
   ]
  },
  {
   "cell_type": "code",
   "execution_count": 32,
   "metadata": {},
   "outputs": [
    {
     "name": "stdout",
     "output_type": "stream",
     "text": [
      "Accuracy 1.0\n",
      "F1-score [1. 1.]\n",
      "              precision    recall  f1-score   support\n",
      "\n",
      "           0       1.00      1.00      1.00        15\n",
      "           1       1.00      1.00      1.00        15\n",
      "\n",
      "    accuracy                           1.00        30\n",
      "   macro avg       1.00      1.00      1.00        30\n",
      "weighted avg       1.00      1.00      1.00        30\n",
      "\n"
     ]
    }
   ],
   "source": [
    "clf = DecisionTreeClassifier(max_depth=8, random_state=42)\n",
    "clf.fit(X_train, y_train)\n",
    "\n",
    "y_pred = clf.predict(X_test)\n",
    "\n",
    "print('Accuracy %s' % accuracy_score(y_test, y_pred))\n",
    "print('F1-score %s' % f1_score(y_test, y_pred, average=None))\n",
    "print(classification_report(y_test, y_pred))"
   ]
  },
  {
   "cell_type": "code",
   "execution_count": 33,
   "metadata": {},
   "outputs": [],
   "source": [
    "from pyts.classification import KNeighborsClassifier"
   ]
  },
  {
   "cell_type": "code",
   "execution_count": 34,
   "metadata": {},
   "outputs": [
    {
     "name": "stdout",
     "output_type": "stream",
     "text": [
      "Accuracy 1.0\n",
      "F1-score [1. 1.]\n",
      "              precision    recall  f1-score   support\n",
      "\n",
      "           0       1.00      1.00      1.00        15\n",
      "           1       1.00      1.00      1.00        15\n",
      "\n",
      "    accuracy                           1.00        30\n",
      "   macro avg       1.00      1.00      1.00        30\n",
      "weighted avg       1.00      1.00      1.00        30\n",
      "\n"
     ]
    }
   ],
   "source": [
    "clf = KNeighborsClassifier(metric='dtw_sakoechiba')\n",
    "clf.fit(X_train, y_train)\n",
    "\n",
    "y_pred = clf.predict(X_test)\n",
    "\n",
    "print('Accuracy %s' % accuracy_score(y_test, y_pred))\n",
    "print('F1-score %s' % f1_score(y_test, y_pred, average=None))\n",
    "print(classification_report(y_test, y_pred))"
   ]
  },
  {
   "cell_type": "markdown",
   "metadata": {},
   "source": [
    "# CNN Classifier"
   ]
  },
  {
   "cell_type": "code",
   "execution_count": 35,
   "metadata": {},
   "outputs": [],
   "source": [
    "from keras.models import Sequential\n",
    "from keras.layers import Dense, Dropout, GlobalAveragePooling1D\n",
    "from keras.layers import Conv1D, Activation, Conv1D, BatchNormalization"
   ]
  },
  {
   "cell_type": "code",
   "execution_count": 36,
   "metadata": {},
   "outputs": [],
   "source": [
    "def build_simple_cnn(n_timesteps, n_outputs):\n",
    "    model = Sequential()\n",
    "    \n",
    "    model.add(Conv1D(filters=16, kernel_size=8, activation='relu', input_shape=(n_timesteps, 1)))\n",
    "    model.add(BatchNormalization())\n",
    "    model.add(Activation('relu'))\n",
    "    \n",
    "    model.add(Dropout(0.3))\n",
    "    \n",
    "    model.add(Conv1D(filters=32, kernel_size=5, activation='relu'))\n",
    "    model.add(BatchNormalization())\n",
    "    model.add(Activation('relu'))\n",
    "    \n",
    "    model.add(Dropout(0.3))\n",
    "    \n",
    "    model.add(Conv1D(filters=64, kernel_size=3, activation='relu'))\n",
    "    model.add(BatchNormalization())\n",
    "    model.add(Activation('relu'))\n",
    "    \n",
    "    model.add(Dropout(0.3))\n",
    "    \n",
    "    model.add(GlobalAveragePooling1D())\n",
    "    \n",
    "    model.add(Dense(n_outputs, activation='sigmoid'))\n",
    "    model.compile(loss='sparse_categorical_crossentropy', optimizer='adam', metrics=['accuracy'])\n",
    "    \n",
    "    return model"
   ]
  },
  {
   "cell_type": "code",
   "execution_count": 37,
   "metadata": {},
   "outputs": [
    {
     "name": "stdout",
     "output_type": "stream",
     "text": [
      "TIMESTEPS:  144\n",
      "N. LABELS:  2\n"
     ]
    }
   ],
   "source": [
    "X_train_cnn = X_train.reshape((X_train.shape[0], X_train.shape[1], 1))\n",
    "X_test_cnn = X_test.reshape((X_test.shape[0], X_test.shape[1], 1))\n",
    "\n",
    "X_train_cnn, X_val_cnn, y_train_cnn, y_val_cnn = train_test_split(X_train_cnn, y_train, test_size=0.2, stratify=y_train)\n",
    "\n",
    "n_timesteps, n_outputs, n_features = X_train_cnn.shape[1], len(np.unique(y_train_cnn)), 1 \n",
    "print(\"TIMESTEPS: \", n_timesteps)\n",
    "print(\"N. LABELS: \", n_outputs)"
   ]
  },
  {
   "cell_type": "code",
   "execution_count": 38,
   "metadata": {},
   "outputs": [],
   "source": [
    "cnn = build_simple_cnn(n_timesteps, n_outputs)"
   ]
  },
  {
   "cell_type": "code",
   "execution_count": 39,
   "metadata": {},
   "outputs": [
    {
     "name": "stdout",
     "output_type": "stream",
     "text": [
      "Model: \"sequential_1\"\n",
      "_________________________________________________________________\n",
      "Layer (type)                 Output Shape              Param #   \n",
      "=================================================================\n",
      "conv1d_1 (Conv1D)            (None, 137, 16)           144       \n",
      "_________________________________________________________________\n",
      "batch_normalization_1 (Batch (None, 137, 16)           64        \n",
      "_________________________________________________________________\n",
      "activation_1 (Activation)    (None, 137, 16)           0         \n",
      "_________________________________________________________________\n",
      "dropout_1 (Dropout)          (None, 137, 16)           0         \n",
      "_________________________________________________________________\n",
      "conv1d_2 (Conv1D)            (None, 133, 32)           2592      \n",
      "_________________________________________________________________\n",
      "batch_normalization_2 (Batch (None, 133, 32)           128       \n",
      "_________________________________________________________________\n",
      "activation_2 (Activation)    (None, 133, 32)           0         \n",
      "_________________________________________________________________\n",
      "dropout_2 (Dropout)          (None, 133, 32)           0         \n",
      "_________________________________________________________________\n",
      "conv1d_3 (Conv1D)            (None, 131, 64)           6208      \n",
      "_________________________________________________________________\n",
      "batch_normalization_3 (Batch (None, 131, 64)           256       \n",
      "_________________________________________________________________\n",
      "activation_3 (Activation)    (None, 131, 64)           0         \n",
      "_________________________________________________________________\n",
      "dropout_3 (Dropout)          (None, 131, 64)           0         \n",
      "_________________________________________________________________\n",
      "global_average_pooling1d_1 ( (None, 64)                0         \n",
      "_________________________________________________________________\n",
      "dense_1 (Dense)              (None, 2)                 130       \n",
      "=================================================================\n",
      "Total params: 9,522\n",
      "Trainable params: 9,298\n",
      "Non-trainable params: 224\n",
      "_________________________________________________________________\n"
     ]
    }
   ],
   "source": [
    "cnn.summary()"
   ]
  },
  {
   "cell_type": "code",
   "execution_count": 40,
   "metadata": {},
   "outputs": [],
   "source": [
    "from keras.callbacks import ReduceLROnPlateau, ModelCheckpoint"
   ]
  },
  {
   "cell_type": "code",
   "execution_count": 41,
   "metadata": {},
   "outputs": [],
   "source": [
    "rlr = ReduceLROnPlateau(monitor='loss', factor=0.5, patience=50, min_lr=0.0001)\n",
    "mc = ModelCheckpoint('best_model_cnn.h5', monitor='val_loss', save_best_only=True)\n",
    "\n",
    "callbacks = [rlr, mc]\n",
    "\n",
    "batch_size = 16\n",
    "mini_batch_size = int(min(X_train_cnn.shape[0]/10, batch_size))"
   ]
  },
  {
   "cell_type": "code",
   "execution_count": 42,
   "metadata": {},
   "outputs": [
    {
     "name": "stdout",
     "output_type": "stream",
     "text": [
      "Train on 56 samples, validate on 14 samples\n",
      "Epoch 1/5\n",
      "56/56 [==============================] - 0s 3ms/step - loss: 0.6980 - accuracy: 0.5000 - val_loss: 0.6904 - val_accuracy: 0.5000\n"
     ]
    },
    {
     "name": "stderr",
     "output_type": "stream",
     "text": [
      "/opt/anaconda3/lib/python3.7/site-packages/theano/tensor/subtensor.py:2339: FutureWarning: Using a non-tuple sequence for multidimensional indexing is deprecated; use `arr[tuple(seq)]` instead of `arr[seq]`. In the future this will be interpreted as an array index, `arr[np.array(seq)]`, which will result either in an error or a different result.\n",
      "  out[0][inputs[2:]] = inputs[1]\n"
     ]
    },
    {
     "name": "stdout",
     "output_type": "stream",
     "text": [
      "Epoch 2/5\n",
      "56/56 [==============================] - 0s 3ms/step - loss: 0.6560 - accuracy: 0.7143 - val_loss: 0.6885 - val_accuracy: 0.5000\n",
      "Epoch 3/5\n",
      "56/56 [==============================] - 0s 3ms/step - loss: 0.6348 - accuracy: 0.6786 - val_loss: 0.6871 - val_accuracy: 0.5000\n",
      "Epoch 4/5\n",
      "56/56 [==============================] - ETA: 0s - loss: 0.6110 - accuracy: 0.65 - 0s 3ms/step - loss: 0.6156 - accuracy: 0.6429 - val_loss: 0.6863 - val_accuracy: 0.5000\n",
      "Epoch 5/5\n",
      "56/56 [==============================] - 0s 3ms/step - loss: 0.5828 - accuracy: 0.7143 - val_loss: 0.6867 - val_accuracy: 0.5000\n"
     ]
    }
   ],
   "source": [
    "history_cnn = cnn.fit(X_train_cnn, y_train_cnn, epochs=5, batch_size=mini_batch_size, callbacks=callbacks,\n",
    "                      validation_data=(X_val_cnn, y_val_cnn)).history"
   ]
  },
  {
   "cell_type": "code",
   "execution_count": 43,
   "metadata": {},
   "outputs": [
    {
     "name": "stdout",
     "output_type": "stream",
     "text": [
      "Accuracy 0.5\n",
      "F1-score [0.         0.66666667]\n",
      "              precision    recall  f1-score   support\n",
      "\n",
      "           0       0.00      0.00      0.00        15\n",
      "           1       0.50      1.00      0.67        15\n",
      "\n",
      "    accuracy                           0.50        30\n",
      "   macro avg       0.25      0.50      0.33        30\n",
      "weighted avg       0.25      0.50      0.33        30\n",
      "\n"
     ]
    },
    {
     "name": "stderr",
     "output_type": "stream",
     "text": [
      "/opt/anaconda3/lib/python3.7/site-packages/sklearn/metrics/_classification.py:1221: UndefinedMetricWarning: Precision and F-score are ill-defined and being set to 0.0 in labels with no predicted samples. Use `zero_division` parameter to control this behavior.\n",
      "  _warn_prf(average, modifier, msg_start, len(result))\n"
     ]
    }
   ],
   "source": [
    "y_pred = np.argmax(cnn.predict(X_test_cnn), axis=1)\n",
    "\n",
    "print('Accuracy %s' % accuracy_score(y_test, y_pred))\n",
    "print('F1-score %s' % f1_score(y_test, y_pred, average=None))\n",
    "print(classification_report(y_test, y_pred))"
   ]
  },
  {
   "cell_type": "code",
   "execution_count": 44,
   "metadata": {},
   "outputs": [
    {
     "name": "stdout",
     "output_type": "stream",
     "text": [
      "\r",
      "30/30 [==============================] - 0s 1ms/step\n"
     ]
    },
    {
     "data": {
      "text/plain": [
       "[0.6870226263999939, 0.5]"
      ]
     },
     "execution_count": 44,
     "metadata": {},
     "output_type": "execute_result"
    }
   ],
   "source": [
    "cnn.evaluate(X_test_cnn, y_test)"
   ]
  },
  {
   "cell_type": "markdown",
   "metadata": {},
   "source": [
    "# LSTM Classifier"
   ]
  },
  {
   "cell_type": "code",
   "execution_count": 45,
   "metadata": {},
   "outputs": [],
   "source": [
    "from keras.layers import LSTM"
   ]
  },
  {
   "cell_type": "code",
   "execution_count": 46,
   "metadata": {},
   "outputs": [],
   "source": [
    "def build_lstm(n_timesteps, n_outputs):\n",
    "    model = Sequential()\n",
    "    model.add(LSTM(256, input_shape=(n_timesteps, 1)))\n",
    "    model.add(Dropout(0.5))\n",
    "    model.add(Dense(64, activation='relu'))\n",
    "    model.add(Dropout(0.2))\n",
    "    model.add(Dense(n_outputs, activation='sigmoid'))\n",
    "    \n",
    "    model.compile(loss='sparse_categorical_crossentropy', optimizer='adam', metrics=['accuracy'])\n",
    "    \n",
    "    return model"
   ]
  },
  {
   "cell_type": "code",
   "execution_count": 47,
   "metadata": {},
   "outputs": [],
   "source": [
    "lstm = build_lstm(n_timesteps, n_outputs)"
   ]
  },
  {
   "cell_type": "code",
   "execution_count": 48,
   "metadata": {},
   "outputs": [
    {
     "name": "stdout",
     "output_type": "stream",
     "text": [
      "Model: \"sequential_2\"\n",
      "_________________________________________________________________\n",
      "Layer (type)                 Output Shape              Param #   \n",
      "=================================================================\n",
      "lstm_1 (LSTM)                (None, 256)               264192    \n",
      "_________________________________________________________________\n",
      "dropout_4 (Dropout)          (None, 256)               0         \n",
      "_________________________________________________________________\n",
      "dense_2 (Dense)              (None, 64)                16448     \n",
      "_________________________________________________________________\n",
      "dropout_5 (Dropout)          (None, 64)                0         \n",
      "_________________________________________________________________\n",
      "dense_3 (Dense)              (None, 2)                 130       \n",
      "=================================================================\n",
      "Total params: 280,770\n",
      "Trainable params: 280,770\n",
      "Non-trainable params: 0\n",
      "_________________________________________________________________\n"
     ]
    }
   ],
   "source": [
    "lstm.summary()"
   ]
  },
  {
   "cell_type": "code",
   "execution_count": 49,
   "metadata": {},
   "outputs": [
    {
     "name": "stdout",
     "output_type": "stream",
     "text": [
      "Train on 56 samples, validate on 14 samples\n",
      "Epoch 1/10\n",
      "56/56 [==============================] - 0s 3ms/step - loss: 0.5908 - accuracy: 0.7143 - val_loss: 0.6860 - val_accuracy: 0.5714\n"
     ]
    },
    {
     "name": "stderr",
     "output_type": "stream",
     "text": [
      "/opt/anaconda3/lib/python3.7/site-packages/theano/tensor/subtensor.py:2339: FutureWarning: Using a non-tuple sequence for multidimensional indexing is deprecated; use `arr[tuple(seq)]` instead of `arr[seq]`. In the future this will be interpreted as an array index, `arr[np.array(seq)]`, which will result either in an error or a different result.\n",
      "  out[0][inputs[2:]] = inputs[1]\n"
     ]
    },
    {
     "name": "stdout",
     "output_type": "stream",
     "text": [
      "Epoch 2/10\n",
      "56/56 [==============================] - 0s 3ms/step - loss: 0.5274 - accuracy: 0.8214 - val_loss: 0.6863 - val_accuracy: 0.5714\n",
      "Epoch 3/10\n",
      "56/56 [==============================] - 0s 3ms/step - loss: 0.5356 - accuracy: 0.8036 - val_loss: 0.6880 - val_accuracy: 0.6429\n",
      "Epoch 4/10\n",
      "56/56 [==============================] - 0s 3ms/step - loss: 0.5103 - accuracy: 0.7679 - val_loss: 0.6885 - val_accuracy: 0.7143\n",
      "Epoch 5/10\n",
      "56/56 [==============================] - 0s 3ms/step - loss: 0.5028 - accuracy: 0.7500 - val_loss: 0.6863 - val_accuracy: 0.6429\n",
      "Epoch 6/10\n",
      "56/56 [==============================] - 0s 3ms/step - loss: 0.4911 - accuracy: 0.8036 - val_loss: 0.6880 - val_accuracy: 0.5714\n",
      "Epoch 7/10\n",
      "56/56 [==============================] - 0s 3ms/step - loss: 0.3830 - accuracy: 0.9643 - val_loss: 0.6882 - val_accuracy: 0.5714\n",
      "Epoch 8/10\n",
      "56/56 [==============================] - 0s 3ms/step - loss: 0.4518 - accuracy: 0.7857 - val_loss: 0.6872 - val_accuracy: 0.5000\n",
      "Epoch 9/10\n",
      "56/56 [==============================] - 0s 3ms/step - loss: 0.3448 - accuracy: 0.9107 - val_loss: 0.6851 - val_accuracy: 0.5714\n",
      "Epoch 10/10\n",
      "56/56 [==============================] - 0s 3ms/step - loss: 0.2934 - accuracy: 0.9821 - val_loss: 0.6821 - val_accuracy: 0.5714\n"
     ]
    }
   ],
   "source": [
    "history_lstm = cnn.fit(X_train_cnn, y_train_cnn, epochs=10, batch_size=mini_batch_size, callbacks=callbacks,\n",
    "                       validation_data=(X_val_cnn, y_val_cnn)).history"
   ]
  },
  {
   "cell_type": "code",
   "execution_count": 50,
   "metadata": {},
   "outputs": [
    {
     "name": "stdout",
     "output_type": "stream",
     "text": [
      "Accuracy 0.5\n",
      "F1-score [0.66666667 0.        ]\n",
      "              precision    recall  f1-score   support\n",
      "\n",
      "           0       0.50      1.00      0.67        15\n",
      "           1       0.00      0.00      0.00        15\n",
      "\n",
      "    accuracy                           0.50        30\n",
      "   macro avg       0.25      0.50      0.33        30\n",
      "weighted avg       0.25      0.50      0.33        30\n",
      "\n"
     ]
    },
    {
     "name": "stderr",
     "output_type": "stream",
     "text": [
      "/opt/anaconda3/lib/python3.7/site-packages/sklearn/metrics/_classification.py:1221: UndefinedMetricWarning: Precision and F-score are ill-defined and being set to 0.0 in labels with no predicted samples. Use `zero_division` parameter to control this behavior.\n",
      "  _warn_prf(average, modifier, msg_start, len(result))\n"
     ]
    }
   ],
   "source": [
    "y_pred = np.argmax(lstm.predict(X_test_cnn), axis=1)\n",
    "\n",
    "print('Accuracy %s' % accuracy_score(y_test, y_pred))\n",
    "print('F1-score %s' % f1_score(y_test, y_pred, average=None))\n",
    "print(classification_report(y_test, y_pred))"
   ]
  },
  {
   "cell_type": "code",
   "execution_count": 51,
   "metadata": {},
   "outputs": [
    {
     "name": "stdout",
     "output_type": "stream",
     "text": [
      "\r",
      "30/30 [==============================] - 0s 3ms/step\n"
     ]
    },
    {
     "name": "stderr",
     "output_type": "stream",
     "text": [
      "/opt/anaconda3/lib/python3.7/site-packages/theano/tensor/subtensor.py:2339: FutureWarning: Using a non-tuple sequence for multidimensional indexing is deprecated; use `arr[tuple(seq)]` instead of `arr[seq]`. In the future this will be interpreted as an array index, `arr[np.array(seq)]`, which will result either in an error or a different result.\n",
      "  out[0][inputs[2:]] = inputs[1]\n"
     ]
    },
    {
     "data": {
      "text/plain": [
       "[0.6950158476829529, 0.5]"
      ]
     },
     "execution_count": 51,
     "metadata": {},
     "output_type": "execute_result"
    }
   ],
   "source": [
    "lstm.evaluate(X_test_cnn, y_test)"
   ]
  },
  {
   "cell_type": "markdown",
   "metadata": {},
   "source": [
    "# Multivariate Time Series Classifiers"
   ]
  },
  {
   "cell_type": "code",
   "execution_count": 52,
   "metadata": {},
   "outputs": [],
   "source": [
    "from pyts.datasets import load_basic_motions\n",
    "\n",
    "from tslearn.preprocessing import TimeSeriesScalerMinMax\n",
    "from sklearn.model_selection import train_test_split, cross_val_score \n",
    "\n",
    "from sklearn.metrics import accuracy_score, f1_score, classification_report\n",
    "from sklearn.metrics import roc_curve, auc, roc_auc_score"
   ]
  },
  {
   "cell_type": "code",
   "execution_count": 53,
   "metadata": {},
   "outputs": [
    {
     "data": {
      "text/plain": [
       "(100, 144, 5)"
      ]
     },
     "execution_count": 53,
     "metadata": {},
     "output_type": "execute_result"
    }
   ],
   "source": [
    "from sklearn import preprocessing\n",
    "\n",
    "ts_list = []\n",
    "for temp in week_list:\n",
    "    ts = temp[['Temperature','Humidity','CO2','Light','HumidityRatio']].copy()\n",
    "    ts_list.append(ts)\n",
    "\n",
    "ts_array = []\n",
    "ts_size = len(week_list[1])\n",
    "for ts in ts_list:\n",
    "    ts_array.append(np.array(ts))\n",
    "    \n",
    "X = np.array(ts_array)\n",
    "\n",
    "X.shape"
   ]
  },
  {
   "cell_type": "code",
   "execution_count": 54,
   "metadata": {},
   "outputs": [],
   "source": [
    "X_train, X_test, y_train, y_test = train_test_split(X, y, test_size=0.3, random_state=100, stratify=y)"
   ]
  },
  {
   "cell_type": "code",
   "execution_count": 55,
   "metadata": {},
   "outputs": [],
   "source": [
    "scaler = TimeSeriesScalerMinMax()\n",
    "X_train = scaler.fit_transform(X_train)\n",
    "X_test = scaler.transform(X_test)"
   ]
  },
  {
   "cell_type": "code",
   "execution_count": 56,
   "metadata": {},
   "outputs": [
    {
     "name": "stdout",
     "output_type": "stream",
     "text": [
      "(70, 144, 5) (30, 144, 5)\n",
      "[[ 0  1]\n",
      " [35 35]]\n",
      "[[ 0  1]\n",
      " [15 15]]\n"
     ]
    }
   ],
   "source": [
    "print(X_train.shape, X_test.shape)\n",
    "\n",
    "unique_elements, counts_elements = np.unique(y_train, return_counts=True)\n",
    "print(np.asarray((unique_elements, counts_elements)))\n",
    "\n",
    "unique_elements, counts_elements = np.unique(y_test, return_counts=True)\n",
    "print(np.asarray((unique_elements, counts_elements)))"
   ]
  },
  {
   "cell_type": "code",
   "execution_count": 57,
   "metadata": {},
   "outputs": [
    {
     "name": "stdout",
     "output_type": "stream",
     "text": [
      "TIMESTEPS:  144\n",
      "N. LABELS:  2\n",
      "N. FEATURES:  5\n"
     ]
    }
   ],
   "source": [
    "n_timesteps, n_outputs, n_features = X_train.shape[1], len(np.unique(y_train)), X_train.shape[2] \n",
    "print(\"TIMESTEPS: \", n_timesteps)\n",
    "print(\"N. LABELS: \", n_outputs)\n",
    "print(\"N. FEATURES: \", n_features)"
   ]
  },
  {
   "cell_type": "code",
   "execution_count": 58,
   "metadata": {},
   "outputs": [],
   "source": [
    "X_train_cnn, X_val_cnn, y_train_cnn, y_val_cnn = train_test_split(X_train, y_train, test_size=0.2, stratify=y_train)"
   ]
  },
  {
   "cell_type": "code",
   "execution_count": 59,
   "metadata": {},
   "outputs": [],
   "source": [
    "from keras.models import Sequential\n",
    "from keras.layers.core import Dense, Activation, Dropout, Flatten\n",
    "from keras.layers import TimeDistributed\n",
    "from keras.layers.recurrent import LSTM\n",
    "from keras.layers import Dense, Conv1D, Conv2D, MaxPool2D, Flatten, Dropout, LeakyReLU, GlobalAveragePooling1D\n",
    "from keras.callbacks import EarlyStopping, ModelCheckpoint\n",
    "from keras.layers.normalization import BatchNormalization\n",
    "from keras.callbacks import ReduceLROnPlateau, ModelCheckpoint"
   ]
  },
  {
   "cell_type": "code",
   "execution_count": 60,
   "metadata": {},
   "outputs": [],
   "source": [
    "def build_lstm2(n_timesteps, n_outputs, n_features):\n",
    "    model = Sequential()\n",
    "    model.add(LSTM(4, input_shape=(n_timesteps, n_features), return_sequences=True, \n",
    "                        kernel_initializer='TruncatedNormal'))\n",
    "    model.add(BatchNormalization())\n",
    "    model.add(LeakyReLU())\n",
    "    model.add(Dropout(0.3))\n",
    "    \n",
    "    #1\n",
    "    for _ in range(2):\n",
    "        model.add(LSTM(4, kernel_initializer='TruncatedNormal', return_sequences=True))\n",
    "        model.add(BatchNormalization())\n",
    "        model.add(LeakyReLU())\n",
    "        model.add(Dropout(0.04))   \n",
    "\n",
    "    #2\n",
    "    model.add(LSTM(32, kernel_initializer='TruncatedNormal', return_sequences=False))\n",
    "    model.add(BatchNormalization())\n",
    "    model.add(LeakyReLU())\n",
    "    model.add(Dropout(0.7))\n",
    "    \n",
    "    #3\n",
    "    for _ in range(2):\n",
    "        model.add(Dense(256, kernel_initializer='TruncatedNormal'))\n",
    "        model.add(BatchNormalization())\n",
    "        model.add(LeakyReLU())\n",
    "        model.add(Dropout(0.2))\n",
    "    #4\n",
    "    for _ in range(1):\n",
    "        model.add(Dense(64, kernel_initializer='TruncatedNormal'))\n",
    "        model.add(BatchNormalization())\n",
    "        model.add(LeakyReLU())\n",
    "        model.add(Dropout(0.7))\n",
    "\n",
    "    #5\n",
    "    model.add(Dense(32, kernel_initializer='TruncatedNormal'))\n",
    "    model.add(BatchNormalization())\n",
    "    model.add(LeakyReLU())\n",
    "    model.add(Dropout(0.4))\n",
    "        \n",
    "    model.add(Dense(n_outputs, activation='sigmoid'))\n",
    "    \n",
    "    model.compile(loss='sparse_categorical_crossentropy', optimizer='adam', metrics=['accuracy'])\n",
    "    \n",
    "    return model"
   ]
  },
  {
   "cell_type": "code",
   "execution_count": 61,
   "metadata": {},
   "outputs": [],
   "source": [
    "lstm2 = build_lstm2(n_timesteps, n_outputs, n_features)"
   ]
  },
  {
   "cell_type": "code",
   "execution_count": 62,
   "metadata": {},
   "outputs": [
    {
     "name": "stdout",
     "output_type": "stream",
     "text": [
      "Model: \"sequential_3\"\n",
      "_________________________________________________________________\n",
      "Layer (type)                 Output Shape              Param #   \n",
      "=================================================================\n",
      "lstm_2 (LSTM)                (None, 144, 4)            160       \n",
      "_________________________________________________________________\n",
      "batch_normalization_4 (Batch (None, 144, 4)            16        \n",
      "_________________________________________________________________\n",
      "leaky_re_lu_1 (LeakyReLU)    (None, 144, 4)            0         \n",
      "_________________________________________________________________\n",
      "dropout_6 (Dropout)          (None, 144, 4)            0         \n",
      "_________________________________________________________________\n",
      "lstm_3 (LSTM)                (None, 144, 4)            144       \n",
      "_________________________________________________________________\n",
      "batch_normalization_5 (Batch (None, 144, 4)            16        \n",
      "_________________________________________________________________\n",
      "leaky_re_lu_2 (LeakyReLU)    (None, 144, 4)            0         \n",
      "_________________________________________________________________\n",
      "dropout_7 (Dropout)          (None, 144, 4)            0         \n",
      "_________________________________________________________________\n",
      "lstm_4 (LSTM)                (None, 144, 4)            144       \n",
      "_________________________________________________________________\n",
      "batch_normalization_6 (Batch (None, 144, 4)            16        \n",
      "_________________________________________________________________\n",
      "leaky_re_lu_3 (LeakyReLU)    (None, 144, 4)            0         \n",
      "_________________________________________________________________\n",
      "dropout_8 (Dropout)          (None, 144, 4)            0         \n",
      "_________________________________________________________________\n",
      "lstm_5 (LSTM)                (None, 32)                4736      \n",
      "_________________________________________________________________\n",
      "batch_normalization_7 (Batch (None, 32)                128       \n",
      "_________________________________________________________________\n",
      "leaky_re_lu_4 (LeakyReLU)    (None, 32)                0         \n",
      "_________________________________________________________________\n",
      "dropout_9 (Dropout)          (None, 32)                0         \n",
      "_________________________________________________________________\n",
      "dense_4 (Dense)              (None, 256)               8448      \n",
      "_________________________________________________________________\n",
      "batch_normalization_8 (Batch (None, 256)               1024      \n",
      "_________________________________________________________________\n",
      "leaky_re_lu_5 (LeakyReLU)    (None, 256)               0         \n",
      "_________________________________________________________________\n",
      "dropout_10 (Dropout)         (None, 256)               0         \n",
      "_________________________________________________________________\n",
      "dense_5 (Dense)              (None, 256)               65792     \n",
      "_________________________________________________________________\n",
      "batch_normalization_9 (Batch (None, 256)               1024      \n",
      "_________________________________________________________________\n",
      "leaky_re_lu_6 (LeakyReLU)    (None, 256)               0         \n",
      "_________________________________________________________________\n",
      "dropout_11 (Dropout)         (None, 256)               0         \n",
      "_________________________________________________________________\n",
      "dense_6 (Dense)              (None, 64)                16448     \n",
      "_________________________________________________________________\n",
      "batch_normalization_10 (Batc (None, 64)                256       \n",
      "_________________________________________________________________\n",
      "leaky_re_lu_7 (LeakyReLU)    (None, 64)                0         \n",
      "_________________________________________________________________\n",
      "dropout_12 (Dropout)         (None, 64)                0         \n",
      "_________________________________________________________________\n",
      "dense_7 (Dense)              (None, 32)                2080      \n",
      "_________________________________________________________________\n",
      "batch_normalization_11 (Batc (None, 32)                128       \n",
      "_________________________________________________________________\n",
      "leaky_re_lu_8 (LeakyReLU)    (None, 32)                0         \n",
      "_________________________________________________________________\n",
      "dropout_13 (Dropout)         (None, 32)                0         \n",
      "_________________________________________________________________\n",
      "dense_8 (Dense)              (None, 2)                 66        \n",
      "=================================================================\n",
      "Total params: 100,626\n",
      "Trainable params: 99,322\n",
      "Non-trainable params: 1,304\n",
      "_________________________________________________________________\n"
     ]
    }
   ],
   "source": [
    "lstm2.summary()"
   ]
  },
  {
   "cell_type": "code",
   "execution_count": 63,
   "metadata": {},
   "outputs": [],
   "source": [
    "rlr = ReduceLROnPlateau(monitor='loss', factor=0.5, patience=50, min_lr=0.0001)\n",
    "mc = ModelCheckpoint('best_model_lstm2.h5', monitor='val_loss', save_best_only=True)\n",
    "\n",
    "callbacks = [rlr, mc]\n",
    "\n",
    "batch_size = 16\n",
    "mini_batch_size = int(min(X_train.shape[0]/10, batch_size))"
   ]
  },
  {
   "cell_type": "code",
   "execution_count": 64,
   "metadata": {},
   "outputs": [
    {
     "name": "stdout",
     "output_type": "stream",
     "text": [
      "Train on 56 samples, validate on 14 samples\n",
      "Epoch 1/50\n",
      "21/56 [==========>...................] - ETA: 0s - loss: 0.6935 - accuracy: 0.5714"
     ]
    },
    {
     "name": "stderr",
     "output_type": "stream",
     "text": [
      "/opt/anaconda3/lib/python3.7/site-packages/theano/tensor/subtensor.py:2339: FutureWarning: Using a non-tuple sequence for multidimensional indexing is deprecated; use `arr[tuple(seq)]` instead of `arr[seq]`. In the future this will be interpreted as an array index, `arr[np.array(seq)]`, which will result either in an error or a different result.\n",
      "  out[0][inputs[2:]] = inputs[1]\n"
     ]
    },
    {
     "name": "stdout",
     "output_type": "stream",
     "text": [
      "56/56 [==============================] - 0s 7ms/step - loss: 0.7151 - accuracy: 0.5536 - val_loss: 0.6931 - val_accuracy: 0.5000\n",
      "Epoch 2/50\n",
      "56/56 [==============================] - 0s 8ms/step - loss: 0.5400 - accuracy: 0.7679 - val_loss: 0.6932 - val_accuracy: 0.5000\n",
      "Epoch 3/50\n",
      "56/56 [==============================] - 1s 9ms/step - loss: 0.4526 - accuracy: 0.7857 - val_loss: 0.6932 - val_accuracy: 0.5000\n",
      "Epoch 4/50\n",
      "56/56 [==============================] - 1s 10ms/step - loss: 0.4107 - accuracy: 0.8929 - val_loss: 0.6933 - val_accuracy: 0.5000\n",
      "Epoch 5/50\n",
      "56/56 [==============================] - 1s 10ms/step - loss: 0.3206 - accuracy: 0.9643 - val_loss: 0.6933 - val_accuracy: 0.5000\n",
      "Epoch 6/50\n",
      "56/56 [==============================] - 1s 9ms/step - loss: 0.2992 - accuracy: 0.9107 - val_loss: 0.6934 - val_accuracy: 0.5000\n",
      "Epoch 7/50\n",
      "56/56 [==============================] - 1s 10ms/step - loss: 0.4015 - accuracy: 0.8929 - val_loss: 0.6933 - val_accuracy: 0.5000\n",
      "Epoch 8/50\n",
      "56/56 [==============================] - 1s 11ms/step - loss: 0.2962 - accuracy: 0.8929 - val_loss: 0.6933 - val_accuracy: 0.5000\n",
      "Epoch 9/50\n",
      "56/56 [==============================] - 1s 11ms/step - loss: 0.2200 - accuracy: 0.9821 - val_loss: 0.6934 - val_accuracy: 0.5000\n",
      "Epoch 10/50\n",
      "56/56 [==============================] - 1s 11ms/step - loss: 0.2034 - accuracy: 1.0000 - val_loss: 0.6936 - val_accuracy: 0.5000\n",
      "Epoch 11/50\n",
      "56/56 [==============================] - 1s 11ms/step - loss: 0.2530 - accuracy: 0.9286 - val_loss: 0.6937 - val_accuracy: 0.5000\n",
      "Epoch 12/50\n",
      "56/56 [==============================] - 1s 11ms/step - loss: 0.1344 - accuracy: 1.0000 - val_loss: 0.6942 - val_accuracy: 0.5000\n",
      "Epoch 13/50\n",
      "56/56 [==============================] - 1s 11ms/step - loss: 0.2331 - accuracy: 0.9107 - val_loss: 0.6947 - val_accuracy: 0.5000\n",
      "Epoch 14/50\n",
      "56/56 [==============================] - 1s 11ms/step - loss: 0.1585 - accuracy: 0.9643 - val_loss: 0.6954 - val_accuracy: 0.5000\n",
      "Epoch 15/50\n",
      "56/56 [==============================] - 1s 11ms/step - loss: 0.1637 - accuracy: 0.9821 - val_loss: 0.6954 - val_accuracy: 0.5000\n",
      "Epoch 16/50\n",
      "56/56 [==============================] - 1s 10ms/step - loss: 0.1178 - accuracy: 0.9643 - val_loss: 0.6961 - val_accuracy: 0.5000\n",
      "Epoch 17/50\n",
      "56/56 [==============================] - 1s 10ms/step - loss: 0.1485 - accuracy: 0.9821 - val_loss: 0.6956 - val_accuracy: 0.5000\n",
      "Epoch 18/50\n",
      "56/56 [==============================] - 1s 10ms/step - loss: 0.2117 - accuracy: 0.9286 - val_loss: 0.6956 - val_accuracy: 0.5000\n",
      "Epoch 19/50\n",
      "56/56 [==============================] - 1s 10ms/step - loss: 0.1689 - accuracy: 0.9464 - val_loss: 0.6956 - val_accuracy: 0.5000\n",
      "Epoch 20/50\n",
      "56/56 [==============================] - 1s 10ms/step - loss: 0.2584 - accuracy: 0.8750 - val_loss: 0.6952 - val_accuracy: 0.5000\n",
      "Epoch 21/50\n",
      "56/56 [==============================] - 1s 10ms/step - loss: 0.0800 - accuracy: 1.0000 - val_loss: 0.6937 - val_accuracy: 0.5000\n",
      "Epoch 22/50\n",
      "56/56 [==============================] - 1s 11ms/step - loss: 0.1650 - accuracy: 0.9464 - val_loss: 0.6924 - val_accuracy: 0.5000\n",
      "Epoch 23/50\n",
      "56/56 [==============================] - 1s 10ms/step - loss: 0.1477 - accuracy: 1.0000 - val_loss: 0.6911 - val_accuracy: 0.5000\n",
      "Epoch 24/50\n",
      "56/56 [==============================] - 1s 10ms/step - loss: 0.1295 - accuracy: 0.9821 - val_loss: 0.6907 - val_accuracy: 0.5000\n",
      "Epoch 25/50\n",
      "56/56 [==============================] - 1s 10ms/step - loss: 0.0948 - accuracy: 1.0000 - val_loss: 0.6918 - val_accuracy: 0.5000\n",
      "Epoch 26/50\n",
      "56/56 [==============================] - 1s 10ms/step - loss: 0.1058 - accuracy: 1.0000 - val_loss: 0.6954 - val_accuracy: 0.5000\n",
      "Epoch 27/50\n",
      "56/56 [==============================] - 1s 10ms/step - loss: 0.0741 - accuracy: 1.0000 - val_loss: 0.6997 - val_accuracy: 0.5000\n",
      "Epoch 28/50\n",
      "56/56 [==============================] - 1s 10ms/step - loss: 0.0630 - accuracy: 1.0000 - val_loss: 0.7029 - val_accuracy: 0.5000\n",
      "Epoch 29/50\n",
      "56/56 [==============================] - 1s 10ms/step - loss: 0.1773 - accuracy: 0.9821 - val_loss: 0.7005 - val_accuracy: 0.5000\n",
      "Epoch 30/50\n",
      "56/56 [==============================] - 1s 10ms/step - loss: 0.0752 - accuracy: 1.0000 - val_loss: 0.6991 - val_accuracy: 0.5000\n",
      "Epoch 31/50\n",
      "56/56 [==============================] - 0s 8ms/step - loss: 0.0897 - accuracy: 0.9821 - val_loss: 0.7030 - val_accuracy: 0.5000\n",
      "Epoch 32/50\n",
      "56/56 [==============================] - 0s 8ms/step - loss: 0.0972 - accuracy: 1.0000 - val_loss: 0.7092 - val_accuracy: 0.5000\n",
      "Epoch 33/50\n",
      "56/56 [==============================] - 0s 8ms/step - loss: 0.0876 - accuracy: 0.9643 - val_loss: 0.7103 - val_accuracy: 0.5000\n",
      "Epoch 34/50\n",
      "56/56 [==============================] - 0s 8ms/step - loss: 0.1791 - accuracy: 0.9464 - val_loss: 0.7005 - val_accuracy: 0.5000\n",
      "Epoch 35/50\n",
      "56/56 [==============================] - 0s 8ms/step - loss: 0.0500 - accuracy: 1.0000 - val_loss: 0.6994 - val_accuracy: 0.5000\n",
      "Epoch 36/50\n",
      "56/56 [==============================] - 0s 7ms/step - loss: 0.2137 - accuracy: 0.9107 - val_loss: 0.6823 - val_accuracy: 0.5000\n",
      "Epoch 37/50\n",
      "56/56 [==============================] - 0s 8ms/step - loss: 0.1067 - accuracy: 0.9643 - val_loss: 0.7092 - val_accuracy: 0.5000\n",
      "Epoch 38/50\n",
      "56/56 [==============================] - 0s 7ms/step - loss: 0.0947 - accuracy: 0.9643 - val_loss: 0.7287 - val_accuracy: 0.5000\n",
      "Epoch 39/50\n",
      "56/56 [==============================] - 0s 8ms/step - loss: 0.1929 - accuracy: 0.9464 - val_loss: 0.7815 - val_accuracy: 0.5000\n",
      "Epoch 40/50\n",
      "56/56 [==============================] - 0s 8ms/step - loss: 0.0631 - accuracy: 1.0000 - val_loss: 0.8212 - val_accuracy: 0.5000\n",
      "Epoch 41/50\n",
      "56/56 [==============================] - 0s 8ms/step - loss: 0.0571 - accuracy: 1.0000 - val_loss: 0.8461 - val_accuracy: 0.5000\n",
      "Epoch 42/50\n",
      "56/56 [==============================] - 0s 9ms/step - loss: 0.0372 - accuracy: 1.0000 - val_loss: 0.8719 - val_accuracy: 0.5000\n",
      "Epoch 43/50\n",
      "56/56 [==============================] - 0s 8ms/step - loss: 0.0338 - accuracy: 1.0000 - val_loss: 0.8880 - val_accuracy: 0.5000\n",
      "Epoch 44/50\n",
      "56/56 [==============================] - 0s 7ms/step - loss: 0.0612 - accuracy: 0.9821 - val_loss: 0.8932 - val_accuracy: 0.5000\n",
      "Epoch 45/50\n",
      "56/56 [==============================] - 0s 8ms/step - loss: 0.0566 - accuracy: 1.0000 - val_loss: 0.9000 - val_accuracy: 0.5000\n",
      "Epoch 46/50\n",
      "56/56 [==============================] - 1s 10ms/step - loss: 0.2868 - accuracy: 0.9464 - val_loss: 0.9128 - val_accuracy: 0.5000\n",
      "Epoch 47/50\n",
      "56/56 [==============================] - 1s 10ms/step - loss: 0.0708 - accuracy: 0.9821 - val_loss: 0.9006 - val_accuracy: 0.5000\n",
      "Epoch 48/50\n",
      "56/56 [==============================] - 1s 10ms/step - loss: 0.4080 - accuracy: 0.9107 - val_loss: 0.8485 - val_accuracy: 0.5000\n",
      "Epoch 49/50\n",
      "56/56 [==============================] - 1s 10ms/step - loss: 0.2233 - accuracy: 0.9107 - val_loss: 0.8554 - val_accuracy: 0.5000\n",
      "Epoch 50/50\n",
      "56/56 [==============================] - 1s 10ms/step - loss: 0.0965 - accuracy: 0.9821 - val_loss: 0.9298 - val_accuracy: 0.5000\n"
     ]
    }
   ],
   "source": [
    "history_lstm2 = lstm2.fit(X_train_cnn, y_train_cnn, epochs=50, batch_size=mini_batch_size, callbacks=callbacks,\n",
    "                          validation_data=(X_val_cnn, y_val_cnn)).history"
   ]
  },
  {
   "cell_type": "code",
   "execution_count": 65,
   "metadata": {},
   "outputs": [
    {
     "name": "stdout",
     "output_type": "stream",
     "text": [
      "Accuracy 0.5\n",
      "F1-score [0.         0.66666667]\n",
      "              precision    recall  f1-score   support\n",
      "\n",
      "           0       0.00      0.00      0.00        15\n",
      "           1       0.50      1.00      0.67        15\n",
      "\n",
      "    accuracy                           0.50        30\n",
      "   macro avg       0.25      0.50      0.33        30\n",
      "weighted avg       0.25      0.50      0.33        30\n",
      "\n"
     ]
    },
    {
     "name": "stderr",
     "output_type": "stream",
     "text": [
      "/opt/anaconda3/lib/python3.7/site-packages/sklearn/metrics/_classification.py:1221: UndefinedMetricWarning: Precision and F-score are ill-defined and being set to 0.0 in labels with no predicted samples. Use `zero_division` parameter to control this behavior.\n",
      "  _warn_prf(average, modifier, msg_start, len(result))\n"
     ]
    }
   ],
   "source": [
    "y_pred = np.argmax(lstm2.predict(X_test), axis=1)\n",
    "\n",
    "print('Accuracy %s' % accuracy_score(y_test, y_pred))\n",
    "print('F1-score %s' % f1_score(y_test, y_pred, average=None))\n",
    "print(classification_report(y_test, y_pred))"
   ]
  },
  {
   "cell_type": "code",
   "execution_count": 66,
   "metadata": {},
   "outputs": [
    {
     "data": {
      "text/plain": [
       "(56, 144, 5)"
      ]
     },
     "execution_count": 66,
     "metadata": {},
     "output_type": "execute_result"
    }
   ],
   "source": [
    "X_train_cnn.shape"
   ]
  },
  {
   "cell_type": "code",
   "execution_count": 67,
   "metadata": {},
   "outputs": [
    {
     "data": {
      "text/plain": [
       "(56, 144, 5, 1)"
      ]
     },
     "execution_count": 67,
     "metadata": {},
     "output_type": "execute_result"
    }
   ],
   "source": [
    "X_train_cnn2 = X_train_cnn.reshape(X_train_cnn.shape[0], X_train_cnn.shape[1], X_train_cnn.shape[2], 1)\n",
    "X_val_cnn2 = X_val_cnn.reshape(X_val_cnn.shape[0], X_val_cnn.shape[1], X_val_cnn.shape[2], 1)\n",
    "X_test_cnn2 = X_test.reshape(X_test.shape[0], X_test.shape[1], X_test.shape[2], 1)\n",
    "\n",
    "X_train_cnn2.shape"
   ]
  },
  {
   "cell_type": "code",
   "execution_count": 68,
   "metadata": {},
   "outputs": [],
   "source": [
    "def build_cnn2(n_timesteps, n_features, n_outputs):\n",
    "    input_shape = (n_timesteps, n_features, 1)\n",
    "\n",
    "    model = Sequential()\n",
    "    \n",
    "    ks1_first = 3\n",
    "    ks1_second = 3\n",
    "    \n",
    "    ks2_first = 4\n",
    "    ks2_second = 4\n",
    "    \n",
    "    model.add(Conv2D(filters=(3), \n",
    "                     kernel_size=(ks1_first, ks1_second),\n",
    "                     input_shape=input_shape, \n",
    "                     padding='same',\n",
    "                     kernel_initializer='TruncatedNormal'))\n",
    "    model.add(BatchNormalization())\n",
    "    model.add(LeakyReLU())\n",
    "    model.add(Dropout(0.02))\n",
    "    \n",
    "    for _ in range(2):\n",
    "        model.add(Conv2D(filters=(4), \n",
    "                     kernel_size= (ks2_first, ks2_second), \n",
    "                         padding='same',\n",
    "                     kernel_initializer='TruncatedNormal'))\n",
    "        model.add(BatchNormalization())\n",
    "        model.add(LeakyReLU())\n",
    "        model.add(Dropout(0.2))  \n",
    "    \n",
    "    model.add(Flatten())\n",
    "    \n",
    "    for _ in range(4):\n",
    "        model.add(Dense(64 , kernel_initializer='TruncatedNormal'))\n",
    "        model.add(BatchNormalization())\n",
    "        model.add(LeakyReLU())\n",
    "        model.add(Dropout(0.4))\n",
    "    \n",
    "    for _ in range(3):\n",
    "        model.add(Dense(128 , kernel_initializer='TruncatedNormal'))\n",
    "        model.add(BatchNormalization())\n",
    "        model.add(LeakyReLU())\n",
    "        model.add(Dropout(0.3))\n",
    "  \n",
    "    model.add(Dense(1024 , kernel_initializer='TruncatedNormal'))\n",
    "    model.add(BatchNormalization())\n",
    "    model.add(LeakyReLU())\n",
    "    model.add(Dropout(0.7))\n",
    "        \n",
    "    model.add(Dense(n_outputs, activation='sigmoid'))\n",
    "    model.compile(loss='sparse_categorical_crossentropy', optimizer='adam', metrics=['accuracy'])\n",
    "    \n",
    "    return model"
   ]
  },
  {
   "cell_type": "code",
   "execution_count": 69,
   "metadata": {},
   "outputs": [],
   "source": [
    "cnn2 = build_cnn2(n_timesteps, n_features, n_outputs)"
   ]
  },
  {
   "cell_type": "code",
   "execution_count": 70,
   "metadata": {},
   "outputs": [
    {
     "name": "stdout",
     "output_type": "stream",
     "text": [
      "Model: \"sequential_4\"\n",
      "_________________________________________________________________\n",
      "Layer (type)                 Output Shape              Param #   \n",
      "=================================================================\n",
      "conv2d_1 (Conv2D)            (None, 144, 5, 3)         30        \n",
      "_________________________________________________________________\n",
      "batch_normalization_12 (Batc (None, 144, 5, 3)         12        \n",
      "_________________________________________________________________\n",
      "leaky_re_lu_9 (LeakyReLU)    (None, 144, 5, 3)         0         \n",
      "_________________________________________________________________\n",
      "dropout_14 (Dropout)         (None, 144, 5, 3)         0         \n",
      "_________________________________________________________________\n",
      "conv2d_2 (Conv2D)            (None, 144, 5, 4)         196       \n",
      "_________________________________________________________________\n",
      "batch_normalization_13 (Batc (None, 144, 5, 4)         16        \n",
      "_________________________________________________________________\n",
      "leaky_re_lu_10 (LeakyReLU)   (None, 144, 5, 4)         0         \n",
      "_________________________________________________________________\n",
      "dropout_15 (Dropout)         (None, 144, 5, 4)         0         \n",
      "_________________________________________________________________\n",
      "conv2d_3 (Conv2D)            (None, 144, 5, 4)         260       \n",
      "_________________________________________________________________\n",
      "batch_normalization_14 (Batc (None, 144, 5, 4)         16        \n",
      "_________________________________________________________________\n",
      "leaky_re_lu_11 (LeakyReLU)   (None, 144, 5, 4)         0         \n",
      "_________________________________________________________________\n",
      "dropout_16 (Dropout)         (None, 144, 5, 4)         0         \n",
      "_________________________________________________________________\n",
      "flatten_1 (Flatten)          (None, 2880)              0         \n",
      "_________________________________________________________________\n",
      "dense_9 (Dense)              (None, 64)                184384    \n",
      "_________________________________________________________________\n",
      "batch_normalization_15 (Batc (None, 64)                256       \n",
      "_________________________________________________________________\n",
      "leaky_re_lu_12 (LeakyReLU)   (None, 64)                0         \n",
      "_________________________________________________________________\n",
      "dropout_17 (Dropout)         (None, 64)                0         \n",
      "_________________________________________________________________\n",
      "dense_10 (Dense)             (None, 64)                4160      \n",
      "_________________________________________________________________\n",
      "batch_normalization_16 (Batc (None, 64)                256       \n",
      "_________________________________________________________________\n",
      "leaky_re_lu_13 (LeakyReLU)   (None, 64)                0         \n",
      "_________________________________________________________________\n",
      "dropout_18 (Dropout)         (None, 64)                0         \n",
      "_________________________________________________________________\n",
      "dense_11 (Dense)             (None, 64)                4160      \n",
      "_________________________________________________________________\n",
      "batch_normalization_17 (Batc (None, 64)                256       \n",
      "_________________________________________________________________\n",
      "leaky_re_lu_14 (LeakyReLU)   (None, 64)                0         \n",
      "_________________________________________________________________\n",
      "dropout_19 (Dropout)         (None, 64)                0         \n",
      "_________________________________________________________________\n",
      "dense_12 (Dense)             (None, 64)                4160      \n",
      "_________________________________________________________________\n",
      "batch_normalization_18 (Batc (None, 64)                256       \n",
      "_________________________________________________________________\n",
      "leaky_re_lu_15 (LeakyReLU)   (None, 64)                0         \n",
      "_________________________________________________________________\n",
      "dropout_20 (Dropout)         (None, 64)                0         \n",
      "_________________________________________________________________\n",
      "dense_13 (Dense)             (None, 128)               8320      \n",
      "_________________________________________________________________\n",
      "batch_normalization_19 (Batc (None, 128)               512       \n",
      "_________________________________________________________________\n",
      "leaky_re_lu_16 (LeakyReLU)   (None, 128)               0         \n",
      "_________________________________________________________________\n",
      "dropout_21 (Dropout)         (None, 128)               0         \n",
      "_________________________________________________________________\n",
      "dense_14 (Dense)             (None, 128)               16512     \n",
      "_________________________________________________________________\n",
      "batch_normalization_20 (Batc (None, 128)               512       \n",
      "_________________________________________________________________\n",
      "leaky_re_lu_17 (LeakyReLU)   (None, 128)               0         \n",
      "_________________________________________________________________\n",
      "dropout_22 (Dropout)         (None, 128)               0         \n",
      "_________________________________________________________________\n",
      "dense_15 (Dense)             (None, 128)               16512     \n",
      "_________________________________________________________________\n",
      "batch_normalization_21 (Batc (None, 128)               512       \n",
      "_________________________________________________________________\n",
      "leaky_re_lu_18 (LeakyReLU)   (None, 128)               0         \n",
      "_________________________________________________________________\n",
      "dropout_23 (Dropout)         (None, 128)               0         \n",
      "_________________________________________________________________\n",
      "dense_16 (Dense)             (None, 1024)              132096    \n",
      "_________________________________________________________________\n",
      "batch_normalization_22 (Batc (None, 1024)              4096      \n",
      "_________________________________________________________________\n",
      "leaky_re_lu_19 (LeakyReLU)   (None, 1024)              0         \n",
      "_________________________________________________________________\n",
      "dropout_24 (Dropout)         (None, 1024)              0         \n",
      "_________________________________________________________________\n",
      "dense_17 (Dense)             (None, 2)                 2050      \n",
      "=================================================================\n",
      "Total params: 379,540\n",
      "Trainable params: 376,190\n",
      "Non-trainable params: 3,350\n",
      "_________________________________________________________________\n"
     ]
    }
   ],
   "source": [
    "cnn2.summary()"
   ]
  },
  {
   "cell_type": "code",
   "execution_count": 71,
   "metadata": {},
   "outputs": [],
   "source": [
    "rlr = ReduceLROnPlateau(monitor='loss', factor=0.5, patience=50, min_lr=0.0001)\n",
    "mc = ModelCheckpoint('best_model_cnn2.h5', monitor='val_loss', save_best_only=True)\n",
    "\n",
    "callbacks = [rlr, mc]\n",
    "\n",
    "batch_size = 16\n",
    "mini_batch_size = int(min(X_train.shape[0]/10, batch_size))"
   ]
  },
  {
   "cell_type": "code",
   "execution_count": 72,
   "metadata": {},
   "outputs": [
    {
     "name": "stdout",
     "output_type": "stream",
     "text": [
      "Train on 56 samples, validate on 14 samples\n",
      "Epoch 1/50\n",
      "56/56 [==============================] - 0s 2ms/step - loss: 0.8828 - accuracy: 0.4821 - val_loss: 0.6932 - val_accuracy: 0.5000\n"
     ]
    },
    {
     "name": "stderr",
     "output_type": "stream",
     "text": [
      "/opt/anaconda3/lib/python3.7/site-packages/theano/tensor/subtensor.py:2339: FutureWarning: Using a non-tuple sequence for multidimensional indexing is deprecated; use `arr[tuple(seq)]` instead of `arr[seq]`. In the future this will be interpreted as an array index, `arr[np.array(seq)]`, which will result either in an error or a different result.\n",
      "  out[0][inputs[2:]] = inputs[1]\n"
     ]
    },
    {
     "name": "stdout",
     "output_type": "stream",
     "text": [
      "Epoch 2/50\n",
      "56/56 [==============================] - 0s 2ms/step - loss: 0.8190 - accuracy: 0.5357 - val_loss: 0.6935 - val_accuracy: 0.5000\n",
      "Epoch 3/50\n",
      "56/56 [==============================] - 0s 2ms/step - loss: 0.7175 - accuracy: 0.5000 - val_loss: 0.6944 - val_accuracy: 0.5000\n",
      "Epoch 4/50\n",
      "56/56 [==============================] - 0s 2ms/step - loss: 0.5365 - accuracy: 0.7857 - val_loss: 0.6954 - val_accuracy: 0.5000\n",
      "Epoch 5/50\n",
      "56/56 [==============================] - 0s 2ms/step - loss: 0.4499 - accuracy: 0.8036 - val_loss: 0.6971 - val_accuracy: 0.5000\n",
      "Epoch 6/50\n",
      "56/56 [==============================] - 0s 2ms/step - loss: 0.4846 - accuracy: 0.7857 - val_loss: 0.6999 - val_accuracy: 0.5000\n",
      "Epoch 7/50\n",
      "56/56 [==============================] - 0s 2ms/step - loss: 0.3667 - accuracy: 0.8571 - val_loss: 0.7033 - val_accuracy: 0.5000\n",
      "Epoch 8/50\n",
      "56/56 [==============================] - 0s 2ms/step - loss: 0.4227 - accuracy: 0.7679 - val_loss: 0.7064 - val_accuracy: 0.5000\n",
      "Epoch 9/50\n",
      "56/56 [==============================] - 0s 2ms/step - loss: 0.3788 - accuracy: 0.8571 - val_loss: 0.7058 - val_accuracy: 0.5000\n",
      "Epoch 10/50\n",
      "56/56 [==============================] - 0s 2ms/step - loss: 0.2452 - accuracy: 0.9107 - val_loss: 0.7040 - val_accuracy: 0.5000\n",
      "Epoch 11/50\n",
      "56/56 [==============================] - 0s 2ms/step - loss: 0.1297 - accuracy: 0.9821 - val_loss: 0.7044 - val_accuracy: 0.5000\n",
      "Epoch 12/50\n",
      "56/56 [==============================] - 0s 2ms/step - loss: 0.6078 - accuracy: 0.8571 - val_loss: 0.7052 - val_accuracy: 0.5000\n",
      "Epoch 13/50\n",
      "56/56 [==============================] - 0s 2ms/step - loss: 0.1597 - accuracy: 0.9464 - val_loss: 0.7063 - val_accuracy: 0.5000\n",
      "Epoch 14/50\n",
      "56/56 [==============================] - 0s 2ms/step - loss: 0.1353 - accuracy: 0.9464 - val_loss: 0.7059 - val_accuracy: 0.5000\n",
      "Epoch 15/50\n",
      "56/56 [==============================] - 0s 2ms/step - loss: 0.1894 - accuracy: 0.9464 - val_loss: 0.7052 - val_accuracy: 0.5000\n",
      "Epoch 16/50\n",
      "56/56 [==============================] - 0s 2ms/step - loss: 0.1859 - accuracy: 0.9286 - val_loss: 0.7040 - val_accuracy: 0.5000\n",
      "Epoch 17/50\n",
      "56/56 [==============================] - 0s 2ms/step - loss: 0.1954 - accuracy: 0.8929 - val_loss: 0.7034 - val_accuracy: 0.5000\n",
      "Epoch 18/50\n",
      "56/56 [==============================] - 0s 2ms/step - loss: 0.1473 - accuracy: 0.9464 - val_loss: 0.7023 - val_accuracy: 0.5000\n",
      "Epoch 19/50\n",
      "56/56 [==============================] - 0s 2ms/step - loss: 0.0766 - accuracy: 0.9821 - val_loss: 0.7009 - val_accuracy: 0.5000\n",
      "Epoch 20/50\n",
      "56/56 [==============================] - 0s 2ms/step - loss: 0.1395 - accuracy: 0.9286 - val_loss: 0.6959 - val_accuracy: 0.5000\n",
      "Epoch 21/50\n",
      "56/56 [==============================] - 0s 2ms/step - loss: 0.4246 - accuracy: 0.9286 - val_loss: 0.6919 - val_accuracy: 0.5000\n",
      "Epoch 22/50\n",
      "56/56 [==============================] - 0s 2ms/step - loss: 0.0878 - accuracy: 0.9821 - val_loss: 0.6884 - val_accuracy: 0.5000\n",
      "Epoch 23/50\n",
      "56/56 [==============================] - 0s 2ms/step - loss: 0.2632 - accuracy: 0.9107 - val_loss: 0.6878 - val_accuracy: 0.5000\n",
      "Epoch 24/50\n",
      "56/56 [==============================] - 0s 2ms/step - loss: 0.2051 - accuracy: 0.9286 - val_loss: 0.6846 - val_accuracy: 0.5000\n",
      "Epoch 25/50\n",
      "56/56 [==============================] - 0s 2ms/step - loss: 0.1217 - accuracy: 0.9464 - val_loss: 0.6790 - val_accuracy: 0.5000\n",
      "Epoch 26/50\n",
      "56/56 [==============================] - 0s 2ms/step - loss: 0.0730 - accuracy: 0.9821 - val_loss: 0.6754 - val_accuracy: 0.5714\n",
      "Epoch 27/50\n",
      "56/56 [==============================] - 0s 2ms/step - loss: 0.0918 - accuracy: 0.9464 - val_loss: 0.6664 - val_accuracy: 1.0000\n",
      "Epoch 28/50\n",
      "56/56 [==============================] - 0s 2ms/step - loss: 0.1381 - accuracy: 0.9286 - val_loss: 0.6546 - val_accuracy: 0.9286\n",
      "Epoch 29/50\n",
      "56/56 [==============================] - 0s 2ms/step - loss: 0.0818 - accuracy: 0.9643 - val_loss: 0.6379 - val_accuracy: 0.5714\n",
      "Epoch 30/50\n",
      "56/56 [==============================] - 0s 2ms/step - loss: 0.1753 - accuracy: 0.9107 - val_loss: 0.6241 - val_accuracy: 0.6429\n",
      "Epoch 31/50\n",
      "56/56 [==============================] - 0s 2ms/step - loss: 0.2336 - accuracy: 0.9286 - val_loss: 0.6146 - val_accuracy: 0.9286\n",
      "Epoch 32/50\n",
      "56/56 [==============================] - 0s 2ms/step - loss: 0.1365 - accuracy: 0.9464 - val_loss: 0.6115 - val_accuracy: 0.7857\n",
      "Epoch 33/50\n",
      "56/56 [==============================] - 0s 2ms/step - loss: 0.1211 - accuracy: 0.9286 - val_loss: 0.6147 - val_accuracy: 0.5000\n",
      "Epoch 34/50\n",
      "56/56 [==============================] - 0s 2ms/step - loss: 0.0859 - accuracy: 0.9821 - val_loss: 0.6132 - val_accuracy: 0.5000\n",
      "Epoch 35/50\n",
      "56/56 [==============================] - 0s 2ms/step - loss: 0.0753 - accuracy: 0.9643 - val_loss: 0.6265 - val_accuracy: 0.5000\n",
      "Epoch 36/50\n",
      "56/56 [==============================] - 0s 2ms/step - loss: 0.0420 - accuracy: 0.9821 - val_loss: 0.6514 - val_accuracy: 0.5000\n",
      "Epoch 37/50\n",
      "56/56 [==============================] - 0s 2ms/step - loss: 0.1683 - accuracy: 0.9286 - val_loss: 0.6662 - val_accuracy: 0.5000\n",
      "Epoch 38/50\n",
      "56/56 [==============================] - 0s 2ms/step - loss: 0.4943 - accuracy: 0.9107 - val_loss: 0.6336 - val_accuracy: 0.5000\n",
      "Epoch 39/50\n",
      "56/56 [==============================] - 0s 2ms/step - loss: 0.0668 - accuracy: 0.9821 - val_loss: 0.6093 - val_accuracy: 0.5000\n",
      "Epoch 40/50\n",
      "56/56 [==============================] - 0s 2ms/step - loss: 0.0523 - accuracy: 0.9643 - val_loss: 0.6183 - val_accuracy: 0.5000\n",
      "Epoch 41/50\n",
      "56/56 [==============================] - 0s 2ms/step - loss: 0.2364 - accuracy: 0.9464 - val_loss: 0.6381 - val_accuracy: 0.5000\n",
      "Epoch 42/50\n",
      "56/56 [==============================] - 0s 2ms/step - loss: 0.5336 - accuracy: 0.8929 - val_loss: 0.6201 - val_accuracy: 0.5000\n",
      "Epoch 43/50\n",
      "56/56 [==============================] - 0s 2ms/step - loss: 0.0817 - accuracy: 0.9643 - val_loss: 0.6116 - val_accuracy: 0.5000\n",
      "Epoch 44/50\n",
      "56/56 [==============================] - 0s 2ms/step - loss: 0.2110 - accuracy: 0.9286 - val_loss: 0.6175 - val_accuracy: 0.5000\n",
      "Epoch 45/50\n",
      "56/56 [==============================] - 0s 2ms/step - loss: 0.0481 - accuracy: 1.0000 - val_loss: 0.5913 - val_accuracy: 0.5000\n",
      "Epoch 46/50\n",
      "56/56 [==============================] - 0s 2ms/step - loss: 0.0261 - accuracy: 1.0000 - val_loss: 0.5778 - val_accuracy: 0.5000\n",
      "Epoch 47/50\n",
      "56/56 [==============================] - 0s 2ms/step - loss: 0.0511 - accuracy: 0.9821 - val_loss: 0.5699 - val_accuracy: 0.5000\n",
      "Epoch 48/50\n",
      "56/56 [==============================] - 0s 2ms/step - loss: 0.1874 - accuracy: 0.9286 - val_loss: 0.5760 - val_accuracy: 0.5000\n",
      "Epoch 49/50\n",
      "56/56 [==============================] - 0s 2ms/step - loss: 0.0311 - accuracy: 1.0000 - val_loss: 0.5730 - val_accuracy: 0.5000\n",
      "Epoch 50/50\n",
      "56/56 [==============================] - 0s 2ms/step - loss: 0.1382 - accuracy: 0.9821 - val_loss: 0.5513 - val_accuracy: 0.5000\n"
     ]
    }
   ],
   "source": [
    "history_cnn2 = cnn2.fit(X_train_cnn2, y_train_cnn, epochs=50, batch_size=mini_batch_size, callbacks=callbacks,\n",
    "                      validation_data=(X_val_cnn2, y_val_cnn)).history"
   ]
  },
  {
   "cell_type": "code",
   "execution_count": 73,
   "metadata": {},
   "outputs": [
    {
     "name": "stdout",
     "output_type": "stream",
     "text": [
      "Accuracy 0.5\n",
      "F1-score [0.         0.66666667]\n",
      "              precision    recall  f1-score   support\n",
      "\n",
      "           0       0.00      0.00      0.00        15\n",
      "           1       0.50      1.00      0.67        15\n",
      "\n",
      "    accuracy                           0.50        30\n",
      "   macro avg       0.25      0.50      0.33        30\n",
      "weighted avg       0.25      0.50      0.33        30\n",
      "\n"
     ]
    },
    {
     "name": "stderr",
     "output_type": "stream",
     "text": [
      "/opt/anaconda3/lib/python3.7/site-packages/sklearn/metrics/_classification.py:1221: UndefinedMetricWarning: Precision and F-score are ill-defined and being set to 0.0 in labels with no predicted samples. Use `zero_division` parameter to control this behavior.\n",
      "  _warn_prf(average, modifier, msg_start, len(result))\n"
     ]
    }
   ],
   "source": [
    "y_pred = np.argmax(cnn2.predict(X_test_cnn2), axis=1)\n",
    "\n",
    "print('Accuracy %s' % accuracy_score(y_test, y_pred))\n",
    "print('F1-score %s' % f1_score(y_test, y_pred, average=None))\n",
    "print(classification_report(y_test, y_pred))"
   ]
  },
  {
   "cell_type": "code",
   "execution_count": 74,
   "metadata": {},
   "outputs": [],
   "source": [
    "def build_cnn3(n_timesteps, n_outputs, n_features):\n",
    "    model = Sequential()\n",
    "    \n",
    "    model.add(Conv1D(filters=16, kernel_size=8, activation='relu', input_shape=(n_timesteps, n_features)))\n",
    "    model.add(BatchNormalization())\n",
    "    model.add(Activation('relu'))\n",
    "    \n",
    "    model.add(Dropout(0.3))\n",
    "    \n",
    "    model.add(Conv1D(filters=32, kernel_size=5, activation='relu'))\n",
    "    model.add(BatchNormalization())\n",
    "    model.add(Activation('relu'))\n",
    "    \n",
    "    model.add(Dropout(0.3))\n",
    "    \n",
    "    model.add(Conv1D(filters=64, kernel_size=3, activation='relu'))\n",
    "    model.add(BatchNormalization())\n",
    "    model.add(Activation('relu'))\n",
    "    \n",
    "    model.add(Dropout(0.3))\n",
    "    \n",
    "    model.add(GlobalAveragePooling1D())\n",
    "    \n",
    "    model.add(Dense(n_outputs, activation='sigmoid'))\n",
    "    model.compile(loss='sparse_categorical_crossentropy', optimizer='adam', metrics=['accuracy'])\n",
    "    \n",
    "    return model"
   ]
  },
  {
   "cell_type": "code",
   "execution_count": 75,
   "metadata": {},
   "outputs": [],
   "source": [
    "cnn3 = build_cnn3(n_timesteps, n_outputs, n_features)"
   ]
  },
  {
   "cell_type": "code",
   "execution_count": 76,
   "metadata": {},
   "outputs": [
    {
     "name": "stdout",
     "output_type": "stream",
     "text": [
      "Model: \"sequential_5\"\n",
      "_________________________________________________________________\n",
      "Layer (type)                 Output Shape              Param #   \n",
      "=================================================================\n",
      "conv1d_4 (Conv1D)            (None, 137, 16)           656       \n",
      "_________________________________________________________________\n",
      "batch_normalization_23 (Batc (None, 137, 16)           64        \n",
      "_________________________________________________________________\n",
      "activation_4 (Activation)    (None, 137, 16)           0         \n",
      "_________________________________________________________________\n",
      "dropout_25 (Dropout)         (None, 137, 16)           0         \n",
      "_________________________________________________________________\n",
      "conv1d_5 (Conv1D)            (None, 133, 32)           2592      \n",
      "_________________________________________________________________\n",
      "batch_normalization_24 (Batc (None, 133, 32)           128       \n",
      "_________________________________________________________________\n",
      "activation_5 (Activation)    (None, 133, 32)           0         \n",
      "_________________________________________________________________\n",
      "dropout_26 (Dropout)         (None, 133, 32)           0         \n",
      "_________________________________________________________________\n",
      "conv1d_6 (Conv1D)            (None, 131, 64)           6208      \n",
      "_________________________________________________________________\n",
      "batch_normalization_25 (Batc (None, 131, 64)           256       \n",
      "_________________________________________________________________\n",
      "activation_6 (Activation)    (None, 131, 64)           0         \n",
      "_________________________________________________________________\n",
      "dropout_27 (Dropout)         (None, 131, 64)           0         \n",
      "_________________________________________________________________\n",
      "global_average_pooling1d_2 ( (None, 64)                0         \n",
      "_________________________________________________________________\n",
      "dense_18 (Dense)             (None, 2)                 130       \n",
      "=================================================================\n",
      "Total params: 10,034\n",
      "Trainable params: 9,810\n",
      "Non-trainable params: 224\n",
      "_________________________________________________________________\n"
     ]
    }
   ],
   "source": [
    "cnn3.summary()"
   ]
  },
  {
   "cell_type": "code",
   "execution_count": 77,
   "metadata": {},
   "outputs": [],
   "source": [
    "rlr = ReduceLROnPlateau(monitor='loss', factor=0.5, patience=50, min_lr=0.0001)\n",
    "mc = ModelCheckpoint('best_model_cnn2.h5', monitor='val_loss', save_best_only=True)\n",
    "\n",
    "callbacks = [rlr, mc]\n",
    "\n",
    "batch_size = 16\n",
    "mini_batch_size = int(min(X_train.shape[0]/10, batch_size))"
   ]
  },
  {
   "cell_type": "code",
   "execution_count": 78,
   "metadata": {},
   "outputs": [
    {
     "name": "stdout",
     "output_type": "stream",
     "text": [
      "Train on 56 samples, validate on 14 samples\n",
      "Epoch 1/50\n",
      "56/56 [==============================] - 0s 2ms/step - loss: 0.6809 - accuracy: 0.5536 - val_loss: 0.6821 - val_accuracy: 0.5000\n",
      "Epoch 2/50\n",
      "42/56 [=====================>........] - ETA: 0s - loss: 0.5483 - accuracy: 0.8095"
     ]
    },
    {
     "name": "stderr",
     "output_type": "stream",
     "text": [
      "/opt/anaconda3/lib/python3.7/site-packages/theano/tensor/subtensor.py:2339: FutureWarning: Using a non-tuple sequence for multidimensional indexing is deprecated; use `arr[tuple(seq)]` instead of `arr[seq]`. In the future this will be interpreted as an array index, `arr[np.array(seq)]`, which will result either in an error or a different result.\n",
      "  out[0][inputs[2:]] = inputs[1]\n"
     ]
    },
    {
     "name": "stdout",
     "output_type": "stream",
     "text": [
      "56/56 [==============================] - 0s 2ms/step - loss: 0.5410 - accuracy: 0.8571 - val_loss: 0.6745 - val_accuracy: 0.5714\n",
      "Epoch 3/50\n",
      "56/56 [==============================] - 0s 2ms/step - loss: 0.3385 - accuracy: 1.0000 - val_loss: 0.6649 - val_accuracy: 0.9286\n",
      "Epoch 4/50\n",
      "56/56 [==============================] - 0s 2ms/step - loss: 0.2047 - accuracy: 1.0000 - val_loss: 0.6519 - val_accuracy: 1.0000\n",
      "Epoch 5/50\n",
      "56/56 [==============================] - 0s 2ms/step - loss: 0.2705 - accuracy: 0.9286 - val_loss: 0.6413 - val_accuracy: 1.0000\n",
      "Epoch 6/50\n",
      "56/56 [==============================] - 0s 2ms/step - loss: 0.1130 - accuracy: 1.0000 - val_loss: 0.6375 - val_accuracy: 1.0000\n",
      "Epoch 7/50\n",
      "56/56 [==============================] - 0s 2ms/step - loss: 0.0880 - accuracy: 1.0000 - val_loss: 0.6364 - val_accuracy: 0.7857\n",
      "Epoch 8/50\n",
      "56/56 [==============================] - 0s 2ms/step - loss: 0.0687 - accuracy: 1.0000 - val_loss: 0.6429 - val_accuracy: 0.7857\n",
      "Epoch 9/50\n",
      "56/56 [==============================] - 0s 2ms/step - loss: 0.0758 - accuracy: 1.0000 - val_loss: 0.6467 - val_accuracy: 0.6429\n",
      "Epoch 10/50\n",
      "56/56 [==============================] - 0s 2ms/step - loss: 0.0516 - accuracy: 1.0000 - val_loss: 0.6497 - val_accuracy: 0.5000\n",
      "Epoch 11/50\n",
      "56/56 [==============================] - 0s 2ms/step - loss: 0.0461 - accuracy: 1.0000 - val_loss: 0.6540 - val_accuracy: 0.5000\n",
      "Epoch 12/50\n",
      "56/56 [==============================] - 0s 2ms/step - loss: 0.0321 - accuracy: 1.0000 - val_loss: 0.6586 - val_accuracy: 0.5000\n",
      "Epoch 13/50\n",
      "56/56 [==============================] - 0s 2ms/step - loss: 0.0955 - accuracy: 0.9821 - val_loss: 0.6651 - val_accuracy: 0.5000\n",
      "Epoch 14/50\n",
      "56/56 [==============================] - 0s 2ms/step - loss: 0.0293 - accuracy: 1.0000 - val_loss: 0.6703 - val_accuracy: 0.5000\n",
      "Epoch 15/50\n",
      "56/56 [==============================] - 0s 2ms/step - loss: 0.0348 - accuracy: 1.0000 - val_loss: 0.6640 - val_accuracy: 0.5000\n",
      "Epoch 16/50\n",
      "56/56 [==============================] - 0s 2ms/step - loss: 0.0289 - accuracy: 1.0000 - val_loss: 0.6511 - val_accuracy: 0.5000\n",
      "Epoch 17/50\n",
      "56/56 [==============================] - 0s 2ms/step - loss: 0.0190 - accuracy: 1.0000 - val_loss: 0.6538 - val_accuracy: 0.5000\n",
      "Epoch 18/50\n",
      "56/56 [==============================] - 0s 2ms/step - loss: 0.0266 - accuracy: 1.0000 - val_loss: 0.6588 - val_accuracy: 0.5000\n",
      "Epoch 19/50\n",
      "56/56 [==============================] - 0s 2ms/step - loss: 0.0224 - accuracy: 1.0000 - val_loss: 0.6615 - val_accuracy: 0.5000\n",
      "Epoch 20/50\n",
      "56/56 [==============================] - 0s 2ms/step - loss: 0.0177 - accuracy: 1.0000 - val_loss: 0.6648 - val_accuracy: 0.5000\n",
      "Epoch 21/50\n",
      "56/56 [==============================] - 0s 2ms/step - loss: 0.0143 - accuracy: 1.0000 - val_loss: 0.6684 - val_accuracy: 0.5000\n",
      "Epoch 22/50\n",
      "56/56 [==============================] - 0s 2ms/step - loss: 0.0665 - accuracy: 0.9821 - val_loss: 0.6485 - val_accuracy: 0.5000\n",
      "Epoch 23/50\n",
      "56/56 [==============================] - 0s 2ms/step - loss: 0.0122 - accuracy: 1.0000 - val_loss: 0.6380 - val_accuracy: 0.5000\n",
      "Epoch 24/50\n",
      "56/56 [==============================] - 0s 2ms/step - loss: 0.0114 - accuracy: 1.0000 - val_loss: 0.6340 - val_accuracy: 0.5000\n",
      "Epoch 25/50\n",
      "56/56 [==============================] - 0s 2ms/step - loss: 0.0115 - accuracy: 1.0000 - val_loss: 0.6310 - val_accuracy: 0.5000\n",
      "Epoch 26/50\n",
      "56/56 [==============================] - 0s 2ms/step - loss: 0.0152 - accuracy: 1.0000 - val_loss: 0.6275 - val_accuracy: 0.5000\n",
      "Epoch 27/50\n",
      "56/56 [==============================] - 0s 2ms/step - loss: 0.0168 - accuracy: 1.0000 - val_loss: 0.6110 - val_accuracy: 0.5000\n",
      "Epoch 28/50\n",
      "56/56 [==============================] - 0s 2ms/step - loss: 0.0494 - accuracy: 0.9821 - val_loss: 0.6072 - val_accuracy: 0.5000\n",
      "Epoch 29/50\n",
      "56/56 [==============================] - 0s 2ms/step - loss: 0.0131 - accuracy: 1.0000 - val_loss: 0.5843 - val_accuracy: 0.5000\n",
      "Epoch 30/50\n",
      "56/56 [==============================] - 0s 2ms/step - loss: 0.0099 - accuracy: 1.0000 - val_loss: 0.5683 - val_accuracy: 0.5000\n",
      "Epoch 31/50\n",
      "56/56 [==============================] - 0s 2ms/step - loss: 0.0239 - accuracy: 1.0000 - val_loss: 0.5530 - val_accuracy: 0.5000\n",
      "Epoch 32/50\n",
      "56/56 [==============================] - 0s 2ms/step - loss: 0.0174 - accuracy: 1.0000 - val_loss: 0.5401 - val_accuracy: 0.5000\n",
      "Epoch 33/50\n",
      "56/56 [==============================] - 0s 2ms/step - loss: 0.0085 - accuracy: 1.0000 - val_loss: 0.5329 - val_accuracy: 0.5000\n",
      "Epoch 34/50\n",
      "56/56 [==============================] - 0s 2ms/step - loss: 0.0088 - accuracy: 1.0000 - val_loss: 0.5259 - val_accuracy: 0.5000\n",
      "Epoch 35/50\n",
      "56/56 [==============================] - 0s 2ms/step - loss: 0.0138 - accuracy: 1.0000 - val_loss: 0.5193 - val_accuracy: 0.5000\n",
      "Epoch 36/50\n",
      "56/56 [==============================] - 0s 2ms/step - loss: 0.0058 - accuracy: 1.0000 - val_loss: 0.5182 - val_accuracy: 0.5714\n",
      "Epoch 37/50\n",
      "56/56 [==============================] - 0s 2ms/step - loss: 0.0118 - accuracy: 1.0000 - val_loss: 0.5046 - val_accuracy: 0.5714\n",
      "Epoch 38/50\n",
      "56/56 [==============================] - 0s 2ms/step - loss: 0.0052 - accuracy: 1.0000 - val_loss: 0.4921 - val_accuracy: 0.5714\n",
      "Epoch 39/50\n",
      "56/56 [==============================] - 0s 2ms/step - loss: 0.0064 - accuracy: 1.0000 - val_loss: 0.4837 - val_accuracy: 0.5714\n",
      "Epoch 40/50\n",
      "56/56 [==============================] - 0s 2ms/step - loss: 0.0101 - accuracy: 1.0000 - val_loss: 0.4711 - val_accuracy: 0.7143\n",
      "Epoch 41/50\n",
      "56/56 [==============================] - 0s 2ms/step - loss: 0.0078 - accuracy: 1.0000 - val_loss: 0.4553 - val_accuracy: 0.9286\n",
      "Epoch 42/50\n",
      "56/56 [==============================] - 0s 2ms/step - loss: 0.0058 - accuracy: 1.0000 - val_loss: 0.4419 - val_accuracy: 1.0000\n",
      "Epoch 43/50\n",
      "56/56 [==============================] - 0s 2ms/step - loss: 0.0333 - accuracy: 0.9821 - val_loss: 0.3884 - val_accuracy: 1.0000\n",
      "Epoch 44/50\n",
      "56/56 [==============================] - 0s 2ms/step - loss: 0.0045 - accuracy: 1.0000 - val_loss: 0.2976 - val_accuracy: 1.0000\n",
      "Epoch 45/50\n",
      "56/56 [==============================] - 0s 2ms/step - loss: 0.0057 - accuracy: 1.0000 - val_loss: 0.2586 - val_accuracy: 1.0000\n",
      "Epoch 46/50\n",
      "56/56 [==============================] - 0s 2ms/step - loss: 0.0068 - accuracy: 1.0000 - val_loss: 0.2477 - val_accuracy: 1.0000\n",
      "Epoch 47/50\n",
      "56/56 [==============================] - 0s 2ms/step - loss: 0.0044 - accuracy: 1.0000 - val_loss: 0.2482 - val_accuracy: 1.0000\n",
      "Epoch 48/50\n",
      "56/56 [==============================] - 0s 2ms/step - loss: 0.0075 - accuracy: 1.0000 - val_loss: 0.2497 - val_accuracy: 1.0000\n",
      "Epoch 49/50\n",
      "56/56 [==============================] - 0s 2ms/step - loss: 0.0045 - accuracy: 1.0000 - val_loss: 0.2523 - val_accuracy: 1.0000\n",
      "Epoch 50/50\n",
      "56/56 [==============================] - 0s 2ms/step - loss: 0.0087 - accuracy: 1.0000 - val_loss: 0.2447 - val_accuracy: 1.0000\n"
     ]
    }
   ],
   "source": [
    "history_cnn3 = cnn3.fit(X_train_cnn, y_train_cnn, epochs=50, batch_size=mini_batch_size, callbacks=callbacks,\n",
    "                      validation_data=(X_val_cnn, y_val_cnn)).history"
   ]
  },
  {
   "cell_type": "code",
   "execution_count": 79,
   "metadata": {},
   "outputs": [
    {
     "name": "stdout",
     "output_type": "stream",
     "text": [
      "Accuracy 1.0\n",
      "F1-score [1. 1.]\n",
      "              precision    recall  f1-score   support\n",
      "\n",
      "           0       1.00      1.00      1.00        15\n",
      "           1       1.00      1.00      1.00        15\n",
      "\n",
      "    accuracy                           1.00        30\n",
      "   macro avg       1.00      1.00      1.00        30\n",
      "weighted avg       1.00      1.00      1.00        30\n",
      "\n"
     ]
    }
   ],
   "source": [
    "y_pred = np.argmax(cnn3.predict(X_test), axis=1)\n",
    "\n",
    "print('Accuracy %s' % accuracy_score(y_test, y_pred))\n",
    "print('F1-score %s' % f1_score(y_test, y_pred, average=None))\n",
    "print(classification_report(y_test, y_pred))"
   ]
  },
  {
   "cell_type": "markdown",
   "metadata": {},
   "source": [
    "https://machinelearningmastery.com/multivariate-time-series-forecasting-lstms-keras/"
   ]
  },
  {
   "cell_type": "markdown",
   "metadata": {},
   "source": [
    "https://pyts.readthedocs.io/en/stable/generated/pyts.multivariate.classification.MultivariateClassifier.html#pyts.multivariate.classification.MultivariateClassifier"
   ]
  }
 ],
 "metadata": {
  "kernelspec": {
   "display_name": "Python 3",
   "language": "python",
   "name": "python3"
  },
  "language_info": {
   "codemirror_mode": {
    "name": "ipython",
    "version": 3
   },
   "file_extension": ".py",
   "mimetype": "text/x-python",
   "name": "python",
   "nbconvert_exporter": "python",
   "pygments_lexer": "ipython3",
   "version": "3.7.6"
  }
 },
 "nbformat": 4,
 "nbformat_minor": 4
}
