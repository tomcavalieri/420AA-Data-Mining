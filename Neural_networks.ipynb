{
 "cells": [
  {
   "cell_type": "code",
   "execution_count": 1,
   "metadata": {},
   "outputs": [],
   "source": [
    "%matplotlib inline\n",
    "\n",
    "import numpy as np\n",
    "import pandas as pd\n",
    "import matplotlib.pyplot as plt\n",
    "\n",
    "from collections import defaultdict"
   ]
  },
  {
   "cell_type": "code",
   "execution_count": 2,
   "metadata": {},
   "outputs": [],
   "source": [
    "from sklearn.metrics import roc_curve, auc, roc_auc_score\n",
    "from scikitplot.metrics import plot_roc\n",
    "from scikitplot.metrics import plot_precision_recall\n",
    "from scikitplot.metrics import plot_cumulative_gain\n",
    "from scikitplot.metrics import plot_lift_curve"
   ]
  },
  {
   "cell_type": "markdown",
   "metadata": {},
   "source": [
    "# Data Preparation"
   ]
  },
  {
   "cell_type": "code",
   "execution_count": 3,
   "metadata": {},
   "outputs": [],
   "source": [
    "df = pd.read_csv(r'/Users/Cava/Desktop/University/Data Science & Business Informatics/Data Mining/Advanced Topics and Applications/Project/data/training.csv')\n",
    "\n",
    "#after uploading training and test sets, we apply some transformations: \n",
    "#date divided into date and time\n",
    "#delete HumidityRatio\n",
    "#remove Light outliers\n",
    "\n",
    "df['date'] =  pd.to_datetime(df['date'], format='%Y-%m-%d %H:%M:%S')\n",
    "df['Time']= df['date'].apply(lambda x:x.time())\n",
    "df['Date']= df['date'].apply(lambda x:x.date())\n",
    "df['Time'] =  pd.to_timedelta(str(x) for x in df['Time'])\n",
    "df['Date'] =  pd.to_datetime(df['Date'], format='%Y-%m-%d')\n",
    "df.drop('date', axis=1, inplace=True)\n",
    "df.drop('Unnamed: 0',  axis=1,inplace=True)\n",
    "#df.drop('HumidityRatio', axis=1,inplace=True)\n",
    "df=df[df['Light']<1000] "
   ]
  },
  {
   "cell_type": "code",
   "execution_count": 4,
   "metadata": {},
   "outputs": [],
   "source": [
    "test=pd.read_csv(r'/Users/Cava/Desktop/University/Data Science & Business Informatics/Data Mining/Advanced Topics and Applications/Project/data/test.csv')\n",
    "\n",
    "test['date'] =  pd.to_datetime(test['date'], format='%Y-%m-%d %H:%M:%S')\n",
    "test['Time']= test['date'].apply(lambda x:x.time())\n",
    "test['Date']= test['date'].apply(lambda x:x.date())\n",
    "test['Time'] =  pd.to_timedelta(str(x) for x in test['Time'])\n",
    "test['Date'] =  pd.to_datetime(test['Date'], format='%Y-%m-%d')\n",
    "test.drop('date', axis=1, inplace=True)\n",
    "test.drop('Unnamed: 0',  axis=1,inplace=True)\n",
    "#test.drop('HumidityRatio',inplace=True,axis=1)"
   ]
  },
  {
   "cell_type": "code",
   "execution_count": 5,
   "metadata": {},
   "outputs": [],
   "source": [
    "df['Holidays'] = df['Date'].apply(lambda x: 0 if x.weekday()<5 else 1 )\n",
    "test['Holidays'] = test['Date'].apply(lambda x: 0 if x.weekday()<5 else 1 )\n",
    "y_name = 'Occupancy'"
   ]
  },
  {
   "cell_type": "markdown",
   "metadata": {},
   "source": [
    "# Data Partitioning"
   ]
  },
  {
   "cell_type": "code",
   "execution_count": 6,
   "metadata": {},
   "outputs": [],
   "source": [
    "from sklearn.model_selection import train_test_split, cross_val_score \n",
    "\n",
    "from sklearn.metrics import accuracy_score, f1_score, classification_report\n",
    "from sklearn.metrics import roc_curve, auc, roc_auc_score"
   ]
  },
  {
   "cell_type": "code",
   "execution_count": 7,
   "metadata": {},
   "outputs": [
    {
     "data": {
      "text/plain": [
       "['Temperature', 'CO2', 'Light', 'Humidity', 'Holidays']"
      ]
     },
     "execution_count": 7,
     "metadata": {},
     "output_type": "execute_result"
    }
   ],
   "source": [
    "attributes = ['Temperature','CO2','Light','Humidity','Holidays']#,'HumidityRatio'] \n",
    "\n",
    "X =df[attributes].values\n",
    "y=df['Occupancy'].values\n",
    "X_train, X_val, y_train, y_val = train_test_split(X, y, test_size=0.2, random_state=100, stratify=y)\n",
    "    \n",
    "X_train =df[attributes].values\n",
    "y_train=df['Occupancy'].values\n",
    "X_test=test[attributes].values\n",
    "y_test=test['Occupancy'].values\n",
    "\n",
    "attributes"
   ]
  },
  {
   "cell_type": "markdown",
   "metadata": {},
   "source": [
    "# Normalization"
   ]
  },
  {
   "cell_type": "code",
   "execution_count": 8,
   "metadata": {},
   "outputs": [],
   "source": [
    "from sklearn.preprocessing import StandardScaler\n",
    "from sklearn.preprocessing import MinMaxScaler"
   ]
  },
  {
   "cell_type": "code",
   "execution_count": 9,
   "metadata": {},
   "outputs": [],
   "source": [
    "scaler = StandardScaler()\n",
    "scaler.fit(X_train)\n",
    "X_train = scaler.transform(X_train)\n",
    "X_test = scaler.transform(X_test)\n",
    "X_val = scaler.transform(X_val)"
   ]
  },
  {
   "cell_type": "code",
   "execution_count": 10,
   "metadata": {},
   "outputs": [
    {
     "data": {
      "text/plain": [
       "array([[ 0.36047373, -0.12827165,  1.65602712, -1.62429496, -0.62086622],\n",
       "       [-1.53203658, -0.71126742, -0.62501238, -0.155829  , -0.62086622],\n",
       "       [ 0.0340157 ,  0.04535278,  1.50364034, -1.45408183, -0.62086622],\n",
       "       ...,\n",
       "       [-0.33975508, -0.74312511, -0.62501238, -1.32214147, -0.62086622],\n",
       "       [-0.49115591,  0.52162528, -0.62501238, -0.23438891, -0.62086622],\n",
       "       [ 0.55918731,  0.49534268,  1.91794188, -0.33510674, -0.62086622]])"
      ]
     },
     "execution_count": 10,
     "metadata": {},
     "output_type": "execute_result"
    }
   ],
   "source": [
    "X_val"
   ]
  },
  {
   "cell_type": "markdown",
   "metadata": {},
   "source": [
    "# Sklearn Multilayer Perceptron"
   ]
  },
  {
   "cell_type": "code",
   "execution_count": 11,
   "metadata": {},
   "outputs": [],
   "source": [
    "from sklearn.neural_network import MLPClassifier"
   ]
  },
  {
   "cell_type": "markdown",
   "metadata": {},
   "source": [
    "### Parameters\n",
    "\n",
    "hidden_layer_sizes tuple, length = n_layers - 2, default=(100,)\n",
    "The ith element represents the number of neurons in the ith hidden layer.\n",
    "\n",
    "activation {'identity', 'logistic', 'tanh', 'relu'}, default='relu'\n",
    "Activation function for the hidden layer.\n",
    "* 'identity', no-op activation, useful to implement linear bottleneck, returns f(x) = x\n",
    "* 'logistic', the logistic sigmoid function, returns f(x) = 1 / (1 + exp(-x)).\n",
    "* 'tanh', the hyperbolic tan function, returns f(x) = tanh(x).\n",
    "* 'relu', the rectified linear unit function, returns f(x) = max(0, x)\n",
    "\n",
    "solver {'lbfgs', 'sgd', 'adam'}, default='adam'\n",
    "The solver for weight optimization.\n",
    "* 'lbfgs' is an optimizer in the family of quasi-Newton methods.\n",
    "* 'sgd' refers to stochastic gradient descent.\n",
    "* 'adam' refers to a stochastic gradient-based optimizer proposed by Kingma, Diederik, and Jimmy Ba\n",
    "The default solver 'adam' works pretty well on relatively large datasets (>= 1000 training samples) in terms of both training time and validation score. For small datasets, 'lbfgs' can converge faster and perform better.\n",
    "\n",
    "alpha float, default=0.0001\n",
    "L2 penalty (regularization term) parameter.\n",
    "\n",
    "batch_size int, default='auto'\n",
    "Size of minibatches for stochastic optimizers. If the solver is 'lbfgs', the classifier will not use minibatch. When set to “auto”, batch_size=min(200, n_samples)\n",
    "\n",
    "learning_rate {'constant', 'invscaling', 'adaptive'}, default='constant'\n",
    "Learning rate schedule for weight updates.\n",
    "*'constant' is a constant learning rate given by 'learning_rate_init'.\n",
    "*'invscaling' gradually decreases the learning rate at each time step 't' using an inverse scaling exponent of *'power_t'. effective_learning_rate = learning_rate_init / pow(t, power_t)\n",
    "*'adaptive' keeps the learning rate constant to 'learning_rate_init' as long as training loss keeps decreasing. Each time two consecutive epochs fail to decrease training loss by at least tol, or fail to increase validation score by at least tol if 'early_stopping' is on, the current learning rate is divided by 5.\n",
    "Only used when solver='sgd'.\n",
    "\n",
    "learning_rate_init double, default=0.001\n",
    "The initial learning rate used. It controls the step-size in updating the weights. Only used when solver='sgd' or 'adam'.\n",
    "\n",
    "power_t double, default=0.5\n",
    "The exponent for inverse scaling learning rate. It is used in updating effective learning rate when the learning_rate is set to 'invscaling'. Only used when solver='sgd'.\n",
    "\n",
    "max_iter int, default=200\n",
    "Maximum number of iterations. The solver iterates until convergence (determined by 'tol') or this number of iterations. For stochastic solvers ('sgd', 'adam'), note that this determines the number of epochs (how many times each data point will be used), not the number of gradient steps.\n",
    "\n",
    "shuffle bool, default=True\n",
    "Whether to shuffle samples in each iteration. Only used when solver='sgd' or 'adam'.\n",
    "\n",
    "random_state int, RandomState instance or None, default=None\n",
    "If int, random_state is the seed used by the random number generator; If RandomState instance, random_state is the random number generator; If None, the random number generator is the RandomState instance used by np.random.\n",
    "\n",
    "tol float, default=1e-4\n",
    "Tolerance for the optimization. When the loss or score is not improving by at least tol for n_iter_no_change consecutive iterations, unless learning_rate is set to 'adaptive', convergence is considered to be reached and training stops.\n",
    "\n",
    "verbose bool, default=False\n",
    "Whether to print progress messages to stdout.\n",
    "\n",
    "warm_start bool, default=False\n",
    "When set to True, reuse the solution of the previous call to fit as initialization, otherwise, just erase the previous solution. See the Glossary.\n",
    "\n",
    "momentum float, default=0.9\n",
    "Momentum for gradient descent update. Should be between 0 and 1. Only used when solver='sgd'.\n",
    "\n",
    "early_stopping bool, default=False\n",
    "Whether to use early stopping to terminate training when validation score is not improving. If set to true, it will automatically set aside 10% of training data as validation and terminate training when validation score is not improving by at least tol for n_iter_no_change consecutive epochs. The split is stratified, except in a multilabel setting. Only effective when solver='sgd' or 'adam'\n",
    "\n",
    "validation_fraction float, default=0.1\n",
    "The proportion of training data to set aside as validation set for early stopping. Must be between 0 and 1. Only used if early_stopping is True\n",
    "\n",
    "beta_1 float, default=0.9\n",
    "Exponential decay rate for estimates of first moment vector in adam, should be in [0, 1). Only used when solver='adam'\n",
    "\n",
    "beta_2 float, default=0.999\n",
    "Exponential decay rate for estimates of second moment vector in adam, should be in [0, 1). Only used when solver='adam'\n",
    "\n",
    "epsilon float, default=1e-8\n",
    "Value for numerical stability in adam. Only used when solver='adam'\n",
    "\n",
    "n_iter_no_change int, default=10\n",
    "Maximum number of epochs to not meet tol improvement. Only effective when solver='sgd' or 'adam'\n",
    "\n",
    "\n",
    "### Attributes\n",
    "loss_ float\n",
    "The current loss computed with the loss function.\n",
    "\n",
    "coefs_ list, length n_layers - 1\n",
    "The ith element in the list represents the weight matrix corresponding to layer i.\n",
    "\n",
    "intercepts_ list, length n_layers - 1\n",
    "The ith element in the list represents the bias vector corresponding to layer i + 1.\n",
    "\n",
    "n_iter_ int,\n",
    "The number of iterations the solver has ran.\n",
    "\n",
    "n_layers_ int\n",
    "Number of layers.\n",
    "\n",
    "n_outputs_ int\n",
    "Number of outputs.\n",
    "\n",
    "out_activation_ string\n",
    "Name of the output activation function."
   ]
  },
  {
   "cell_type": "code",
   "execution_count": 12,
   "metadata": {},
   "outputs": [],
   "source": [
    "#different learning rate schedules and momentum parameters\n",
    "params = [{'solver': 'sgd', 'learning_rate': 'constant', 'momentum': 0,\n",
    "           'learning_rate_init': 0.2},\n",
    "          {'solver': 'sgd', 'learning_rate': 'constant', 'momentum': .9,\n",
    "           'nesterovs_momentum': False, 'learning_rate_init': 0.2},\n",
    "          {'solver': 'sgd', 'learning_rate': 'invscaling', 'momentum': .9,\n",
    "           'nesterovs_momentum': True, 'learning_rate_init': 0.2},\n",
    "          {'solver': 'adam', 'learning_rate_init': 0.01}]\n",
    "\n",
    "labels = [\"constant learning-rate\", \"constant with momentum\",\n",
    "          \"inv-scaling learning-rate\", \"inv-scaling with momentum\", \"adam\"]\n",
    "\n",
    "plot_args = [{'c': 'red', 'linestyle': '-'},\n",
    "             {'c': 'green', 'linestyle': '-'},\n",
    "             {'c': 'blue', 'linestyle': '--'},\n",
    "             {'c': 'black', 'linestyle': '.'}]"
   ]
  },
  {
   "cell_type": "code",
   "execution_count": 13,
   "metadata": {},
   "outputs": [
    {
     "name": "stdout",
     "output_type": "stream",
     "text": [
      "training: constant learning-rate\n",
      "Training set score: 0.767241\n",
      "Training set loss: 6.095787\n",
      "training: constant with momentum\n",
      "Training set score: 0.767241\n",
      "Training set loss: 556.735150\n",
      "training: inv-scaling learning-rate\n",
      "Training set score: 0.767241\n",
      "Training set loss: 2000.143509\n",
      "training: inv-scaling with momentum\n",
      "Training set score: 0.990823\n",
      "Training set loss: 0.042791\n"
     ]
    },
    {
     "data": {
      "image/png": "[encoded data removed]",
      "text/plain": [
       "<Figure size 1080x720 with 1 Axes>"
      ]
     },
     "metadata": {
      "needs_background": "light"
     },
     "output_type": "display_data"
    }
   ],
   "source": [
    "import warnings\n",
    "import matplotlib.pyplot as plt\n",
    "from sklearn.exceptions import ConvergenceWarning\n",
    "        \n",
    "\n",
    "fig, axes = plt.subplots(1, 1, figsize=(15, 10))      \n",
    "mlps=[]   \n",
    "for label, param in zip(labels, params):\n",
    "    print(\"training: %s\" % label)\n",
    "    mlp = MLPClassifier(random_state=0,\n",
    "                           max_iter=200, **param)\n",
    "\n",
    "        # some parameter combinations will not converge as can be seen on the\n",
    "        # plots so they are ignored here\n",
    "    with warnings.catch_warnings():\n",
    "        warnings.filterwarnings(\"ignore\", category=ConvergenceWarning,\n",
    "                                    module=\"sklearn\")\n",
    "        mlp.fit(X, y)\n",
    "\n",
    "    mlps.append(mlp)\n",
    "    print(\"Training set score: %f\" % mlp.score(X, y))\n",
    "    print(\"Training set loss: %f\" % mlp.loss_)\n",
    "    \n",
    "for mlp, label, args in zip(mlps, labels, plot_args):\n",
    "    axes.plot(mlp.loss_curve_, label=label)\n",
    "        \n",
    "        \n",
    "        \n",
    "axes.set_ylabel(\"Loss\")\n",
    "axes.set_xlabel(\"Iterations\")\n",
    "fig.legend(axes.get_lines(), labels, ncol=3, loc=1)\n",
    "plt.show()"
   ]
  },
  {
   "cell_type": "code",
   "execution_count": 14,
   "metadata": {},
   "outputs": [
    {
     "name": "stdout",
     "output_type": "stream",
     "text": [
      "Accuracy 0.9892996108949417\n",
      "F1-score [0.99302326 0.97705146]\n",
      "              precision    recall  f1-score   support\n",
      "\n",
      "           0       1.00      0.99      0.99      4747\n",
      "           1       0.97      0.99      0.98      1421\n",
      "\n",
      "    accuracy                           0.99      6168\n",
      "   macro avg       0.98      0.99      0.99      6168\n",
      "weighted avg       0.99      0.99      0.99      6168\n",
      "\n",
      "Training loss 0.039081754182484656\n",
      "Validation loss 0.047599995203008276\n"
     ]
    },
    {
     "data": {
      "image/png": "[encoded data removed]",
      "text/plain": [
       "<Figure size 432x288 with 1 Axes>"
      ]
     },
     "metadata": {
      "needs_background": "light"
     },
     "output_type": "display_data"
    }
   ],
   "source": [
    "clf = MLPClassifier(random_state=0,solver= 'adam', learning_rate= 'constant',activation='logistic', momentum= .9, hidden_layer_sizes=(3),\n",
    "           nesterovs_momentum= True, learning_rate_init= 0.2)\n",
    "\n",
    "clf.fit(X_train, y_train)\n",
    "y_pred = clf.predict(X_test)\n",
    "y_score = clf.predict_log_proba(X_test)\n",
    "\n",
    "print('Accuracy %s' % accuracy_score(y_test, y_pred))\n",
    "print('F1-score %s' % f1_score(y_test, y_pred, average=None))\n",
    "print(classification_report(y_test, y_pred))\n",
    "plt.plot(clf.loss_curve_)\n",
    "print('Training loss '+str(clf.loss_))\n",
    "clf.fit(X_val, y_val)\n",
    "print('Validation loss '+str(clf.loss_))\n",
    "plt.plot(clf.loss_curve_)\n",
    "plt.show()"
   ]
  },
  {
   "cell_type": "code",
   "execution_count": 15,
   "metadata": {},
   "outputs": [
    {
     "name": "stdout",
     "output_type": "stream",
     "text": [
      "Accuracy 0.9892996108949417\n",
      "F1-score [0.99302326 0.97705146]\n",
      "              precision    recall  f1-score   support\n",
      "\n",
      "           0       1.00      0.99      0.99      4747\n",
      "           1       0.97      0.99      0.98      1421\n",
      "\n",
      "    accuracy                           0.99      6168\n",
      "   macro avg       0.98      0.99      0.99      6168\n",
      "weighted avg       0.99      0.99      0.99      6168\n",
      "\n",
      "Training loss 0.039081754182484656\n",
      "Validation loss 0.047599995203008276\n"
     ]
    }
   ],
   "source": [
    "clf = MLPClassifier(random_state=0,solver= 'adam', learning_rate= 'invscaling',activation='logistic', momentum= .9, hidden_layer_sizes=(3),\n",
    "           nesterovs_momentum= True, learning_rate_init= 0.2)\n",
    "\n",
    "clf.fit(X_train, y_train)\n",
    "y_pred = clf.predict(X_test)\n",
    "y_score = clf.predict_log_proba(X_test)\n",
    "\n",
    "print('Accuracy %s' % accuracy_score(y_test, y_pred))\n",
    "print('F1-score %s' % f1_score(y_test, y_pred, average=None))\n",
    "print(classification_report(y_test, y_pred))\n",
    "print('Training loss '+str(clf.loss_))\n",
    "clf.fit(X_val, y_val)\n",
    "print('Validation loss '+str(clf.loss_))"
   ]
  },
  {
   "cell_type": "code",
   "execution_count": 16,
   "metadata": {},
   "outputs": [
    {
     "data": {
      "image/png": "[encoded data removed]",
      "text/plain": [
       "<Figure size 432x288 with 1 Axes>"
      ]
     },
     "metadata": {
      "needs_background": "light"
     },
     "output_type": "display_data"
    }
   ],
   "source": [
    "plot_lift_curve(y_test, y_score)\n",
    "plt.show()"
   ]
  },
  {
   "cell_type": "code",
   "execution_count": 17,
   "metadata": {},
   "outputs": [
    {
     "name": "stdout",
     "output_type": "stream",
     "text": [
      "Accuracy 0.9907587548638133\n",
      "F1-score [0.99396506 0.98028364]\n",
      "              precision    recall  f1-score   support\n",
      "\n",
      "           0       1.00      0.99      0.99      4747\n",
      "           1       0.96      1.00      0.98      1421\n",
      "\n",
      "    accuracy                           0.99      6168\n",
      "   macro avg       0.98      0.99      0.99      6168\n",
      "weighted avg       0.99      0.99      0.99      6168\n",
      "\n",
      "Training loss 0.03746032644770632\n",
      "Validation loss 0.04861303799208274\n"
     ]
    }
   ],
   "source": [
    "clf = MLPClassifier(random_state=0,solver= 'sgd', learning_rate= 'adaptive', activation='logistic', momentum= .9, hidden_layer_sizes=(3),\n",
    "           nesterovs_momentum= True, learning_rate_init= 0.2)\n",
    "\n",
    "clf.fit(X_train, y_train)\n",
    "y_pred = clf.predict(X_test)\n",
    "y_score = clf.predict_log_proba(X_test)\n",
    "\n",
    "print('Accuracy %s' % accuracy_score(y_test, y_pred))\n",
    "print('F1-score %s' % f1_score(y_test, y_pred, average=None))\n",
    "print(classification_report(y_test, y_pred))\n",
    "print('Training loss '+str(clf.loss_))\n",
    "clf.fit(X_val, y_val)\n",
    "print('Validation loss '+str(clf.loss_))"
   ]
  },
  {
   "cell_type": "code",
   "execution_count": 18,
   "metadata": {},
   "outputs": [
    {
     "name": "stdout",
     "output_type": "stream",
     "text": [
      "Accuracy 0.9909208819714657\n",
      "F1-score [0.99407156 0.98062284]\n",
      "              precision    recall  f1-score   support\n",
      "\n",
      "           0       1.00      0.99      0.99      4747\n",
      "           1       0.96      1.00      0.98      1421\n",
      "\n",
      "    accuracy                           0.99      6168\n",
      "   macro avg       0.98      0.99      0.99      6168\n",
      "weighted avg       0.99      0.99      0.99      6168\n",
      "\n",
      "Training loss 0.04355760125731629\n",
      "Validation loss 0.05725590687974526\n"
     ]
    },
    {
     "name": "stderr",
     "output_type": "stream",
     "text": [
      "/opt/anaconda3/lib/python3.7/site-packages/sklearn/neural_network/_multilayer_perceptron.py:571: ConvergenceWarning: Stochastic Optimizer: Maximum iterations (200) reached and the optimization hasn't converged yet.\n",
      "  % self.max_iter, ConvergenceWarning)\n"
     ]
    }
   ],
   "source": [
    "clf = MLPClassifier(hidden_layer_sizes=(7, 5, 3), alpha=0.1, learning_rate='invscaling', \n",
    "                    activation='tanh', early_stopping=False, momentum=0.9, random_state=0)\n",
    "\n",
    "clf.fit(X_train, y_train)\n",
    "\n",
    "y_pred = clf.predict(X_test)\n",
    "y_pred1 = y_pred\n",
    "y_score1 = clf.predict_log_proba(X_test)\n",
    "print('Accuracy %s' % accuracy_score(y_test, y_pred))\n",
    "print('F1-score %s' % f1_score(y_test, y_pred, average=None))\n",
    "print(classification_report(y_test, y_pred))\n",
    "print('Training loss '+str(clf.loss_))\n",
    "clf.fit(X_val, y_val)\n",
    "print('Validation loss '+str(clf.loss_))"
   ]
  },
  {
   "cell_type": "markdown",
   "metadata": {},
   "source": [
    "# Keras Deep Neural Networks"
   ]
  },
  {
   "cell_type": "code",
   "execution_count": 19,
   "metadata": {},
   "outputs": [
    {
     "name": "stderr",
     "output_type": "stream",
     "text": [
      "Using Theano backend.\n"
     ]
    }
   ],
   "source": [
    "from keras.models import Sequential\n",
    "from keras.layers import Dense"
   ]
  },
  {
   "cell_type": "markdown",
   "metadata": {},
   "source": [
    "<ul>\n",
    "<li>one <b>epoch</b> = one forward pass and one backward pass of all the training examples\n",
    "<li><b>batch size</b> = the number of training examples in one forward/backward pass. The higher the batch size, the more memory space you'll need.\n",
    "<li>number of <b>iterations</b> = number of passes, each pass using [batch size] number of examples. To be clear, one pass = one forward pass + one backward pass (we do not count the forward pass and backward pass as two different passes).\n",
    "</ul><br>\n",
    "Example: if you have 1000 training examples, and your batch size is 500, then it will take 2 iterations to complete 1 epoch."
   ]
  },
  {
   "cell_type": "markdown",
   "metadata": {},
   "source": [
    "chose a batch size : <ul>\n",
    "<li><b>batch</b> mode: where the batch size is equal to the total dataset thus making the iteration and epoch values equivalent\n",
    "<li><b>mini-batch</b> mode: where the batch size is greater than one but less than the total dataset size. Usually, a number that can be divided into the total dataset size.\n",
    "<il><b>stochastic</b> mode: where the batch size is equal to one. Therefore the gradient and the neural network parameters are updated after each sample."
   ]
  },
  {
   "cell_type": "markdown",
   "metadata": {},
   "source": [
    "from keras.models import Sequential\n",
    "from keras.layers import Dense"
   ]
  },
  {
   "cell_type": "code",
   "execution_count": 20,
   "metadata": {},
   "outputs": [],
   "source": [
    "def build_model():\n",
    "    \n",
    "    n_feature = X_train.shape[1]\n",
    "    model = Sequential()\n",
    "    model.add(Dense(7, input_dim=n_feature, activation='relu'))\n",
    "    model.add(Dense(5, activation='relu'))\n",
    "    model.add(Dense(3, activation='relu'))\n",
    "    model.add(Dense(1,activation='sigmoid'))\n",
    "\n",
    "    model.compile(loss='binary_crossentropy', optimizer='adam', metrics=['accuracy'])\n",
    "    return model"
   ]
  },
  {
   "cell_type": "code",
   "execution_count": 21,
   "metadata": {},
   "outputs": [
    {
     "name": "stdout",
     "output_type": "stream",
     "text": [
      "Train on 14384 samples, validate on 2877 samples\n",
      "Epoch 1/50\n",
      "14384/14384 [==============================] - 1s 36us/step - loss: 0.1809 - accuracy: 0.9381 - val_loss: 0.1036 - val_accuracy: 0.9861\n",
      "Epoch 2/50\n",
      "14384/14384 [==============================] - 1s 35us/step - loss: 0.0771 - accuracy: 0.9905 - val_loss: 0.0676 - val_accuracy: 0.9871\n",
      "Epoch 3/50\n",
      "14384/14384 [==============================] - 1s 35us/step - loss: 0.0530 - accuracy: 0.9909 - val_loss: 0.0558 - val_accuracy: 0.9871\n",
      "Epoch 4/50\n",
      "14384/14384 [==============================] - 0s 34us/step - loss: 0.0442 - accuracy: 0.9908 - val_loss: 0.0524 - val_accuracy: 0.9871\n",
      "Epoch 5/50\n",
      "14384/14384 [==============================] - 0s 35us/step - loss: 0.0411 - accuracy: 0.9909 - val_loss: 0.0516 - val_accuracy: 0.9871\n",
      "Epoch 6/50\n",
      "14384/14384 [==============================] - 0s 34us/step - loss: 0.0399 - accuracy: 0.9909 - val_loss: 0.0527 - val_accuracy: 0.9864\n",
      "Epoch 7/50\n",
      "14384/14384 [==============================] - 1s 35us/step - loss: 0.0395 - accuracy: 0.9909 - val_loss: 0.0518 - val_accuracy: 0.9871\n",
      "Epoch 8/50\n",
      "14384/14384 [==============================] - 0s 35us/step - loss: 0.0394 - accuracy: 0.9910 - val_loss: 0.0519 - val_accuracy: 0.9871\n",
      "Epoch 9/50\n",
      "14384/14384 [==============================] - 1s 35us/step - loss: 0.0387 - accuracy: 0.9908 - val_loss: 0.0497 - val_accuracy: 0.9864\n",
      "Epoch 10/50\n",
      "14384/14384 [==============================] - 1s 36us/step - loss: 0.0379 - accuracy: 0.9908 - val_loss: 0.0493 - val_accuracy: 0.9871\n",
      "Epoch 11/50\n",
      "14384/14384 [==============================] - 1s 36us/step - loss: 0.0378 - accuracy: 0.9908 - val_loss: 0.0466 - val_accuracy: 0.9871\n",
      "Epoch 12/50\n",
      "14384/14384 [==============================] - 0s 34us/step - loss: 0.0367 - accuracy: 0.9910 - val_loss: 0.0467 - val_accuracy: 0.9871\n",
      "Epoch 13/50\n",
      "14384/14384 [==============================] - 1s 35us/step - loss: 0.0360 - accuracy: 0.9910 - val_loss: 0.0450 - val_accuracy: 0.9861\n",
      "Epoch 14/50\n",
      "14384/14384 [==============================] - 1s 36us/step - loss: 0.0360 - accuracy: 0.9908 - val_loss: 0.0449 - val_accuracy: 0.9871\n",
      "Epoch 15/50\n",
      "14384/14384 [==============================] - 1s 36us/step - loss: 0.0357 - accuracy: 0.9909 - val_loss: 0.0448 - val_accuracy: 0.9871\n",
      "Epoch 16/50\n",
      "14384/14384 [==============================] - 1s 36us/step - loss: 0.0353 - accuracy: 0.9908 - val_loss: 0.0447 - val_accuracy: 0.9868\n",
      "Epoch 17/50\n",
      "14384/14384 [==============================] - 1s 36us/step - loss: 0.0352 - accuracy: 0.9910 - val_loss: 0.0452 - val_accuracy: 0.9868\n",
      "Epoch 18/50\n",
      "14384/14384 [==============================] - 1s 35us/step - loss: 0.0350 - accuracy: 0.9908 - val_loss: 0.0439 - val_accuracy: 0.9871\n",
      "Epoch 19/50\n",
      "14384/14384 [==============================] - 0s 34us/step - loss: 0.0350 - accuracy: 0.9910 - val_loss: 0.0445 - val_accuracy: 0.9871\n",
      "Epoch 20/50\n",
      "14384/14384 [==============================] - 1s 38us/step - loss: 0.0347 - accuracy: 0.9910 - val_loss: 0.0432 - val_accuracy: 0.9864\n",
      "Epoch 21/50\n",
      "14384/14384 [==============================] - 1s 39us/step - loss: 0.0346 - accuracy: 0.9908 - val_loss: 0.0439 - val_accuracy: 0.9868\n",
      "Epoch 22/50\n",
      "14384/14384 [==============================] - 1s 36us/step - loss: 0.0343 - accuracy: 0.9910 - val_loss: 0.0435 - val_accuracy: 0.9871\n",
      "Epoch 23/50\n",
      "14384/14384 [==============================] - 1s 35us/step - loss: 0.0343 - accuracy: 0.9910 - val_loss: 0.0437 - val_accuracy: 0.9871\n",
      "Epoch 24/50\n",
      "14384/14384 [==============================] - 1s 35us/step - loss: 0.0340 - accuracy: 0.9908 - val_loss: 0.0453 - val_accuracy: 0.9868\n",
      "Epoch 25/50\n",
      "14384/14384 [==============================] - 0s 34us/step - loss: 0.0342 - accuracy: 0.9908 - val_loss: 0.0419 - val_accuracy: 0.9871\n",
      "Epoch 26/50\n",
      "14384/14384 [==============================] - 0s 34us/step - loss: 0.0338 - accuracy: 0.9909 - val_loss: 0.0414 - val_accuracy: 0.9871\n",
      "Epoch 27/50\n",
      "14384/14384 [==============================] - 0s 34us/step - loss: 0.0340 - accuracy: 0.9910 - val_loss: 0.0419 - val_accuracy: 0.9868\n",
      "Epoch 28/50\n",
      "14384/14384 [==============================] - 0s 34us/step - loss: 0.0337 - accuracy: 0.9909 - val_loss: 0.0410 - val_accuracy: 0.9871\n",
      "Epoch 29/50\n",
      "14384/14384 [==============================] - 0s 34us/step - loss: 0.0335 - accuracy: 0.9910 - val_loss: 0.0416 - val_accuracy: 0.9871\n",
      "Epoch 30/50\n",
      "14384/14384 [==============================] - 0s 34us/step - loss: 0.0334 - accuracy: 0.9910 - val_loss: 0.0435 - val_accuracy: 0.9868\n",
      "Epoch 31/50\n",
      "14384/14384 [==============================] - 0s 34us/step - loss: 0.0333 - accuracy: 0.9910 - val_loss: 0.0409 - val_accuracy: 0.9868\n",
      "Epoch 32/50\n",
      "14384/14384 [==============================] - 0s 35us/step - loss: 0.0332 - accuracy: 0.9908 - val_loss: 0.0417 - val_accuracy: 0.9868\n",
      "Epoch 33/50\n",
      "14384/14384 [==============================] - 0s 34us/step - loss: 0.0330 - accuracy: 0.9909 - val_loss: 0.0418 - val_accuracy: 0.9868\n",
      "Epoch 34/50\n",
      "14384/14384 [==============================] - 0s 34us/step - loss: 0.0331 - accuracy: 0.9910 - val_loss: 0.0410 - val_accuracy: 0.9871\n",
      "Epoch 35/50\n",
      "14384/14384 [==============================] - 0s 35us/step - loss: 0.0327 - accuracy: 0.9908 - val_loss: 0.0397 - val_accuracy: 0.9868\n",
      "Epoch 36/50\n",
      "14384/14384 [==============================] - 0s 35us/step - loss: 0.0326 - accuracy: 0.9910 - val_loss: 0.0397 - val_accuracy: 0.9868\n",
      "Epoch 37/50\n",
      "14384/14384 [==============================] - 1s 35us/step - loss: 0.0325 - accuracy: 0.9910 - val_loss: 0.0402 - val_accuracy: 0.9871\n",
      "Epoch 38/50\n",
      "14384/14384 [==============================] - 0s 34us/step - loss: 0.0324 - accuracy: 0.9909 - val_loss: 0.0413 - val_accuracy: 0.9868\n",
      "Epoch 39/50\n",
      "14384/14384 [==============================] - 0s 34us/step - loss: 0.0322 - accuracy: 0.9910 - val_loss: 0.0397 - val_accuracy: 0.9871\n",
      "Epoch 40/50\n",
      "14384/14384 [==============================] - 0s 35us/step - loss: 0.0321 - accuracy: 0.9910 - val_loss: 0.0402 - val_accuracy: 0.9864\n",
      "Epoch 41/50\n",
      "14384/14384 [==============================] - 0s 34us/step - loss: 0.0322 - accuracy: 0.9907 - val_loss: 0.0398 - val_accuracy: 0.9871\n",
      "Epoch 42/50\n",
      "14384/14384 [==============================] - 0s 34us/step - loss: 0.0321 - accuracy: 0.9910 - val_loss: 0.0390 - val_accuracy: 0.9868\n",
      "Epoch 43/50\n",
      "14384/14384 [==============================] - 0s 34us/step - loss: 0.0321 - accuracy: 0.9908 - val_loss: 0.0388 - val_accuracy: 0.9868\n",
      "Epoch 44/50\n",
      "14384/14384 [==============================] - 0s 34us/step - loss: 0.0319 - accuracy: 0.9909 - val_loss: 0.0386 - val_accuracy: 0.9868\n",
      "Epoch 45/50\n",
      "14384/14384 [==============================] - 0s 35us/step - loss: 0.0318 - accuracy: 0.9909 - val_loss: 0.0407 - val_accuracy: 0.9871\n",
      "Epoch 46/50\n",
      "14384/14384 [==============================] - 0s 34us/step - loss: 0.0318 - accuracy: 0.9908 - val_loss: 0.0390 - val_accuracy: 0.9864\n",
      "Epoch 47/50\n",
      "14384/14384 [==============================] - 0s 34us/step - loss: 0.0316 - accuracy: 0.9909 - val_loss: 0.0386 - val_accuracy: 0.9868\n",
      "Epoch 48/50\n",
      "14384/14384 [==============================] - 1s 36us/step - loss: 0.0318 - accuracy: 0.9908 - val_loss: 0.0396 - val_accuracy: 0.9864\n",
      "Epoch 49/50\n",
      "14384/14384 [==============================] - 0s 35us/step - loss: 0.0318 - accuracy: 0.9908 - val_loss: 0.0392 - val_accuracy: 0.9868\n",
      "Epoch 50/50\n",
      "14384/14384 [==============================] - 1s 37us/step - loss: 0.0315 - accuracy: 0.9910 - val_loss: 0.0380 - val_accuracy: 0.9868\n"
     ]
    }
   ],
   "source": [
    "model1 = build_model()\n",
    "\n",
    "history1 = model1.fit(X_train, y_train, validation_data=(X_val, y_val), epochs=50, batch_size=10).history"
   ]
  },
  {
   "cell_type": "code",
   "execution_count": 22,
   "metadata": {},
   "outputs": [
    {
     "name": "stdout",
     "output_type": "stream",
     "text": [
      "Train on 14384 samples, validate on 2877 samples\n",
      "Epoch 1/50\n",
      "14384/14384 [==============================] - 0s 8us/step - loss: 0.4778 - accuracy: 0.7515 - val_loss: 0.3097 - val_accuracy: 0.7671\n",
      "Epoch 2/50\n",
      "14384/14384 [==============================] - 0s 9us/step - loss: 0.2295 - accuracy: 0.8756 - val_loss: 0.1777 - val_accuracy: 0.9722\n",
      "Epoch 3/50\n",
      "14384/14384 [==============================] - 0s 9us/step - loss: 0.1528 - accuracy: 0.9813 - val_loss: 0.1369 - val_accuracy: 0.9837\n",
      "Epoch 4/50\n",
      "14384/14384 [==============================] - 0s 8us/step - loss: 0.1219 - accuracy: 0.9888 - val_loss: 0.1142 - val_accuracy: 0.9854\n",
      "Epoch 5/50\n",
      "14384/14384 [==============================] - 0s 8us/step - loss: 0.1027 - accuracy: 0.9900 - val_loss: 0.0987 - val_accuracy: 0.9868\n",
      "Epoch 6/50\n",
      "14384/14384 [==============================] - 0s 9us/step - loss: 0.0886 - accuracy: 0.9905 - val_loss: 0.0872 - val_accuracy: 0.9871\n",
      "Epoch 7/50\n",
      "14384/14384 [==============================] - 0s 8us/step - loss: 0.0779 - accuracy: 0.9907 - val_loss: 0.0783 - val_accuracy: 0.9871\n",
      "Epoch 8/50\n",
      "14384/14384 [==============================] - 0s 8us/step - loss: 0.0696 - accuracy: 0.9909 - val_loss: 0.0717 - val_accuracy: 0.9871\n",
      "Epoch 9/50\n",
      "14384/14384 [==============================] - 0s 8us/step - loss: 0.0631 - accuracy: 0.9908 - val_loss: 0.0666 - val_accuracy: 0.9871\n",
      "Epoch 10/50\n",
      "14384/14384 [==============================] - 0s 8us/step - loss: 0.0581 - accuracy: 0.9908 - val_loss: 0.0625 - val_accuracy: 0.9871\n",
      "Epoch 11/50\n",
      "14384/14384 [==============================] - 0s 8us/step - loss: 0.0540 - accuracy: 0.9909 - val_loss: 0.0593 - val_accuracy: 0.9871\n",
      "Epoch 12/50\n",
      "14384/14384 [==============================] - 0s 8us/step - loss: 0.0508 - accuracy: 0.9909 - val_loss: 0.0569 - val_accuracy: 0.9871\n",
      "Epoch 13/50\n",
      "14384/14384 [==============================] - 0s 8us/step - loss: 0.0482 - accuracy: 0.9910 - val_loss: 0.0551 - val_accuracy: 0.9871\n",
      "Epoch 14/50\n",
      "14384/14384 [==============================] - 0s 8us/step - loss: 0.0461 - accuracy: 0.9908 - val_loss: 0.0538 - val_accuracy: 0.9871\n",
      "Epoch 15/50\n",
      "14384/14384 [==============================] - 0s 8us/step - loss: 0.0445 - accuracy: 0.9909 - val_loss: 0.0525 - val_accuracy: 0.9871\n",
      "Epoch 16/50\n",
      "14384/14384 [==============================] - 0s 9us/step - loss: 0.0430 - accuracy: 0.9909 - val_loss: 0.0518 - val_accuracy: 0.9871\n",
      "Epoch 17/50\n",
      "14384/14384 [==============================] - 0s 8us/step - loss: 0.0421 - accuracy: 0.9909 - val_loss: 0.0511 - val_accuracy: 0.9871\n",
      "Epoch 18/50\n",
      "14384/14384 [==============================] - 0s 8us/step - loss: 0.0413 - accuracy: 0.9909 - val_loss: 0.0509 - val_accuracy: 0.9871\n",
      "Epoch 19/50\n",
      "14384/14384 [==============================] - 0s 8us/step - loss: 0.0402 - accuracy: 0.9908 - val_loss: 0.0496 - val_accuracy: 0.9868\n",
      "Epoch 20/50\n",
      "14384/14384 [==============================] - 0s 8us/step - loss: 0.0394 - accuracy: 0.9909 - val_loss: 0.0491 - val_accuracy: 0.9871\n",
      "Epoch 21/50\n",
      "14384/14384 [==============================] - 0s 8us/step - loss: 0.0390 - accuracy: 0.9911 - val_loss: 0.0487 - val_accuracy: 0.9868\n",
      "Epoch 22/50\n",
      "14384/14384 [==============================] - 0s 8us/step - loss: 0.0387 - accuracy: 0.9908 - val_loss: 0.0485 - val_accuracy: 0.9868\n",
      "Epoch 23/50\n",
      "14384/14384 [==============================] - 0s 8us/step - loss: 0.0381 - accuracy: 0.9910 - val_loss: 0.0481 - val_accuracy: 0.9864\n",
      "Epoch 24/50\n",
      "14384/14384 [==============================] - 0s 8us/step - loss: 0.0377 - accuracy: 0.9909 - val_loss: 0.0473 - val_accuracy: 0.9868\n",
      "Epoch 25/50\n",
      "14384/14384 [==============================] - 0s 8us/step - loss: 0.0373 - accuracy: 0.9907 - val_loss: 0.0462 - val_accuracy: 0.9864\n",
      "Epoch 26/50\n",
      "14384/14384 [==============================] - 0s 9us/step - loss: 0.0370 - accuracy: 0.9909 - val_loss: 0.0464 - val_accuracy: 0.9864\n",
      "Epoch 27/50\n",
      "14384/14384 [==============================] - 0s 8us/step - loss: 0.0365 - accuracy: 0.9908 - val_loss: 0.0452 - val_accuracy: 0.9868\n",
      "Epoch 28/50\n",
      "14384/14384 [==============================] - 0s 8us/step - loss: 0.0362 - accuracy: 0.9907 - val_loss: 0.0455 - val_accuracy: 0.9868\n",
      "Epoch 29/50\n",
      "14384/14384 [==============================] - 0s 8us/step - loss: 0.0360 - accuracy: 0.9905 - val_loss: 0.0466 - val_accuracy: 0.9871\n",
      "Epoch 30/50\n",
      "14384/14384 [==============================] - 0s 8us/step - loss: 0.0360 - accuracy: 0.9908 - val_loss: 0.0447 - val_accuracy: 0.9868\n",
      "Epoch 31/50\n",
      "14384/14384 [==============================] - 0s 8us/step - loss: 0.0355 - accuracy: 0.9912 - val_loss: 0.0448 - val_accuracy: 0.9868\n",
      "Epoch 32/50\n",
      "14384/14384 [==============================] - 0s 8us/step - loss: 0.0354 - accuracy: 0.9908 - val_loss: 0.0443 - val_accuracy: 0.9868\n",
      "Epoch 33/50\n",
      "14384/14384 [==============================] - 0s 8us/step - loss: 0.0353 - accuracy: 0.9909 - val_loss: 0.0440 - val_accuracy: 0.9868\n",
      "Epoch 34/50\n",
      "14384/14384 [==============================] - 0s 8us/step - loss: 0.0350 - accuracy: 0.9910 - val_loss: 0.0441 - val_accuracy: 0.9868\n",
      "Epoch 35/50\n",
      "14384/14384 [==============================] - 0s 9us/step - loss: 0.0348 - accuracy: 0.9909 - val_loss: 0.0435 - val_accuracy: 0.9868\n",
      "Epoch 36/50\n",
      "14384/14384 [==============================] - 0s 8us/step - loss: 0.0345 - accuracy: 0.9909 - val_loss: 0.0447 - val_accuracy: 0.9871\n",
      "Epoch 37/50\n",
      "14384/14384 [==============================] - 0s 9us/step - loss: 0.0342 - accuracy: 0.9911 - val_loss: 0.0430 - val_accuracy: 0.9871\n",
      "Epoch 38/50\n",
      "14384/14384 [==============================] - 0s 8us/step - loss: 0.0342 - accuracy: 0.9910 - val_loss: 0.0428 - val_accuracy: 0.9868\n",
      "Epoch 39/50\n",
      "14384/14384 [==============================] - 0s 7us/step - loss: 0.0339 - accuracy: 0.9910 - val_loss: 0.0423 - val_accuracy: 0.9871\n",
      "Epoch 40/50\n",
      "14384/14384 [==============================] - 0s 7us/step - loss: 0.0341 - accuracy: 0.9910 - val_loss: 0.0420 - val_accuracy: 0.9868\n",
      "Epoch 41/50\n",
      "14384/14384 [==============================] - 0s 7us/step - loss: 0.0338 - accuracy: 0.9909 - val_loss: 0.0415 - val_accuracy: 0.9868\n",
      "Epoch 42/50\n",
      "14384/14384 [==============================] - 0s 8us/step - loss: 0.0338 - accuracy: 0.9910 - val_loss: 0.0412 - val_accuracy: 0.9868\n",
      "Epoch 43/50\n",
      "14384/14384 [==============================] - 0s 7us/step - loss: 0.0335 - accuracy: 0.9910 - val_loss: 0.0412 - val_accuracy: 0.9868\n",
      "Epoch 44/50\n",
      "14384/14384 [==============================] - 0s 7us/step - loss: 0.0335 - accuracy: 0.9910 - val_loss: 0.0411 - val_accuracy: 0.9868\n",
      "Epoch 45/50\n",
      "14384/14384 [==============================] - 0s 7us/step - loss: 0.0334 - accuracy: 0.9910 - val_loss: 0.0412 - val_accuracy: 0.9871\n",
      "Epoch 46/50\n",
      "14384/14384 [==============================] - 0s 7us/step - loss: 0.0332 - accuracy: 0.9909 - val_loss: 0.0416 - val_accuracy: 0.9868\n",
      "Epoch 47/50\n",
      "14384/14384 [==============================] - 0s 7us/step - loss: 0.0332 - accuracy: 0.9911 - val_loss: 0.0404 - val_accuracy: 0.9868\n",
      "Epoch 48/50\n",
      "14384/14384 [==============================] - 0s 7us/step - loss: 0.0332 - accuracy: 0.9910 - val_loss: 0.0409 - val_accuracy: 0.9871\n",
      "Epoch 49/50\n",
      "14384/14384 [==============================] - 0s 7us/step - loss: 0.0330 - accuracy: 0.9910 - val_loss: 0.0406 - val_accuracy: 0.9871\n",
      "Epoch 50/50\n",
      "14384/14384 [==============================] - 0s 7us/step - loss: 0.0327 - accuracy: 0.9910 - val_loss: 0.0424 - val_accuracy: 0.9871\n"
     ]
    }
   ],
   "source": [
    "model2 = build_model()\n",
    "\n",
    "history2 = model2.fit(X_train, y_train, validation_data=(X_val, y_val),epochs=50, batch_size=50).history"
   ]
  },
  {
   "cell_type": "code",
   "execution_count": 23,
   "metadata": {},
   "outputs": [
    {
     "data": {
      "image/png": "[encoded data removed]",
      "text/plain": [
       "<Figure size 432x288 with 1 Axes>"
      ]
     },
     "metadata": {
      "needs_background": "light"
     },
     "output_type": "display_data"
    }
   ],
   "source": [
    "plt.plot(history1['loss'], label='Loss 10')\n",
    "plt.plot(history2['loss'], label='Loss 50')\n",
    "plt.xlabel('Epochs')\n",
    "plt.ylabel('Cross-Entropy')\n",
    "plt.legend()\n",
    "plt.show()"
   ]
  },
  {
   "cell_type": "code",
   "execution_count": 24,
   "metadata": {},
   "outputs": [
    {
     "name": "stdout",
     "output_type": "stream",
     "text": [
      "6168/6168 [==============================] - 0s 4us/step\n",
      "6168/6168 [==============================] - 0s 4us/step\n",
      "Loss 0.034050, Accuracy 0.990921\n",
      "Loss 0.036591, Accuracy 0.990597\n"
     ]
    }
   ],
   "source": [
    "test_loss_1, test_acc_1 = model1.evaluate(X_test, y_test)\n",
    "test_loss_2, test_acc_2 = model2.evaluate(X_test, y_test)\n",
    "\n",
    "print('Loss %f, Accuracy %f' % (test_loss_1, test_acc_1))\n",
    "print('Loss %f, Accuracy %f' % (test_loss_2, test_acc_2))"
   ]
  },
  {
   "cell_type": "code",
   "execution_count": 25,
   "metadata": {},
   "outputs": [
    {
     "name": "stdout",
     "output_type": "stream",
     "text": [
      "Accuracy 0.7696173800259404\n",
      "F1-score [0.86981219 0.        ]\n",
      "              precision    recall  f1-score   support\n",
      "\n",
      "           0       0.77      1.00      0.87      4747\n",
      "           1       0.00      0.00      0.00      1421\n",
      "\n",
      "    accuracy                           0.77      6168\n",
      "   macro avg       0.38      0.50      0.43      6168\n",
      "weighted avg       0.59      0.77      0.67      6168\n",
      "\n"
     ]
    },
    {
     "name": "stderr",
     "output_type": "stream",
     "text": [
      "/opt/anaconda3/lib/python3.7/site-packages/sklearn/metrics/_classification.py:1272: UndefinedMetricWarning: Precision and F-score are ill-defined and being set to 0.0 in labels with no predicted samples. Use `zero_division` parameter to control this behavior.\n",
      "  _warn_prf(average, modifier, msg_start, len(result))\n"
     ]
    }
   ],
   "source": [
    "y_pred = model2.predict(X_test).astype(int)\n",
    "\n",
    "print('Accuracy %s' % accuracy_score(y_test, y_pred))\n",
    "print('F1-score %s' % f1_score(y_test, y_pred, average=None))\n",
    "print(classification_report(y_test, y_pred))"
   ]
  },
  {
   "cell_type": "code",
   "execution_count": 26,
   "metadata": {},
   "outputs": [
    {
     "data": {
      "image/png": "[encoded data removed]",
      "text/plain": [
       "<IPython.core.display.Image object>"
      ]
     },
     "execution_count": 26,
     "metadata": {},
     "output_type": "execute_result"
    }
   ],
   "source": [
    "import pydot\n",
    "from keras.utils import plot_model\n",
    "plot_model(model1)"
   ]
  },
  {
   "cell_type": "code",
   "execution_count": 27,
   "metadata": {},
   "outputs": [
    {
     "data": {
      "image/png": "[encoded data removed]",
      "text/plain": [
       "<IPython.core.display.Image object>"
      ]
     },
     "execution_count": 27,
     "metadata": {},
     "output_type": "execute_result"
    }
   ],
   "source": [
    "plot_model(model2)"
   ]
  },
  {
   "cell_type": "code",
   "execution_count": 28,
   "metadata": {
    "scrolled": false
   },
   "outputs": [
    {
     "name": "stdout",
     "output_type": "stream",
     "text": [
      "Train on 14384 samples, validate on 2877 samples\n",
      "Epoch 1/100\n",
      "14384/14384 [==============================] - 1s 35us/step - loss: 0.2103 - accuracy: 0.9139 - val_loss: 0.1121 - val_accuracy: 0.9864\n",
      "Epoch 2/100\n",
      "14384/14384 [==============================] - 0s 35us/step - loss: 0.0841 - accuracy: 0.9907 - val_loss: 0.0717 - val_accuracy: 0.9864\n",
      "Epoch 3/100\n",
      "14384/14384 [==============================] - 1s 35us/step - loss: 0.0562 - accuracy: 0.9910 - val_loss: 0.0571 - val_accuracy: 0.9871\n",
      "Epoch 4/100\n",
      "14384/14384 [==============================] - 1s 35us/step - loss: 0.0457 - accuracy: 0.9909 - val_loss: 0.0523 - val_accuracy: 0.9871\n",
      "Epoch 5/100\n",
      "14384/14384 [==============================] - 1s 35us/step - loss: 0.0414 - accuracy: 0.9910 - val_loss: 0.0491 - val_accuracy: 0.9871\n",
      "Epoch 6/100\n",
      "14384/14384 [==============================] - 1s 35us/step - loss: 0.0394 - accuracy: 0.9910 - val_loss: 0.0485 - val_accuracy: 0.9864\n",
      "Epoch 7/100\n",
      "14384/14384 [==============================] - 1s 38us/step - loss: 0.0385 - accuracy: 0.9908 - val_loss: 0.0479 - val_accuracy: 0.9868\n",
      "Epoch 8/100\n",
      "14384/14384 [==============================] - 1s 40us/step - loss: 0.0380 - accuracy: 0.9910 - val_loss: 0.0479 - val_accuracy: 0.9868\n",
      "Epoch 9/100\n",
      "14384/14384 [==============================] - 1s 36us/step - loss: 0.0378 - accuracy: 0.9908 - val_loss: 0.0473 - val_accuracy: 0.9871\n",
      "Epoch 10/100\n",
      "14384/14384 [==============================] - 1s 39us/step - loss: 0.0377 - accuracy: 0.9910 - val_loss: 0.0471 - val_accuracy: 0.9871\n",
      "Epoch 11/100\n",
      "14384/14384 [==============================] - 1s 37us/step - loss: 0.0374 - accuracy: 0.9910 - val_loss: 0.0472 - val_accuracy: 0.9871\n",
      "Epoch 12/100\n",
      "14384/14384 [==============================] - 1s 38us/step - loss: 0.0374 - accuracy: 0.9911 - val_loss: 0.0472 - val_accuracy: 0.9871\n",
      "Epoch 13/100\n",
      "14384/14384 [==============================] - 1s 38us/step - loss: 0.0373 - accuracy: 0.9908 - val_loss: 0.0461 - val_accuracy: 0.9868\n",
      "Epoch 14/100\n",
      "14384/14384 [==============================] - 1s 40us/step - loss: 0.0374 - accuracy: 0.9909 - val_loss: 0.0476 - val_accuracy: 0.9871\n",
      "Epoch 15/100\n",
      "14384/14384 [==============================] - 1s 38us/step - loss: 0.0373 - accuracy: 0.9908 - val_loss: 0.0474 - val_accuracy: 0.9871\n",
      "Epoch 16/100\n",
      "14384/14384 [==============================] - 1s 39us/step - loss: 0.0372 - accuracy: 0.9910 - val_loss: 0.0457 - val_accuracy: 0.9868\n",
      "Epoch 17/100\n",
      "14384/14384 [==============================] - 1s 40us/step - loss: 0.0371 - accuracy: 0.9907 - val_loss: 0.0480 - val_accuracy: 0.9871\n",
      "Epoch 18/100\n",
      "14384/14384 [==============================] - 1s 41us/step - loss: 0.0369 - accuracy: 0.9910 - val_loss: 0.0464 - val_accuracy: 0.9875\n",
      "Epoch 19/100\n",
      "14384/14384 [==============================] - 1s 41us/step - loss: 0.0369 - accuracy: 0.9910 - val_loss: 0.0463 - val_accuracy: 0.9868\n",
      "Epoch 20/100\n",
      "14384/14384 [==============================] - 1s 40us/step - loss: 0.0368 - accuracy: 0.9910 - val_loss: 0.0485 - val_accuracy: 0.9871\n",
      "Epoch 21/100\n",
      "14384/14384 [==============================] - 1s 40us/step - loss: 0.0369 - accuracy: 0.9910 - val_loss: 0.0453 - val_accuracy: 0.9871\n",
      "Epoch 22/100\n",
      "14384/14384 [==============================] - 1s 40us/step - loss: 0.0366 - accuracy: 0.9908 - val_loss: 0.0467 - val_accuracy: 0.9871\n",
      "Epoch 23/100\n",
      "14384/14384 [==============================] - 1s 35us/step - loss: 0.0366 - accuracy: 0.9908 - val_loss: 0.0452 - val_accuracy: 0.9864\n",
      "Epoch 24/100\n",
      "14384/14384 [==============================] - 1s 36us/step - loss: 0.0367 - accuracy: 0.9908 - val_loss: 0.0452 - val_accuracy: 0.9864\n",
      "Epoch 25/100\n",
      "14384/14384 [==============================] - 1s 36us/step - loss: 0.0366 - accuracy: 0.9910 - val_loss: 0.0473 - val_accuracy: 0.9871\n",
      "Epoch 26/100\n",
      "14384/14384 [==============================] - 1s 37us/step - loss: 0.0367 - accuracy: 0.9910 - val_loss: 0.0452 - val_accuracy: 0.9868\n",
      "Epoch 27/100\n",
      "14384/14384 [==============================] - 1s 37us/step - loss: 0.0364 - accuracy: 0.9908 - val_loss: 0.0484 - val_accuracy: 0.9871\n",
      "Epoch 28/100\n",
      "14384/14384 [==============================] - 1s 40us/step - loss: 0.0367 - accuracy: 0.9910 - val_loss: 0.0450 - val_accuracy: 0.9871\n",
      "Epoch 29/100\n",
      "14384/14384 [==============================] - 1s 40us/step - loss: 0.0364 - accuracy: 0.9908 - val_loss: 0.0474 - val_accuracy: 0.9871\n",
      "Epoch 30/100\n",
      "14384/14384 [==============================] - 1s 37us/step - loss: 0.0365 - accuracy: 0.9912 - val_loss: 0.0447 - val_accuracy: 0.9871\n",
      "Epoch 31/100\n",
      "14384/14384 [==============================] - 1s 36us/step - loss: 0.0365 - accuracy: 0.9910 - val_loss: 0.0452 - val_accuracy: 0.9871\n",
      "Epoch 32/100\n",
      "14384/14384 [==============================] - 1s 38us/step - loss: 0.0361 - accuracy: 0.9909 - val_loss: 0.0456 - val_accuracy: 0.9875\n",
      "Epoch 33/100\n",
      "14384/14384 [==============================] - 1s 39us/step - loss: 0.0363 - accuracy: 0.9910 - val_loss: 0.0446 - val_accuracy: 0.9871\n",
      "Epoch 34/100\n",
      "14384/14384 [==============================] - 1s 39us/step - loss: 0.0362 - accuracy: 0.9909 - val_loss: 0.0454 - val_accuracy: 0.9875\n",
      "Epoch 35/100\n",
      "14384/14384 [==============================] - 1s 40us/step - loss: 0.0362 - accuracy: 0.9910 - val_loss: 0.0444 - val_accuracy: 0.9871\n",
      "Epoch 36/100\n",
      "14384/14384 [==============================] - 1s 36us/step - loss: 0.0361 - accuracy: 0.9909 - val_loss: 0.0455 - val_accuracy: 0.9871\n",
      "Epoch 37/100\n",
      "14384/14384 [==============================] - 1s 40us/step - loss: 0.0361 - accuracy: 0.9910 - val_loss: 0.0445 - val_accuracy: 0.9868\n",
      "Epoch 38/100\n",
      "14384/14384 [==============================] - 1s 38us/step - loss: 0.0359 - accuracy: 0.9910 - val_loss: 0.0475 - val_accuracy: 0.9868\n",
      "Epoch 39/100\n",
      "14384/14384 [==============================] - 1s 38us/step - loss: 0.0358 - accuracy: 0.9909 - val_loss: 0.0444 - val_accuracy: 0.9875\n",
      "Epoch 40/100\n",
      "14384/14384 [==============================] - 1s 37us/step - loss: 0.0358 - accuracy: 0.9909 - val_loss: 0.0448 - val_accuracy: 0.9875\n",
      "Epoch 41/100\n",
      "14384/14384 [==============================] - 1s 38us/step - loss: 0.0356 - accuracy: 0.9911 - val_loss: 0.0471 - val_accuracy: 0.9871\n",
      "Epoch 42/100\n",
      "14384/14384 [==============================] - 1s 36us/step - loss: 0.0356 - accuracy: 0.9910 - val_loss: 0.0449 - val_accuracy: 0.9875\n",
      "Epoch 43/100\n",
      "14384/14384 [==============================] - 1s 36us/step - loss: 0.0355 - accuracy: 0.9913 - val_loss: 0.0445 - val_accuracy: 0.9871\n",
      "Epoch 44/100\n",
      "14384/14384 [==============================] - 1s 36us/step - loss: 0.0355 - accuracy: 0.9909 - val_loss: 0.0441 - val_accuracy: 0.9871\n",
      "Epoch 45/100\n",
      "14384/14384 [==============================] - 1s 36us/step - loss: 0.0354 - accuracy: 0.9910 - val_loss: 0.0434 - val_accuracy: 0.9871\n",
      "Epoch 46/100\n",
      "14384/14384 [==============================] - 0s 34us/step - loss: 0.0352 - accuracy: 0.9910 - val_loss: 0.0443 - val_accuracy: 0.9871\n",
      "Epoch 47/100\n",
      "14384/14384 [==============================] - 0s 34us/step - loss: 0.0353 - accuracy: 0.9910 - val_loss: 0.0442 - val_accuracy: 0.9868\n",
      "Epoch 48/100\n",
      "14384/14384 [==============================] - 0s 34us/step - loss: 0.0350 - accuracy: 0.9910 - val_loss: 0.0448 - val_accuracy: 0.9871\n",
      "Epoch 49/100\n",
      "14384/14384 [==============================] - 1s 35us/step - loss: 0.0350 - accuracy: 0.9910 - val_loss: 0.0436 - val_accuracy: 0.9871\n",
      "Epoch 50/100\n",
      "14384/14384 [==============================] - 0s 35us/step - loss: 0.0348 - accuracy: 0.9910 - val_loss: 0.0428 - val_accuracy: 0.9875\n",
      "Epoch 51/100\n",
      "14384/14384 [==============================] - 1s 35us/step - loss: 0.0347 - accuracy: 0.9912 - val_loss: 0.0437 - val_accuracy: 0.9868\n",
      "Epoch 52/100\n",
      "14384/14384 [==============================] - 1s 35us/step - loss: 0.0347 - accuracy: 0.9912 - val_loss: 0.0421 - val_accuracy: 0.9871\n",
      "Epoch 53/100\n",
      "14384/14384 [==============================] - 0s 34us/step - loss: 0.0343 - accuracy: 0.9910 - val_loss: 0.0428 - val_accuracy: 0.9871\n",
      "Epoch 54/100\n",
      "14384/14384 [==============================] - 1s 36us/step - loss: 0.0344 - accuracy: 0.9911 - val_loss: 0.0417 - val_accuracy: 0.9871\n",
      "Epoch 55/100\n",
      "14384/14384 [==============================] - 1s 37us/step - loss: 0.0340 - accuracy: 0.9910 - val_loss: 0.0417 - val_accuracy: 0.9871\n"
     ]
    },
    {
     "name": "stdout",
     "output_type": "stream",
     "text": [
      "Epoch 56/100\n",
      "14384/14384 [==============================] - 1s 35us/step - loss: 0.0341 - accuracy: 0.9910 - val_loss: 0.0425 - val_accuracy: 0.9871\n",
      "Epoch 57/100\n",
      "14384/14384 [==============================] - 1s 38us/step - loss: 0.0339 - accuracy: 0.9911 - val_loss: 0.0412 - val_accuracy: 0.9875\n",
      "Epoch 58/100\n",
      "14384/14384 [==============================] - 1s 40us/step - loss: 0.0336 - accuracy: 0.9912 - val_loss: 0.0421 - val_accuracy: 0.9871\n",
      "Epoch 59/100\n",
      "14384/14384 [==============================] - 1s 38us/step - loss: 0.0337 - accuracy: 0.9910 - val_loss: 0.0410 - val_accuracy: 0.9871\n",
      "Epoch 60/100\n",
      "14384/14384 [==============================] - 1s 37us/step - loss: 0.0335 - accuracy: 0.9913 - val_loss: 0.0405 - val_accuracy: 0.9878\n",
      "Epoch 61/100\n",
      "14384/14384 [==============================] - 1s 37us/step - loss: 0.0335 - accuracy: 0.9909 - val_loss: 0.0411 - val_accuracy: 0.9875\n",
      "Epoch 62/100\n",
      "14384/14384 [==============================] - 1s 40us/step - loss: 0.0332 - accuracy: 0.9913 - val_loss: 0.0403 - val_accuracy: 0.9875\n",
      "Epoch 63/100\n",
      "14384/14384 [==============================] - 1s 37us/step - loss: 0.0333 - accuracy: 0.9910 - val_loss: 0.0410 - val_accuracy: 0.9875\n",
      "Epoch 64/100\n",
      "14384/14384 [==============================] - 1s 36us/step - loss: 0.0332 - accuracy: 0.9908 - val_loss: 0.0397 - val_accuracy: 0.9882\n",
      "Epoch 65/100\n",
      "14384/14384 [==============================] - 1s 35us/step - loss: 0.0331 - accuracy: 0.9910 - val_loss: 0.0398 - val_accuracy: 0.9878\n",
      "Epoch 66/100\n",
      "14384/14384 [==============================] - 0s 34us/step - loss: 0.0330 - accuracy: 0.9913 - val_loss: 0.0410 - val_accuracy: 0.9871\n",
      "Epoch 67/100\n",
      "14384/14384 [==============================] - 0s 35us/step - loss: 0.0326 - accuracy: 0.9914 - val_loss: 0.0396 - val_accuracy: 0.9882\n",
      "Epoch 68/100\n",
      "14384/14384 [==============================] - 0s 35us/step - loss: 0.0329 - accuracy: 0.9910 - val_loss: 0.0393 - val_accuracy: 0.9882\n",
      "Epoch 69/100\n",
      "14384/14384 [==============================] - 0s 35us/step - loss: 0.0327 - accuracy: 0.9911 - val_loss: 0.0419 - val_accuracy: 0.9871\n",
      "Epoch 70/100\n",
      "14384/14384 [==============================] - 1s 37us/step - loss: 0.0327 - accuracy: 0.9910 - val_loss: 0.0395 - val_accuracy: 0.9875\n",
      "Epoch 71/100\n",
      "14384/14384 [==============================] - 1s 36us/step - loss: 0.0326 - accuracy: 0.9912 - val_loss: 0.0405 - val_accuracy: 0.9875\n",
      "Epoch 72/100\n",
      "14384/14384 [==============================] - 1s 37us/step - loss: 0.0327 - accuracy: 0.9909 - val_loss: 0.0396 - val_accuracy: 0.9878\n",
      "Epoch 73/100\n",
      "14384/14384 [==============================] - 1s 36us/step - loss: 0.0326 - accuracy: 0.9908 - val_loss: 0.0391 - val_accuracy: 0.9882\n",
      "Epoch 74/100\n",
      "14384/14384 [==============================] - 1s 36us/step - loss: 0.0322 - accuracy: 0.9912 - val_loss: 0.0411 - val_accuracy: 0.9871\n",
      "Epoch 75/100\n",
      "14384/14384 [==============================] - 0s 35us/step - loss: 0.0324 - accuracy: 0.9910 - val_loss: 0.0386 - val_accuracy: 0.9878\n",
      "Epoch 76/100\n",
      "14384/14384 [==============================] - 0s 35us/step - loss: 0.0324 - accuracy: 0.9913 - val_loss: 0.0413 - val_accuracy: 0.9871\n",
      "Epoch 77/100\n",
      "14384/14384 [==============================] - 1s 39us/step - loss: 0.0324 - accuracy: 0.9909 - val_loss: 0.0400 - val_accuracy: 0.9882\n",
      "Epoch 78/100\n",
      "14384/14384 [==============================] - 1s 37us/step - loss: 0.0324 - accuracy: 0.9910 - val_loss: 0.0396 - val_accuracy: 0.9882\n",
      "Epoch 79/100\n",
      "14384/14384 [==============================] - 1s 35us/step - loss: 0.0325 - accuracy: 0.9912 - val_loss: 0.0403 - val_accuracy: 0.9871\n",
      "Epoch 80/100\n",
      "14384/14384 [==============================] - 1s 39us/step - loss: 0.0322 - accuracy: 0.9912 - val_loss: 0.0380 - val_accuracy: 0.9885\n",
      "Epoch 81/100\n",
      "14384/14384 [==============================] - 1s 37us/step - loss: 0.0323 - accuracy: 0.9908 - val_loss: 0.0395 - val_accuracy: 0.9875\n",
      "Epoch 82/100\n",
      "14384/14384 [==============================] - 1s 37us/step - loss: 0.0322 - accuracy: 0.9909 - val_loss: 0.0385 - val_accuracy: 0.9875\n",
      "Epoch 83/100\n",
      "14384/14384 [==============================] - 1s 37us/step - loss: 0.0320 - accuracy: 0.9911 - val_loss: 0.0388 - val_accuracy: 0.9878\n",
      "Epoch 84/100\n",
      "14384/14384 [==============================] - 1s 40us/step - loss: 0.0320 - accuracy: 0.9912 - val_loss: 0.0398 - val_accuracy: 0.9875\n",
      "Epoch 85/100\n",
      "14384/14384 [==============================] - 1s 38us/step - loss: 0.0320 - accuracy: 0.9911 - val_loss: 0.0377 - val_accuracy: 0.9882\n",
      "Epoch 86/100\n",
      "14384/14384 [==============================] - 1s 39us/step - loss: 0.0320 - accuracy: 0.9910 - val_loss: 0.0384 - val_accuracy: 0.9885\n",
      "Epoch 87/100\n",
      "14384/14384 [==============================] - 1s 39us/step - loss: 0.0320 - accuracy: 0.9910 - val_loss: 0.0379 - val_accuracy: 0.9885\n",
      "Epoch 88/100\n",
      "14384/14384 [==============================] - 1s 40us/step - loss: 0.0318 - accuracy: 0.9912 - val_loss: 0.0392 - val_accuracy: 0.9871\n",
      "Epoch 89/100\n",
      "14384/14384 [==============================] - 1s 39us/step - loss: 0.0320 - accuracy: 0.9912 - val_loss: 0.0395 - val_accuracy: 0.9871\n",
      "Epoch 90/100\n",
      "14384/14384 [==============================] - 1s 40us/step - loss: 0.0318 - accuracy: 0.9910 - val_loss: 0.0394 - val_accuracy: 0.9875\n",
      "Epoch 91/100\n",
      "14384/14384 [==============================] - 1s 40us/step - loss: 0.0319 - accuracy: 0.9910 - val_loss: 0.0385 - val_accuracy: 0.9875\n",
      "Epoch 92/100\n",
      "14384/14384 [==============================] - 1s 37us/step - loss: 0.0317 - accuracy: 0.9910 - val_loss: 0.0403 - val_accuracy: 0.9871\n",
      "Epoch 93/100\n",
      "14384/14384 [==============================] - 1s 35us/step - loss: 0.0318 - accuracy: 0.9914 - val_loss: 0.0403 - val_accuracy: 0.9871\n",
      "Epoch 94/100\n",
      "14384/14384 [==============================] - 1s 41us/step - loss: 0.0318 - accuracy: 0.9912 - val_loss: 0.0378 - val_accuracy: 0.9885\n",
      "Epoch 95/100\n",
      "14384/14384 [==============================] - 1s 40us/step - loss: 0.0316 - accuracy: 0.9911 - val_loss: 0.0377 - val_accuracy: 0.9878\n",
      "Epoch 96/100\n",
      "14384/14384 [==============================] - 1s 40us/step - loss: 0.0317 - accuracy: 0.9912 - val_loss: 0.0383 - val_accuracy: 0.9875\n",
      "Epoch 97/100\n",
      "14384/14384 [==============================] - 1s 40us/step - loss: 0.0316 - accuracy: 0.9911 - val_loss: 0.0427 - val_accuracy: 0.9871\n",
      "Epoch 98/100\n",
      "14384/14384 [==============================] - 1s 40us/step - loss: 0.0318 - accuracy: 0.9910 - val_loss: 0.0379 - val_accuracy: 0.9875\n",
      "Epoch 99/100\n",
      "14384/14384 [==============================] - 1s 35us/step - loss: 0.0316 - accuracy: 0.9911 - val_loss: 0.0385 - val_accuracy: 0.9875\n",
      "Epoch 100/100\n",
      "14384/14384 [==============================] - 1s 35us/step - loss: 0.0316 - accuracy: 0.9912 - val_loss: 0.0372 - val_accuracy: 0.9878\n"
     ]
    }
   ],
   "source": [
    "model3 = build_model()\n",
    "\n",
    "history3 = model3.fit(X_train, y_train, validation_data=(X_val, y_val), epochs=100, batch_size=10).history"
   ]
  },
  {
   "cell_type": "code",
   "execution_count": 29,
   "metadata": {},
   "outputs": [
    {
     "name": "stdout",
     "output_type": "stream",
     "text": [
      "Train: Loss 0.031543, Accuracy 0.990962\n",
      "Val: Loss 0.038001, Accuracy 0.986792\n"
     ]
    }
   ],
   "source": [
    "print('Train: Loss %f, Accuracy %f' % (history1['loss'][49], history1['accuracy'][49]))\n",
    "print('Val: Loss %f, Accuracy %f' % (history1['val_loss'][49], history1['val_accuracy'][49]))"
   ]
  },
  {
   "cell_type": "code",
   "execution_count": 30,
   "metadata": {},
   "outputs": [
    {
     "name": "stdout",
     "output_type": "stream",
     "text": [
      "Train: Loss 0.032729, Accuracy 0.991032\n",
      "Val: Loss 0.042354, Accuracy 0.987139\n"
     ]
    }
   ],
   "source": [
    "print('Train: Loss %f, Accuracy %f' % (history2['loss'][49], history2['accuracy'][49]))\n",
    "print('Val: Loss %f, Accuracy %f' % (history2['val_loss'][49], history2['val_accuracy'][49]))"
   ]
  },
  {
   "cell_type": "code",
   "execution_count": 31,
   "metadata": {},
   "outputs": [
    {
     "name": "stdout",
     "output_type": "stream",
     "text": [
      "Train: Loss 0.031562, Accuracy 0.991240\n",
      "Val: Loss 0.037156, Accuracy 0.987835\n"
     ]
    }
   ],
   "source": [
    "print('Train: Loss %f, Accuracy %f' % (history3['loss'][99], history3['accuracy'][99]))\n",
    "print('Val: Loss %f, Accuracy %f' % (history3['val_loss'][99], history3['val_accuracy'][99]))"
   ]
  },
  {
   "cell_type": "code",
   "execution_count": 32,
   "metadata": {},
   "outputs": [
    {
     "name": "stdout",
     "output_type": "stream",
     "text": [
      "6168/6168 [==============================] - 0s 3us/step\n",
      "Loss 0.034050, Accuracy 0.990921\n",
      "Loss 0.036591, Accuracy 0.990597\n",
      "Loss 0.034048, Accuracy 0.990921\n"
     ]
    },
    {
     "data": {
      "image/png": "[encoded data removed]",
      "text/plain": [
       "<IPython.core.display.Image object>"
      ]
     },
     "execution_count": 32,
     "metadata": {},
     "output_type": "execute_result"
    }
   ],
   "source": [
    "test_loss_3, test_acc_3 = model3.evaluate(X_test, y_test)\n",
    "\n",
    "print('Loss %f, Accuracy %f' % (test_loss_1, test_acc_1))\n",
    "print('Loss %f, Accuracy %f' % (test_loss_2, test_acc_2))\n",
    "print('Loss %f, Accuracy %f' % (test_loss_3, test_acc_3))\n",
    "plot_model(model3)"
   ]
  },
  {
   "cell_type": "code",
   "execution_count": 33,
   "metadata": {},
   "outputs": [
    {
     "name": "stdout",
     "output_type": "stream",
     "text": [
      "6168/6168 [==============================] - 0s 4us/step\n"
     ]
    }
   ],
   "source": [
    "test_loss_3, test_acc_3 = model3.evaluate(X_test, y_test)"
   ]
  },
  {
   "cell_type": "code",
   "execution_count": 34,
   "metadata": {},
   "outputs": [
    {
     "data": {
      "image/png": "[encoded data removed]",
      "text/plain": [
       "<Figure size 432x288 with 1 Axes>"
      ]
     },
     "metadata": {
      "needs_background": "light"
     },
     "output_type": "display_data"
    }
   ],
   "source": [
    "plt.plot(history3['loss'], label='Train')\n",
    "plt.plot(history3['val_loss'], label='Val')\n",
    "plt.xlabel('Epochs')\n",
    "plt.ylabel('Cross-Entropy')\n",
    "plt.legend()\n",
    "plt.show()"
   ]
  },
  {
   "cell_type": "code",
   "execution_count": 54,
   "metadata": {},
   "outputs": [
    {
     "ename": "TypeError",
     "evalue": "If no scoring is specified, the estimator passed should have a 'score' method. The estimator <keras.engine.sequential.Sequential object at 0x7f9df9360890> does not.",
     "output_type": "error",
     "traceback": [
      "\u001b[0;31m---------------------------------------------------------------------------\u001b[0m",
      "\u001b[0;31mTypeError\u001b[0m                                 Traceback (most recent call last)",
      "\u001b[0;32m<ipython-input-54-5d3e63a5136e>\u001b[0m in \u001b[0;36m<module>\u001b[0;34m\u001b[0m\n\u001b[0;32m----> 1\u001b[0;31m \u001b[0mscores\u001b[0m \u001b[0;34m=\u001b[0m \u001b[0mcross_val_score\u001b[0m\u001b[0;34m(\u001b[0m\u001b[0mmodel3\u001b[0m\u001b[0;34m,\u001b[0m \u001b[0mX_train\u001b[0m\u001b[0;34m,\u001b[0m \u001b[0my_train\u001b[0m\u001b[0;34m,\u001b[0m \u001b[0mcv\u001b[0m\u001b[0;34m=\u001b[0m\u001b[0;36m10\u001b[0m\u001b[0;34m)\u001b[0m\u001b[0;34m\u001b[0m\u001b[0;34m\u001b[0m\u001b[0m\n\u001b[0m\u001b[1;32m      2\u001b[0m \u001b[0mprint\u001b[0m\u001b[0;34m(\u001b[0m\u001b[0;34m'Accuracy: %0.4f (+/- %0.3f)'\u001b[0m \u001b[0;34m%\u001b[0m \u001b[0;34m(\u001b[0m\u001b[0mscores\u001b[0m\u001b[0;34m.\u001b[0m\u001b[0mmean\u001b[0m\u001b[0;34m(\u001b[0m\u001b[0;34m)\u001b[0m\u001b[0;34m,\u001b[0m \u001b[0mscores\u001b[0m\u001b[0;34m.\u001b[0m\u001b[0mstd\u001b[0m\u001b[0;34m(\u001b[0m\u001b[0;34m)\u001b[0m\u001b[0;34m)\u001b[0m\u001b[0;34m)\u001b[0m\u001b[0;34m\u001b[0m\u001b[0;34m\u001b[0m\u001b[0m\n\u001b[1;32m      3\u001b[0m \u001b[0;34m\u001b[0m\u001b[0m\n\u001b[1;32m      4\u001b[0m \u001b[0mscores\u001b[0m \u001b[0;34m=\u001b[0m \u001b[0mcross_val_score\u001b[0m\u001b[0;34m(\u001b[0m\u001b[0mmodel3\u001b[0m\u001b[0;34m,\u001b[0m \u001b[0mX_train\u001b[0m\u001b[0;34m,\u001b[0m \u001b[0my_train\u001b[0m\u001b[0;34m,\u001b[0m \u001b[0mcv\u001b[0m\u001b[0;34m=\u001b[0m\u001b[0;36m10\u001b[0m\u001b[0;34m,\u001b[0m \u001b[0mscoring\u001b[0m\u001b[0;34m=\u001b[0m\u001b[0;34m'f1_macro'\u001b[0m\u001b[0;34m)\u001b[0m\u001b[0;34m\u001b[0m\u001b[0;34m\u001b[0m\u001b[0m\n\u001b[1;32m      5\u001b[0m \u001b[0mprint\u001b[0m\u001b[0;34m(\u001b[0m\u001b[0;34m'F1-score: %0.4f (+/- %0.3f)'\u001b[0m \u001b[0;34m%\u001b[0m \u001b[0;34m(\u001b[0m\u001b[0mscores\u001b[0m\u001b[0;34m.\u001b[0m\u001b[0mmean\u001b[0m\u001b[0;34m(\u001b[0m\u001b[0;34m)\u001b[0m\u001b[0;34m,\u001b[0m \u001b[0mscores\u001b[0m\u001b[0;34m.\u001b[0m\u001b[0mstd\u001b[0m\u001b[0;34m(\u001b[0m\u001b[0;34m)\u001b[0m\u001b[0;34m)\u001b[0m\u001b[0;34m)\u001b[0m\u001b[0;34m\u001b[0m\u001b[0;34m\u001b[0m\u001b[0m\n",
      "\u001b[0;32m/opt/anaconda3/lib/python3.7/site-packages/sklearn/model_selection/_validation.py\u001b[0m in \u001b[0;36mcross_val_score\u001b[0;34m(estimator, X, y, groups, scoring, cv, n_jobs, verbose, fit_params, pre_dispatch, error_score)\u001b[0m\n\u001b[1;32m    381\u001b[0m     \"\"\"\n\u001b[1;32m    382\u001b[0m     \u001b[0;31m# To ensure multimetric format is not supported\u001b[0m\u001b[0;34m\u001b[0m\u001b[0;34m\u001b[0m\u001b[0;34m\u001b[0m\u001b[0m\n\u001b[0;32m--> 383\u001b[0;31m     \u001b[0mscorer\u001b[0m \u001b[0;34m=\u001b[0m \u001b[0mcheck_scoring\u001b[0m\u001b[0;34m(\u001b[0m\u001b[0mestimator\u001b[0m\u001b[0;34m,\u001b[0m \u001b[0mscoring\u001b[0m\u001b[0;34m=\u001b[0m\u001b[0mscoring\u001b[0m\u001b[0;34m)\u001b[0m\u001b[0;34m\u001b[0m\u001b[0;34m\u001b[0m\u001b[0m\n\u001b[0m\u001b[1;32m    384\u001b[0m \u001b[0;34m\u001b[0m\u001b[0m\n\u001b[1;32m    385\u001b[0m     cv_results = cross_validate(estimator=estimator, X=X, y=y, groups=groups,\n",
      "\u001b[0;32m/opt/anaconda3/lib/python3.7/site-packages/sklearn/metrics/_scorer.py\u001b[0m in \u001b[0;36mcheck_scoring\u001b[0;34m(estimator, scoring, allow_none)\u001b[0m\n\u001b[1;32m    424\u001b[0m                 \u001b[0;34m\"If no scoring is specified, the estimator passed should \"\u001b[0m\u001b[0;34m\u001b[0m\u001b[0;34m\u001b[0m\u001b[0m\n\u001b[1;32m    425\u001b[0m                 \u001b[0;34m\"have a 'score' method. The estimator %r does not.\"\u001b[0m\u001b[0;34m\u001b[0m\u001b[0;34m\u001b[0m\u001b[0m\n\u001b[0;32m--> 426\u001b[0;31m                 % estimator)\n\u001b[0m\u001b[1;32m    427\u001b[0m     \u001b[0;32melif\u001b[0m \u001b[0misinstance\u001b[0m\u001b[0;34m(\u001b[0m\u001b[0mscoring\u001b[0m\u001b[0;34m,\u001b[0m \u001b[0mIterable\u001b[0m\u001b[0;34m)\u001b[0m\u001b[0;34m:\u001b[0m\u001b[0;34m\u001b[0m\u001b[0;34m\u001b[0m\u001b[0m\n\u001b[1;32m    428\u001b[0m         raise ValueError(\"For evaluating multiple scores, use \"\n",
      "\u001b[0;31mTypeError\u001b[0m: If no scoring is specified, the estimator passed should have a 'score' method. The estimator <keras.engine.sequential.Sequential object at 0x7f9df9360890> does not."
     ]
    }
   ],
   "source": [
    "scores = cross_val_score(model3, X_train, y_train, cv=10)\n",
    "print('Accuracy: %0.4f (+/- %0.3f)' % (scores.mean(), scores.std()))\n",
    "\n",
    "scores = cross_val_score(model3, X_train, y_train, cv=10, scoring='f1_macro')\n",
    "print('F1-score: %0.4f (+/- %0.3f)' % (scores.mean(), scores.std()))"
   ]
  },
  {
   "cell_type": "code",
   "execution_count": 36,
   "metadata": {},
   "outputs": [],
   "source": [
    "from ann_visualizer.visualize import ann_viz;\n",
    "#Build your model here\n",
    "ann_viz(model3,view=True, filename=\"net.gv\")"
   ]
  },
  {
   "cell_type": "markdown",
   "metadata": {},
   "source": [
    "## Early Stopping"
   ]
  },
  {
   "cell_type": "code",
   "execution_count": 37,
   "metadata": {},
   "outputs": [],
   "source": [
    "from keras.callbacks import EarlyStopping, ModelCheckpoint"
   ]
  },
  {
   "cell_type": "markdown",
   "metadata": {},
   "source": [
    "The most relevant arguments are:\n",
    "\n",
    "* monitor: quantity to be monitored\n",
    "* patience: number of epochs with no improvement after which training will be stopped"
   ]
  },
  {
   "cell_type": "code",
   "execution_count": 38,
   "metadata": {},
   "outputs": [
    {
     "name": "stdout",
     "output_type": "stream",
     "text": [
      "Train on 14384 samples, validate on 2877 samples\n",
      "Epoch 1/100\n",
      "14384/14384 [==============================] - 1s 35us/step - loss: 0.3851 - accuracy: 0.9633 - val_loss: 0.2432 - val_accuracy: 0.9861\n",
      "Epoch 2/100\n",
      "14384/14384 [==============================] - 0s 34us/step - loss: 0.1710 - accuracy: 0.9908 - val_loss: 0.1358 - val_accuracy: 0.9864\n",
      "Epoch 3/100\n",
      "14384/14384 [==============================] - 0s 34us/step - loss: 0.1004 - accuracy: 0.9908 - val_loss: 0.0894 - val_accuracy: 0.9864\n",
      "Epoch 4/100\n",
      "14384/14384 [==============================] - 0s 34us/step - loss: 0.0702 - accuracy: 0.9909 - val_loss: 0.0697 - val_accuracy: 0.9864\n",
      "Epoch 5/100\n",
      "14384/14384 [==============================] - 0s 34us/step - loss: 0.0558 - accuracy: 0.9908 - val_loss: 0.0617 - val_accuracy: 0.9864\n",
      "Epoch 6/100\n",
      "14384/14384 [==============================] - 1s 36us/step - loss: 0.0486 - accuracy: 0.9908 - val_loss: 0.0565 - val_accuracy: 0.9864\n",
      "Epoch 7/100\n",
      "14384/14384 [==============================] - 0s 35us/step - loss: 0.0444 - accuracy: 0.9909 - val_loss: 0.0521 - val_accuracy: 0.9868\n",
      "Epoch 8/100\n",
      "14384/14384 [==============================] - 1s 36us/step - loss: 0.0426 - accuracy: 0.9907 - val_loss: 0.0510 - val_accuracy: 0.9868\n",
      "Epoch 9/100\n",
      "14384/14384 [==============================] - 1s 39us/step - loss: 0.0414 - accuracy: 0.9905 - val_loss: 0.0480 - val_accuracy: 0.9868\n",
      "Epoch 10/100\n",
      "14384/14384 [==============================] - 1s 38us/step - loss: 0.0402 - accuracy: 0.9908 - val_loss: 0.0478 - val_accuracy: 0.9864\n",
      "Epoch 11/100\n",
      "14384/14384 [==============================] - 1s 37us/step - loss: 0.0394 - accuracy: 0.9908 - val_loss: 0.0458 - val_accuracy: 0.9864\n",
      "Epoch 12/100\n",
      "14384/14384 [==============================] - 1s 38us/step - loss: 0.0386 - accuracy: 0.9906 - val_loss: 0.0485 - val_accuracy: 0.9868\n",
      "Epoch 13/100\n",
      "14384/14384 [==============================] - 1s 38us/step - loss: 0.0381 - accuracy: 0.9909 - val_loss: 0.0468 - val_accuracy: 0.9868\n",
      "Epoch 14/100\n",
      "14384/14384 [==============================] - 1s 39us/step - loss: 0.0378 - accuracy: 0.9910 - val_loss: 0.0438 - val_accuracy: 0.9871\n",
      "Epoch 15/100\n",
      "14384/14384 [==============================] - 1s 36us/step - loss: 0.0371 - accuracy: 0.9908 - val_loss: 0.0438 - val_accuracy: 0.9868\n",
      "Epoch 16/100\n",
      "14384/14384 [==============================] - 1s 36us/step - loss: 0.0365 - accuracy: 0.9908 - val_loss: 0.0457 - val_accuracy: 0.9868\n",
      "Epoch 17/100\n",
      "14384/14384 [==============================] - 1s 36us/step - loss: 0.0365 - accuracy: 0.9910 - val_loss: 0.0423 - val_accuracy: 0.9868\n",
      "Epoch 18/100\n",
      "14384/14384 [==============================] - 1s 35us/step - loss: 0.0361 - accuracy: 0.9908 - val_loss: 0.0417 - val_accuracy: 0.9864\n",
      "Epoch 19/100\n",
      "14384/14384 [==============================] - 1s 35us/step - loss: 0.0354 - accuracy: 0.9909 - val_loss: 0.0414 - val_accuracy: 0.9868\n",
      "Epoch 20/100\n",
      "14384/14384 [==============================] - 0s 35us/step - loss: 0.0351 - accuracy: 0.9910 - val_loss: 0.0411 - val_accuracy: 0.9864\n",
      "Epoch 21/100\n",
      "14384/14384 [==============================] - 1s 36us/step - loss: 0.0347 - accuracy: 0.9909 - val_loss: 0.0436 - val_accuracy: 0.9871\n",
      "Epoch 22/100\n",
      "14384/14384 [==============================] - 1s 36us/step - loss: 0.0346 - accuracy: 0.9909 - val_loss: 0.0417 - val_accuracy: 0.9868\n",
      "Epoch 23/100\n",
      "14384/14384 [==============================] - 1s 35us/step - loss: 0.0344 - accuracy: 0.9909 - val_loss: 0.0407 - val_accuracy: 0.9868\n",
      "Epoch 24/100\n",
      "14384/14384 [==============================] - 1s 35us/step - loss: 0.0343 - accuracy: 0.9909 - val_loss: 0.0436 - val_accuracy: 0.9868\n",
      "Epoch 25/100\n",
      "14384/14384 [==============================] - 1s 35us/step - loss: 0.0336 - accuracy: 0.9908 - val_loss: 0.0393 - val_accuracy: 0.9868\n",
      "Epoch 26/100\n",
      "14384/14384 [==============================] - 1s 35us/step - loss: 0.0337 - accuracy: 0.9908 - val_loss: 0.0395 - val_accuracy: 0.9868\n",
      "Epoch 27/100\n",
      "14384/14384 [==============================] - 0s 35us/step - loss: 0.0334 - accuracy: 0.9909 - val_loss: 0.0420 - val_accuracy: 0.9868\n",
      "Epoch 28/100\n",
      "14384/14384 [==============================] - 1s 35us/step - loss: 0.0331 - accuracy: 0.9906 - val_loss: 0.0388 - val_accuracy: 0.9864\n",
      "Epoch 29/100\n",
      "14384/14384 [==============================] - 1s 35us/step - loss: 0.0327 - accuracy: 0.9907 - val_loss: 0.0382 - val_accuracy: 0.9864\n",
      "Epoch 30/100\n",
      "14384/14384 [==============================] - 1s 36us/step - loss: 0.0330 - accuracy: 0.9907 - val_loss: 0.0387 - val_accuracy: 0.9868\n",
      "Epoch 31/100\n",
      "14384/14384 [==============================] - 1s 36us/step - loss: 0.0331 - accuracy: 0.9907 - val_loss: 0.0393 - val_accuracy: 0.9864\n",
      "Epoch 32/100\n",
      "14384/14384 [==============================] - 1s 36us/step - loss: 0.0331 - accuracy: 0.9908 - val_loss: 0.0379 - val_accuracy: 0.9868\n",
      "Epoch 33/100\n",
      "14384/14384 [==============================] - 1s 40us/step - loss: 0.0329 - accuracy: 0.9908 - val_loss: 0.0373 - val_accuracy: 0.9871\n",
      "Epoch 34/100\n",
      "14384/14384 [==============================] - 1s 36us/step - loss: 0.0327 - accuracy: 0.9908 - val_loss: 0.0381 - val_accuracy: 0.9868\n",
      "Epoch 35/100\n",
      "14384/14384 [==============================] - 1s 37us/step - loss: 0.0326 - accuracy: 0.9908 - val_loss: 0.0371 - val_accuracy: 0.9868\n",
      "Epoch 36/100\n",
      "14384/14384 [==============================] - 1s 36us/step - loss: 0.0323 - accuracy: 0.9909 - val_loss: 0.0409 - val_accuracy: 0.9864\n",
      "Epoch 37/100\n",
      "14384/14384 [==============================] - 1s 36us/step - loss: 0.0325 - accuracy: 0.9907 - val_loss: 0.0409 - val_accuracy: 0.9868\n",
      "Epoch 38/100\n",
      "14384/14384 [==============================] - 0s 34us/step - loss: 0.0321 - accuracy: 0.9908 - val_loss: 0.0395 - val_accuracy: 0.9871\n",
      "Epoch 39/100\n",
      "14384/14384 [==============================] - 1s 37us/step - loss: 0.0325 - accuracy: 0.9908 - val_loss: 0.0412 - val_accuracy: 0.9871\n",
      "Epoch 40/100\n",
      "14384/14384 [==============================] - 1s 36us/step - loss: 0.0321 - accuracy: 0.9908 - val_loss: 0.0392 - val_accuracy: 0.9864\n",
      "Epoch 41/100\n",
      "14384/14384 [==============================] - 1s 40us/step - loss: 0.0321 - accuracy: 0.9908 - val_loss: 0.0380 - val_accuracy: 0.9868\n",
      "Epoch 42/100\n",
      "14384/14384 [==============================] - 1s 37us/step - loss: 0.0323 - accuracy: 0.9906 - val_loss: 0.0380 - val_accuracy: 0.9871\n",
      "Epoch 43/100\n",
      "14384/14384 [==============================] - 1s 38us/step - loss: 0.0324 - accuracy: 0.9909 - val_loss: 0.0380 - val_accuracy: 0.9868\n",
      "Epoch 44/100\n",
      "14384/14384 [==============================] - 1s 35us/step - loss: 0.0317 - accuracy: 0.9908 - val_loss: 0.0402 - val_accuracy: 0.9868\n",
      "Epoch 45/100\n",
      "14384/14384 [==============================] - 1s 37us/step - loss: 0.0318 - accuracy: 0.9906 - val_loss: 0.0379 - val_accuracy: 0.9875\n"
     ]
    }
   ],
   "source": [
    "es = EarlyStopping(monitor='val_loss', patience=10)\n",
    "mc = ModelCheckpoint('best_model_NOREG.h5', monitor='val_loss', save_best_only=True)\n",
    "\n",
    "model4 = build_model()\n",
    "history4 = model4.fit(X_train, y_train, validation_data=(X_val, y_val), epochs=100, \n",
    "                      batch_size=10, callbacks=[es,mc]).history"
   ]
  },
  {
   "cell_type": "code",
   "execution_count": 39,
   "metadata": {},
   "outputs": [
    {
     "name": "stdout",
     "output_type": "stream",
     "text": [
      "6168/6168 [==============================] - 0s 3us/step\n",
      "Loss 0.034050, Accuracy 0.990921\n",
      "Loss 0.036591, Accuracy 0.990597\n",
      "Loss 0.034048, Accuracy 0.990921\n",
      "Loss 0.034506, Accuracy 0.990921\n"
     ]
    }
   ],
   "source": [
    "test_loss_4, test_acc_4 = model4.evaluate(X_test, y_test)\n",
    "\n",
    "print('Loss %f, Accuracy %f' % (test_loss_1, test_acc_1))\n",
    "print('Loss %f, Accuracy %f' % (test_loss_2, test_acc_2))\n",
    "print('Loss %f, Accuracy %f' % (test_loss_3, test_acc_3))\n",
    "print('Loss %f, Accuracy %f' % (test_loss_4, test_acc_4))"
   ]
  },
  {
   "cell_type": "markdown",
   "metadata": {},
   "source": [
    "## L2 Regularization"
   ]
  },
  {
   "cell_type": "code",
   "execution_count": 48,
   "metadata": {},
   "outputs": [],
   "source": [
    "from keras.regularizers import l2\n",
    "\n",
    "def build_L2_model():\n",
    "    # define the model\n",
    "    model = Sequential()\n",
    "\n",
    "    n_feature = X_train.shape[1]\n",
    "    model.add(Dense(7, activation='relu', input_shape=(n_feature,), kernel_regularizer=l2(0.01)))\n",
    "    model.add(Dense(5, activation='relu', kernel_regularizer=l2(0.01)))\n",
    "    model.add(Dense(3, activation='relu', kernel_regularizer=l2(0.01)))\n",
    "    model.add(Dense(1, activation='sigmoid', kernel_regularizer=l2(0.01)))\n",
    "\n",
    "    #compile the model\n",
    "    model.compile(loss='binary_crossentropy', optimizer='adam', metrics=['accuracy'])\n",
    "    \n",
    "    return model"
   ]
  },
  {
   "cell_type": "code",
   "execution_count": 49,
   "metadata": {},
   "outputs": [
    {
     "name": "stdout",
     "output_type": "stream",
     "text": [
      "Train on 14384 samples, validate on 2877 samples\n",
      "Epoch 1/1000\n",
      "14384/14384 [==============================] - 0s 34us/step - loss: 0.3720 - accuracy: 0.8680 - val_loss: 0.2125 - val_accuracy: 0.9868\n",
      "Epoch 2/1000\n",
      "14384/14384 [==============================] - 1s 37us/step - loss: 0.1774 - accuracy: 0.9903 - val_loss: 0.1600 - val_accuracy: 0.9868\n",
      "Epoch 3/1000\n",
      "14384/14384 [==============================] - 1s 36us/step - loss: 0.1445 - accuracy: 0.9904 - val_loss: 0.1428 - val_accuracy: 0.9864\n",
      "Epoch 4/1000\n",
      "14384/14384 [==============================] - 1s 37us/step - loss: 0.1326 - accuracy: 0.9905 - val_loss: 0.1359 - val_accuracy: 0.9864\n",
      "Epoch 5/1000\n",
      "14384/14384 [==============================] - 1s 36us/step - loss: 0.1281 - accuracy: 0.9905 - val_loss: 0.1358 - val_accuracy: 0.9868\n",
      "Epoch 6/1000\n",
      "14384/14384 [==============================] - 1s 37us/step - loss: 0.1264 - accuracy: 0.9906 - val_loss: 0.1337 - val_accuracy: 0.9864\n",
      "Epoch 7/1000\n",
      "14384/14384 [==============================] - 1s 38us/step - loss: 0.1256 - accuracy: 0.9905 - val_loss: 0.1337 - val_accuracy: 0.9868\n",
      "Epoch 8/1000\n",
      "14384/14384 [==============================] - 1s 37us/step - loss: 0.1252 - accuracy: 0.9907 - val_loss: 0.1322 - val_accuracy: 0.9864\n",
      "Epoch 9/1000\n",
      "14384/14384 [==============================] - 1s 37us/step - loss: 0.1250 - accuracy: 0.9905 - val_loss: 0.1323 - val_accuracy: 0.9864\n",
      "Epoch 10/1000\n",
      "14384/14384 [==============================] - 1s 37us/step - loss: 0.1248 - accuracy: 0.9905 - val_loss: 0.1316 - val_accuracy: 0.9864\n",
      "Epoch 11/1000\n",
      "14384/14384 [==============================] - 1s 37us/step - loss: 0.1248 - accuracy: 0.9906 - val_loss: 0.1325 - val_accuracy: 0.9864\n",
      "Epoch 12/1000\n",
      "14384/14384 [==============================] - 1s 37us/step - loss: 0.1246 - accuracy: 0.9905 - val_loss: 0.1319 - val_accuracy: 0.9864\n",
      "Epoch 13/1000\n",
      "14384/14384 [==============================] - 1s 37us/step - loss: 0.1246 - accuracy: 0.9905 - val_loss: 0.1328 - val_accuracy: 0.9864\n",
      "Epoch 14/1000\n",
      "14384/14384 [==============================] - 1s 37us/step - loss: 0.1248 - accuracy: 0.9906 - val_loss: 0.1321 - val_accuracy: 0.9864\n",
      "Epoch 15/1000\n",
      "14384/14384 [==============================] - 1s 37us/step - loss: 0.1246 - accuracy: 0.9906 - val_loss: 0.1323 - val_accuracy: 0.9864\n",
      "Epoch 16/1000\n",
      "14384/14384 [==============================] - 1s 37us/step - loss: 0.1246 - accuracy: 0.9906 - val_loss: 0.1325 - val_accuracy: 0.9864\n",
      "Epoch 17/1000\n",
      "14384/14384 [==============================] - 1s 37us/step - loss: 0.1246 - accuracy: 0.9906 - val_loss: 0.1323 - val_accuracy: 0.9864\n",
      "Epoch 18/1000\n",
      "14384/14384 [==============================] - 1s 36us/step - loss: 0.1246 - accuracy: 0.9906 - val_loss: 0.1324 - val_accuracy: 0.9864\n",
      "Epoch 19/1000\n",
      "14384/14384 [==============================] - 1s 37us/step - loss: 0.1246 - accuracy: 0.9905 - val_loss: 0.1332 - val_accuracy: 0.9864\n",
      "Epoch 20/1000\n",
      "14384/14384 [==============================] - 1s 37us/step - loss: 0.1246 - accuracy: 0.9906 - val_loss: 0.1320 - val_accuracy: 0.9864\n"
     ]
    }
   ],
   "source": [
    "mc = ModelCheckpoint('best_model_L2.h5', monitor='val_loss', save_best_only=True)\n",
    "\n",
    "L2_model = build_L2_model()\n",
    "h_L2 = L2_model.fit(X_train, y_train, validation_data=(X_val, y_val), epochs=1000, \n",
    "                    batch_size=10, callbacks=[es,mc]).history"
   ]
  },
  {
   "cell_type": "code",
   "execution_count": 50,
   "metadata": {},
   "outputs": [],
   "source": [
    "from keras.layers import Dropout\n",
    "\n",
    "def build_DROPOUT_model():\n",
    "    # define the model\n",
    "    model = Sequential()\n",
    "\n",
    "    n_feature = X_train.shape[1]\n",
    "    h_dim=100\n",
    "    model.add(Dense(7, activation='relu', input_shape=(n_feature,)))\n",
    "    model.add(Dropout(0.2))\n",
    "    model.add(Dense(5, activation='relu'))\n",
    "    model.add(Dropout(0.2))\n",
    "    model.add(Dense(3, activation='relu'))\n",
    "    model.add(Dropout(0.2))\n",
    "    model.add(Dense(1, activation='sigmoid'))\n",
    "    \n",
    "    #compile the model\n",
    "    model.compile(loss='binary_crossentropy', optimizer='adam', metrics=['accuracy'])\n",
    "    \n",
    "    return model"
   ]
  },
  {
   "cell_type": "code",
   "execution_count": 51,
   "metadata": {},
   "outputs": [
    {
     "name": "stdout",
     "output_type": "stream",
     "text": [
      "Train on 14384 samples, validate on 2877 samples\n",
      "Epoch 1/1000\n",
      "14384/14384 [==============================] - 1s 47us/step - loss: 0.3615 - accuracy: 0.8614 - val_loss: 0.0649 - val_accuracy: 0.9871\n",
      "Epoch 2/1000\n",
      "14384/14384 [==============================] - 1s 48us/step - loss: 0.1432 - accuracy: 0.9344 - val_loss: 0.0521 - val_accuracy: 0.9871\n",
      "Epoch 3/1000\n",
      "14384/14384 [==============================] - 1s 48us/step - loss: 0.1196 - accuracy: 0.9426 - val_loss: 0.0518 - val_accuracy: 0.9871\n",
      "Epoch 4/1000\n",
      "14384/14384 [==============================] - 1s 48us/step - loss: 0.1037 - accuracy: 0.9481 - val_loss: 0.0521 - val_accuracy: 0.9871\n",
      "Epoch 5/1000\n",
      "14384/14384 [==============================] - 1s 48us/step - loss: 0.0982 - accuracy: 0.9582 - val_loss: 0.0504 - val_accuracy: 0.9871\n",
      "Epoch 6/1000\n",
      "14384/14384 [==============================] - 1s 48us/step - loss: 0.1047 - accuracy: 0.9588 - val_loss: 0.0505 - val_accuracy: 0.9871\n",
      "Epoch 7/1000\n",
      "14384/14384 [==============================] - 1s 47us/step - loss: 0.0968 - accuracy: 0.9590 - val_loss: 0.0498 - val_accuracy: 0.9871\n",
      "Epoch 8/1000\n",
      "14384/14384 [==============================] - 1s 49us/step - loss: 0.0990 - accuracy: 0.9596 - val_loss: 0.0508 - val_accuracy: 0.9871\n",
      "Epoch 9/1000\n",
      "14384/14384 [==============================] - 1s 48us/step - loss: 0.1025 - accuracy: 0.9584 - val_loss: 0.0508 - val_accuracy: 0.9871\n",
      "Epoch 10/1000\n",
      "14384/14384 [==============================] - 1s 50us/step - loss: 0.0966 - accuracy: 0.9590 - val_loss: 0.0498 - val_accuracy: 0.9871\n",
      "Epoch 11/1000\n",
      "14384/14384 [==============================] - 1s 48us/step - loss: 0.0937 - accuracy: 0.9609 - val_loss: 0.0495 - val_accuracy: 0.9871\n",
      "Epoch 12/1000\n",
      "14384/14384 [==============================] - 1s 48us/step - loss: 0.0994 - accuracy: 0.9563 - val_loss: 0.0502 - val_accuracy: 0.9871\n",
      "Epoch 13/1000\n",
      "14384/14384 [==============================] - 1s 48us/step - loss: 0.0944 - accuracy: 0.9613 - val_loss: 0.0510 - val_accuracy: 0.9871\n",
      "Epoch 14/1000\n",
      "14384/14384 [==============================] - 1s 48us/step - loss: 0.0989 - accuracy: 0.9572 - val_loss: 0.0496 - val_accuracy: 0.9871\n",
      "Epoch 15/1000\n",
      "14384/14384 [==============================] - 1s 50us/step - loss: 0.0961 - accuracy: 0.9617 - val_loss: 0.0494 - val_accuracy: 0.9871\n",
      "Epoch 16/1000\n",
      "14384/14384 [==============================] - 1s 48us/step - loss: 0.0987 - accuracy: 0.9596 - val_loss: 0.0497 - val_accuracy: 0.9871\n",
      "Epoch 17/1000\n",
      "14384/14384 [==============================] - 1s 48us/step - loss: 0.0959 - accuracy: 0.9592 - val_loss: 0.0498 - val_accuracy: 0.9871\n",
      "Epoch 18/1000\n",
      "14384/14384 [==============================] - 1s 48us/step - loss: 0.0977 - accuracy: 0.9571 - val_loss: 0.0517 - val_accuracy: 0.9871\n",
      "Epoch 19/1000\n",
      "14384/14384 [==============================] - 1s 48us/step - loss: 0.0958 - accuracy: 0.9609 - val_loss: 0.0496 - val_accuracy: 0.9871\n",
      "Epoch 20/1000\n",
      "14384/14384 [==============================] - 1s 48us/step - loss: 0.0951 - accuracy: 0.9599 - val_loss: 0.0496 - val_accuracy: 0.9871\n",
      "Epoch 21/1000\n",
      "14384/14384 [==============================] - 1s 48us/step - loss: 0.0935 - accuracy: 0.9607 - val_loss: 0.0496 - val_accuracy: 0.9871\n",
      "Epoch 22/1000\n",
      "14384/14384 [==============================] - 1s 49us/step - loss: 0.1016 - accuracy: 0.9579 - val_loss: 0.0499 - val_accuracy: 0.9871\n",
      "Epoch 23/1000\n",
      "14384/14384 [==============================] - 1s 48us/step - loss: 0.0984 - accuracy: 0.9593 - val_loss: 0.0489 - val_accuracy: 0.9871\n",
      "Epoch 24/1000\n",
      "14384/14384 [==============================] - 1s 48us/step - loss: 0.0905 - accuracy: 0.9627 - val_loss: 0.0500 - val_accuracy: 0.9871\n",
      "Epoch 25/1000\n",
      "14384/14384 [==============================] - 1s 49us/step - loss: 0.0958 - accuracy: 0.9577 - val_loss: 0.0495 - val_accuracy: 0.9871\n",
      "Epoch 26/1000\n",
      "14384/14384 [==============================] - 1s 48us/step - loss: 0.0947 - accuracy: 0.9605 - val_loss: 0.0490 - val_accuracy: 0.9871\n",
      "Epoch 27/1000\n",
      "14384/14384 [==============================] - 1s 48us/step - loss: 0.0923 - accuracy: 0.9595 - val_loss: 0.0489 - val_accuracy: 0.9871\n",
      "Epoch 28/1000\n",
      "14384/14384 [==============================] - 1s 49us/step - loss: 0.1009 - accuracy: 0.9572 - val_loss: 0.0491 - val_accuracy: 0.9871\n",
      "Epoch 29/1000\n",
      "14384/14384 [==============================] - 1s 49us/step - loss: 0.0952 - accuracy: 0.9584 - val_loss: 0.0500 - val_accuracy: 0.9871\n",
      "Epoch 30/1000\n",
      "14384/14384 [==============================] - 1s 48us/step - loss: 0.0941 - accuracy: 0.9588 - val_loss: 0.0502 - val_accuracy: 0.9871\n",
      "Epoch 31/1000\n",
      "14384/14384 [==============================] - 1s 48us/step - loss: 0.1017 - accuracy: 0.9571 - val_loss: 0.0489 - val_accuracy: 0.9871\n",
      "Epoch 32/1000\n",
      "14384/14384 [==============================] - 1s 48us/step - loss: 0.0953 - accuracy: 0.9606 - val_loss: 0.0487 - val_accuracy: 0.9871\n",
      "Epoch 33/1000\n",
      "14384/14384 [==============================] - 1s 48us/step - loss: 0.0988 - accuracy: 0.9591 - val_loss: 0.0495 - val_accuracy: 0.9871\n",
      "Epoch 34/1000\n",
      "14384/14384 [==============================] - 1s 49us/step - loss: 0.0927 - accuracy: 0.9605 - val_loss: 0.0488 - val_accuracy: 0.9871\n",
      "Epoch 35/1000\n",
      "14384/14384 [==============================] - 1s 49us/step - loss: 0.0957 - accuracy: 0.9602 - val_loss: 0.0491 - val_accuracy: 0.9871\n",
      "Epoch 36/1000\n",
      "14384/14384 [==============================] - 1s 54us/step - loss: 0.0937 - accuracy: 0.9591 - val_loss: 0.0490 - val_accuracy: 0.9871\n",
      "Epoch 37/1000\n",
      "14384/14384 [==============================] - 1s 54us/step - loss: 0.0968 - accuracy: 0.9574 - val_loss: 0.0503 - val_accuracy: 0.9871\n",
      "Epoch 38/1000\n",
      "14384/14384 [==============================] - 1s 48us/step - loss: 0.0921 - accuracy: 0.9601 - val_loss: 0.0488 - val_accuracy: 0.9871\n",
      "Epoch 39/1000\n",
      "14384/14384 [==============================] - 1s 55us/step - loss: 0.0978 - accuracy: 0.9604 - val_loss: 0.0488 - val_accuracy: 0.9871\n",
      "Epoch 40/1000\n",
      "14384/14384 [==============================] - 1s 49us/step - loss: 0.0946 - accuracy: 0.9596 - val_loss: 0.0507 - val_accuracy: 0.9871\n",
      "Epoch 41/1000\n",
      "14384/14384 [==============================] - 1s 49us/step - loss: 0.0953 - accuracy: 0.9589 - val_loss: 0.0484 - val_accuracy: 0.9871\n",
      "Epoch 42/1000\n",
      "14384/14384 [==============================] - 1s 54us/step - loss: 0.0982 - accuracy: 0.9598 - val_loss: 0.0508 - val_accuracy: 0.9868\n",
      "Epoch 43/1000\n",
      "14384/14384 [==============================] - 1s 52us/step - loss: 0.0997 - accuracy: 0.9580 - val_loss: 0.0491 - val_accuracy: 0.9871\n",
      "Epoch 44/1000\n",
      "14384/14384 [==============================] - 1s 49us/step - loss: 0.0979 - accuracy: 0.9575 - val_loss: 0.0491 - val_accuracy: 0.9871\n",
      "Epoch 45/1000\n",
      "14384/14384 [==============================] - 1s 51us/step - loss: 0.0999 - accuracy: 0.9568 - val_loss: 0.0490 - val_accuracy: 0.9871\n",
      "Epoch 46/1000\n",
      "14384/14384 [==============================] - 1s 51us/step - loss: 0.0965 - accuracy: 0.9580 - val_loss: 0.0492 - val_accuracy: 0.9871\n",
      "Epoch 47/1000\n",
      "14384/14384 [==============================] - 1s 51us/step - loss: 0.0935 - accuracy: 0.9592 - val_loss: 0.0486 - val_accuracy: 0.9871\n",
      "Epoch 48/1000\n",
      "14384/14384 [==============================] - 1s 49us/step - loss: 0.0938 - accuracy: 0.9613 - val_loss: 0.0488 - val_accuracy: 0.9871\n",
      "Epoch 49/1000\n",
      "14384/14384 [==============================] - 1s 53us/step - loss: 0.0940 - accuracy: 0.9591 - val_loss: 0.0482 - val_accuracy: 0.9871\n",
      "Epoch 50/1000\n",
      "14384/14384 [==============================] - 1s 54us/step - loss: 0.0982 - accuracy: 0.9597 - val_loss: 0.0482 - val_accuracy: 0.9871\n",
      "Epoch 51/1000\n",
      "14384/14384 [==============================] - 1s 49us/step - loss: 0.0970 - accuracy: 0.9593 - val_loss: 0.0487 - val_accuracy: 0.9871\n",
      "Epoch 52/1000\n",
      "14384/14384 [==============================] - 1s 53us/step - loss: 0.0968 - accuracy: 0.9599 - val_loss: 0.0491 - val_accuracy: 0.9871\n",
      "Epoch 53/1000\n",
      "14384/14384 [==============================] - 1s 53us/step - loss: 0.0962 - accuracy: 0.9609 - val_loss: 0.0492 - val_accuracy: 0.9871\n",
      "Epoch 54/1000\n",
      "14384/14384 [==============================] - 1s 53us/step - loss: 0.0999 - accuracy: 0.9593 - val_loss: 0.0492 - val_accuracy: 0.9868\n",
      "Epoch 55/1000\n",
      "14384/14384 [==============================] - 1s 47us/step - loss: 0.0936 - accuracy: 0.9611 - val_loss: 0.0493 - val_accuracy: 0.9868\n",
      "Epoch 56/1000\n",
      "14384/14384 [==============================] - 1s 48us/step - loss: 0.0956 - accuracy: 0.9605 - val_loss: 0.0485 - val_accuracy: 0.9871\n",
      "Epoch 57/1000\n",
      "14384/14384 [==============================] - 1s 48us/step - loss: 0.0971 - accuracy: 0.9591 - val_loss: 0.0490 - val_accuracy: 0.9871\n",
      "Epoch 58/1000\n",
      "14384/14384 [==============================] - 1s 46us/step - loss: 0.0969 - accuracy: 0.9591 - val_loss: 0.0488 - val_accuracy: 0.9871\n",
      "Epoch 59/1000\n",
      "14384/14384 [==============================] - 1s 50us/step - loss: 0.0949 - accuracy: 0.9608 - val_loss: 0.0483 - val_accuracy: 0.9871\n",
      "Epoch 60/1000\n",
      "14384/14384 [==============================] - 1s 49us/step - loss: 0.0959 - accuracy: 0.9600 - val_loss: 0.0489 - val_accuracy: 0.9871\n"
     ]
    }
   ],
   "source": [
    "mc = ModelCheckpoint('best_model_DROPOUT.h5', monitor='val_loss', save_best_only=True)\n",
    "\n",
    "DROPOUT_model = build_DROPOUT_model()\n",
    "h_DROPOUT = DROPOUT_model.fit(X_train, y_train, validation_data=(X_val, y_val), \n",
    "                              epochs=1000, batch_size=10, callbacks=[es,mc]).history"
   ]
  },
  {
   "cell_type": "code",
   "execution_count": 52,
   "metadata": {},
   "outputs": [
    {
     "name": "stdout",
     "output_type": "stream",
     "text": [
      "6168/6168 [==============================] - 0s 4us/step\n",
      "6168/6168 [==============================] - 0s 3us/step\n",
      "6168/6168 [==============================] - 0s 6us/step\n"
     ]
    }
   ],
   "source": [
    "# laod best models and test them\n",
    "from keras.models import load_model\n",
    "\n",
    "best_NOREG_model = load_model('best_model_NOREG.h5')\n",
    "best_L2_model = load_model('best_model_L2.h5')\n",
    "best_DROPOUT_model = load_model('best_model_DROPOUT.h5')\n",
    "\n",
    "loss_NOREG, acc_NOREG = best_NOREG_model.evaluate(X_test, y_test)\n",
    "loss_L2, acc_L2 = best_L2_model.evaluate(X_test, y_test)\n",
    "loss_DROPOUT, acc_DROPOUT = best_DROPOUT_model.evaluate(X_test, y_test)"
   ]
  },
  {
   "cell_type": "code",
   "execution_count": 53,
   "metadata": {},
   "outputs": [
    {
     "name": "stdout",
     "output_type": "stream",
     "text": [
      "Loss 0.034418, Accuracy 0.991083\n",
      "Loss 0.126730, Accuracy 0.990921\n",
      "Loss 0.040330, Accuracy 0.990921\n"
     ]
    }
   ],
   "source": [
    "print('Loss %f, Accuracy %f' % (loss_NOREG, acc_NOREG))\n",
    "print('Loss %f, Accuracy %f' % (loss_L2, acc_L2))\n",
    "print('Loss %f, Accuracy %f' % (loss_DROPOUT, acc_DROPOUT))"
   ]
  },
  {
   "cell_type": "code",
   "execution_count": null,
   "metadata": {},
   "outputs": [],
   "source": []
  }
 ],
 "metadata": {
  "kernelspec": {
   "display_name": "Python 3",
   "language": "python",
   "name": "python3"
  },
  "language_info": {
   "codemirror_mode": {
    "name": "ipython",
    "version": 3
   },
   "file_extension": ".py",
   "mimetype": "text/x-python",
   "name": "python",
   "nbconvert_exporter": "python",
   "pygments_lexer": "ipython3",
   "version": "3.7.6"
  }
 },
 "nbformat": 4,
 "nbformat_minor": 2
}
